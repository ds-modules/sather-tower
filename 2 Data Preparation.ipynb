{
 "cells": [
  {
   "cell_type": "markdown",
   "metadata": {
    "cell_id": "00001-b7dafa44-a392-4672-87fd-edfa03529188",
    "deepnote_cell_type": "markdown",
    "tags": []
   },
   "source": [
    "# Data Preparation"
   ]
  },
  {
   "cell_type": "markdown",
   "metadata": {
    "cell_id": "00001-025c53ab-faad-43fe-8ea6-caa4696c0c81",
    "deepnote_cell_type": "markdown",
    "tags": []
   },
   "source": [
    "**Welcome to the second notebook in this series!**\n",
    "\n",
    "In this notebook, we will go through the basic steps of data preparation. Depending on the type of data you have, the data preparation process may vary from data set to data set. For the purpose of this notebook we will be doing some simple cleaning and normalization. "
   ]
  },
  {
   "cell_type": "markdown",
   "metadata": {
    "cell_id": "00001-ad60751b-c1a7-43ef-ac45-fc16ead29839",
    "deepnote_cell_type": "markdown",
    "tags": []
   },
   "source": [
    "<br>\n",
    "\n",
    "## Introduction to the Data"
   ]
  },
  {
   "cell_type": "markdown",
   "metadata": {
    "cell_id": "00003-6f536ac9-9bd2-4128-98e5-ea8bc4564efc",
    "deepnote_cell_type": "markdown",
    "tags": []
   },
   "source": [
    "Throughout the next 5 notebooks, we will use data science methods to analyze data collected on the movement of the Campanile over a short period of time. The data we will be working with was collected by attaching one accelerometer to each of the four corners of the Campanile for a total of 30 minutes. The image below shows the positioning of each accelerometer. "
   ]
  },
  {
   "cell_type": "markdown",
   "metadata": {
    "cell_id": "00004-e2d4c975-8a49-4771-8c7b-629457aee239",
    "deepnote_cell_type": "markdown",
    "tags": []
   },
   "source": [
    "![image info](Pictures/GoogleEarthOrientation.png)"
   ]
  },
  {
   "cell_type": "markdown",
   "metadata": {
    "cell_id": "00005-25b2a1a3-482f-45a4-9590-91c00b53be83",
    "deepnote_cell_type": "markdown",
    "tags": []
   },
   "source": [
    "### The Accelerometers\n",
    "Each of the accelerometers measures the movement of the building, which will be refered to as acceleration from this point on. The acceleration is measured in 3 directions: **up & down movement (x variable), left & right movement (y/z variable), and forward & backward movement (y/z variable)**. \n",
    "\n",
    "\n",
    "\n",
    "### The Data \n",
    "For every second of measurement, the accelerometer produced about 500 points of data. With 4 accelerometers measuring over 30 minutes, the original dataset includes roughly 1.2 million rows! Processing all this data would take way too much computing power, so for the purpose of this notebook we will be looking at data from a very small time frame, specifically when the bell in the tower rings. \n",
    "\n",
    "Each row of data contains information on the time, in seconds, acceleration of each variable, in milli-G (mG), the total acceleration of the building, also in mG and the temperature, in degrees Celsius. The majority of our work will be dealing with the time and acceleration of each variable. "
   ]
  },
  {
   "cell_type": "markdown",
   "metadata": {
    "cell_id": "00003-4abe5aa2-d02e-4f6d-8f23-7a1e429357b6",
    "deepnote_cell_type": "markdown",
    "tags": []
   },
   "source": [
    "<br>\n",
    "\n",
    "## Importing the Data"
   ]
  },
  {
   "cell_type": "markdown",
   "metadata": {
    "cell_id": "00004-fc45dd7a-5f05-49b4-9467-706fbe38411c",
    "deepnote_cell_type": "markdown",
    "tags": []
   },
   "source": [
    "We will begin by first importing the datasets into our notebook. In this notebook, we will be importing data using the pandas package. Pandas allows users to import many different types of files, such as excel files, csv files, json files, etc. All you need to know in order to be able to do this is the file type and the string path that leads to the desired file. \n",
    "\n",
    "In the cell below we import our data set by running the code line: **pd.read_csv('sather-tower-files/SouthWest.csv')**\n",
    "- **pd.** is calling the pandas package that we imported under the alias pd\n",
    "- **read_csv** is the function in the pandas package that will read in the given file. Notice that we are importing a CSV file, but if we wanted to import an excel file instead, we would only need to change the function call to **read_excel** rather than **read_csv**.\n",
    "- **'sather-tower-files/SouthWest.csv'** is the parameter to the function call, and represent the path that the file needs to take to arrive at the desired file. \n",
    "\n",
    "\n",
    "**Run the cell below to import our data set!**"
   ]
  },
  {
   "cell_type": "code",
   "execution_count": null,
   "metadata": {
    "cell_id": "00005-d7c1212b-d7f3-446f-80d6-13bd3677e5a8",
    "deepnote_cell_type": "code",
    "deepnote_to_be_reexecuted": false,
    "execution_millis": 1227,
    "execution_start": 1622563003998,
    "source_hash": "f9836854",
    "tags": []
   },
   "outputs": [
    {
     "data": {
      "application/vnd.deepnote.dataframe.v2+json": {
       "column_count": 7,
       "columns": [
        {
         "dtype": "int64",
         "name": "Sample No.",
         "stats": {
          "histogram": [
           {
            "bin_end": 1.4,
            "bin_start": 1,
            "count": 1
           },
           {
            "bin_end": 1.8,
            "bin_start": 1.4,
            "count": 0
           },
           {
            "bin_end": 2.2,
            "bin_start": 1.8,
            "count": 1
           },
           {
            "bin_end": 2.6,
            "bin_start": 2.2,
            "count": 0
           },
           {
            "bin_end": 3,
            "bin_start": 2.6,
            "count": 0
           },
           {
            "bin_end": 3.4000000000000004,
            "bin_start": 3,
            "count": 1
           },
           {
            "bin_end": 3.8000000000000003,
            "bin_start": 3.4000000000000004,
            "count": 0
           },
           {
            "bin_end": 4.2,
            "bin_start": 3.8000000000000003,
            "count": 1
           },
           {
            "bin_end": 4.6,
            "bin_start": 4.2,
            "count": 0
           },
           {
            "bin_end": 5,
            "bin_start": 4.6,
            "count": 1
           }
          ],
          "max": "5",
          "min": "1",
          "nan_count": 0,
          "unique_count": 5
         }
        },
        {
         "dtype": "float64",
         "name": "time[sec]",
         "stats": {
          "histogram": [
           {
            "bin_end": 0.0008,
            "bin_start": 0,
            "count": 1
           },
           {
            "bin_end": 0.0016,
            "bin_start": 0.0008,
            "count": 0
           },
           {
            "bin_end": 0.0024000000000000002,
            "bin_start": 0.0016,
            "count": 1
           },
           {
            "bin_end": 0.0032,
            "bin_start": 0.0024000000000000002,
            "count": 0
           },
           {
            "bin_end": 0.004,
            "bin_start": 0.0032,
            "count": 0
           },
           {
            "bin_end": 0.0048000000000000004,
            "bin_start": 0.004,
            "count": 1
           },
           {
            "bin_end": 0.0056,
            "bin_start": 0.0048000000000000004,
            "count": 0
           },
           {
            "bin_end": 0.0064,
            "bin_start": 0.0056,
            "count": 1
           },
           {
            "bin_end": 0.007200000000000001,
            "bin_start": 0.0064,
            "count": 0
           },
           {
            "bin_end": 0.008,
            "bin_start": 0.007200000000000001,
            "count": 1
           }
          ],
          "max": "0.008",
          "min": "0.0",
          "nan_count": 0,
          "unique_count": 5
         }
        },
        {
         "dtype": "float64",
         "name": "Ax[mG]",
         "stats": {
          "histogram": [
           {
            "bin_end": 1002.2438586000001,
            "bin_start": 1002.240181,
            "count": 1
           },
           {
            "bin_end": 1002.2475362,
            "bin_start": 1002.2438586000001,
            "count": 1
           },
           {
            "bin_end": 1002.2512138,
            "bin_start": 1002.2475362,
            "count": 0
           },
           {
            "bin_end": 1002.2548914,
            "bin_start": 1002.2512138,
            "count": 1
           },
           {
            "bin_end": 1002.2585690000001,
            "bin_start": 1002.2548914,
            "count": 0
           },
           {
            "bin_end": 1002.2622466,
            "bin_start": 1002.2585690000001,
            "count": 1
           },
           {
            "bin_end": 1002.2659242,
            "bin_start": 1002.2622466,
            "count": 0
           },
           {
            "bin_end": 1002.2696018,
            "bin_start": 1002.2659242,
            "count": 0
           },
           {
            "bin_end": 1002.2732794000001,
            "bin_start": 1002.2696018,
            "count": 0
           },
           {
            "bin_end": 1002.276957,
            "bin_start": 1002.2732794000001,
            "count": 1
           }
          ],
          "max": "1002.276957",
          "min": "1002.240181",
          "nan_count": 0,
          "unique_count": 5
         }
        },
        {
         "dtype": "float64",
         "name": "Ay[mG]",
         "stats": {
          "histogram": [
           {
            "bin_end": -33.077794100000006,
            "bin_start": -33.087611,
            "count": 2
           },
           {
            "bin_end": -33.0679772,
            "bin_start": -33.077794100000006,
            "count": 0
           },
           {
            "bin_end": -33.0581603,
            "bin_start": -33.0679772,
            "count": 0
           },
           {
            "bin_end": -33.0483434,
            "bin_start": -33.0581603,
            "count": 0
           },
           {
            "bin_end": -33.0385265,
            "bin_start": -33.0483434,
            "count": 1
           },
           {
            "bin_end": -33.0287096,
            "bin_start": -33.0385265,
            "count": 1
           },
           {
            "bin_end": -33.018892699999995,
            "bin_start": -33.0287096,
            "count": 0
           },
           {
            "bin_end": -33.0090758,
            "bin_start": -33.018892699999995,
            "count": 0
           },
           {
            "bin_end": -32.9992589,
            "bin_start": -33.0090758,
            "count": 0
           },
           {
            "bin_end": -32.989442,
            "bin_start": -32.9992589,
            "count": 1
           }
          ],
          "max": "-32.989442",
          "min": "-33.087611",
          "nan_count": 0,
          "unique_count": 5
         }
        },
        {
         "dtype": "float64",
         "name": "Az[mG]",
         "stats": {
          "histogram": [
           {
            "bin_end": 3.4278752999999997,
            "bin_start": 3.417969,
            "count": 1
           },
           {
            "bin_end": 3.4377815999999997,
            "bin_start": 3.4278752999999997,
            "count": 0
           },
           {
            "bin_end": 3.4476879,
            "bin_start": 3.4377815999999997,
            "count": 0
           },
           {
            "bin_end": 3.4575942,
            "bin_start": 3.4476879,
            "count": 1
           },
           {
            "bin_end": 3.4675005,
            "bin_start": 3.4575942,
            "count": 0
           },
           {
            "bin_end": 3.4774068,
            "bin_start": 3.4675005,
            "count": 0
           },
           {
            "bin_end": 3.4873130999999997,
            "bin_start": 3.4774068,
            "count": 1
           },
           {
            "bin_end": 3.4972194,
            "bin_start": 3.4873130999999997,
            "count": 0
           },
           {
            "bin_end": 3.5071257,
            "bin_start": 3.4972194,
            "count": 1
           },
           {
            "bin_end": 3.517032,
            "bin_start": 3.5071257,
            "count": 1
           }
          ],
          "max": "3.517032",
          "min": "3.417969",
          "nan_count": 0,
          "unique_count": 5
         }
        },
        {
         "dtype": "float64",
         "name": "ATotal[mG]",
         "stats": {
          "histogram": [
           {
            "bin_end": 1002.7944257,
            "bin_start": 1002.79057,
            "count": 1
           },
           {
            "bin_end": 1002.7982814,
            "bin_start": 1002.7944257,
            "count": 1
           },
           {
            "bin_end": 1002.8021371,
            "bin_start": 1002.7982814,
            "count": 1
           },
           {
            "bin_end": 1002.8059928,
            "bin_start": 1002.8021371,
            "count": 0
           },
           {
            "bin_end": 1002.8098485,
            "bin_start": 1002.8059928,
            "count": 0
           },
           {
            "bin_end": 1002.8137042,
            "bin_start": 1002.8098485,
            "count": 1
           },
           {
            "bin_end": 1002.8175599,
            "bin_start": 1002.8137042,
            "count": 0
           },
           {
            "bin_end": 1002.8214156,
            "bin_start": 1002.8175599,
            "count": 0
           },
           {
            "bin_end": 1002.8252712999999,
            "bin_start": 1002.8214156,
            "count": 0
           },
           {
            "bin_end": 1002.829127,
            "bin_start": 1002.8252712999999,
            "count": 1
           }
          ],
          "max": "1002.829127",
          "min": "1002.79057",
          "nan_count": 0,
          "unique_count": 5
         }
        },
        {
         "dtype": "float64",
         "name": "Ts[deg.C]",
         "stats": {
          "histogram": [
           {
            "bin_end": 15.52285,
            "bin_start": 15.42285,
            "count": 0
           },
           {
            "bin_end": 15.62285,
            "bin_start": 15.52285,
            "count": 0
           },
           {
            "bin_end": 15.722850000000001,
            "bin_start": 15.62285,
            "count": 0
           },
           {
            "bin_end": 15.82285,
            "bin_start": 15.722850000000001,
            "count": 0
           },
           {
            "bin_end": 15.92285,
            "bin_start": 15.82285,
            "count": 0
           },
           {
            "bin_end": 16.022850000000002,
            "bin_start": 15.92285,
            "count": 5
           },
           {
            "bin_end": 16.12285,
            "bin_start": 16.022850000000002,
            "count": 0
           },
           {
            "bin_end": 16.22285,
            "bin_start": 16.12285,
            "count": 0
           },
           {
            "bin_end": 16.32285,
            "bin_start": 16.22285,
            "count": 0
           },
           {
            "bin_end": 16.42285,
            "bin_start": 16.32285,
            "count": 0
           }
          ],
          "max": "15.92285",
          "min": "15.92285",
          "nan_count": 0,
          "unique_count": 1
         }
        },
        {
         "dtype": "int64",
         "name": "_deepnote_index_column"
        }
       ],
       "row_count": 5,
       "rows_bottom": null,
       "rows_top": [
        {
         "ATotal[mG]": 1002.799998,
         "Ax[mG]": 1002.251267,
         "Ay[mG]": -32.989442,
         "Az[mG]": 3.453851,
         "Sample No.": 1,
         "Ts[deg.C]": 15.92285,
         "_deepnote_index_column": 0,
         "time[sec]": 0
        },
        {
         "ATotal[mG]": 1002.79057,
         "Ax[mG]": 1002.240181,
         "Ay[mG]": -33.043385,
         "Az[mG]": 3.417969,
         "Sample No.": 2,
         "Ts[deg.C]": 15.92285,
         "_deepnote_index_column": 1,
         "time[sec]": 0.002
        },
        {
         "ATotal[mG]": 1002.812461,
         "Ax[mG]": 1002.260506,
         "Ay[mG]": -33.084989,
         "Az[mG]": 3.477454,
         "Sample No.": 3,
         "Ts[deg.C]": 15.92285,
         "_deepnote_index_column": 2,
         "time[sec]": 0.004
        },
        {
         "ATotal[mG]": 1002.829127,
         "Ax[mG]": 1002.276957,
         "Ay[mG]": -33.087611,
         "Az[mG]": 3.517032,
         "Sample No.": 4,
         "Ts[deg.C]": 15.92285,
         "_deepnote_index_column": 3,
         "time[sec]": 0.006
        },
        {
         "ATotal[mG]": 1002.796968,
         "Ax[mG]": 1002.246618,
         "Ay[mG]": -33.03355,
         "Az[mG]": 3.501534,
         "Sample No.": 5,
         "Ts[deg.C]": 15.92285,
         "_deepnote_index_column": 4,
         "time[sec]": 0.008
        }
       ]
      },
      "text/html": [
       "<div>\n",
       "<style scoped>\n",
       "    .dataframe tbody tr th:only-of-type {\n",
       "        vertical-align: middle;\n",
       "    }\n",
       "\n",
       "    .dataframe tbody tr th {\n",
       "        vertical-align: top;\n",
       "    }\n",
       "\n",
       "    .dataframe thead th {\n",
       "        text-align: right;\n",
       "    }\n",
       "</style>\n",
       "<table border=\"1\" class=\"dataframe\">\n",
       "  <thead>\n",
       "    <tr style=\"text-align: right;\">\n",
       "      <th></th>\n",
       "      <th>Sample No.</th>\n",
       "      <th>time[sec]</th>\n",
       "      <th>Ax[mG]</th>\n",
       "      <th>Ay[mG]</th>\n",
       "      <th>Az[mG]</th>\n",
       "      <th>ATotal[mG]</th>\n",
       "      <th>Ts[deg.C]</th>\n",
       "    </tr>\n",
       "  </thead>\n",
       "  <tbody>\n",
       "    <tr>\n",
       "      <th>0</th>\n",
       "      <td>1</td>\n",
       "      <td>0.000</td>\n",
       "      <td>1002.251267</td>\n",
       "      <td>-32.989442</td>\n",
       "      <td>3.453851</td>\n",
       "      <td>1002.799998</td>\n",
       "      <td>15.92285</td>\n",
       "    </tr>\n",
       "    <tr>\n",
       "      <th>1</th>\n",
       "      <td>2</td>\n",
       "      <td>0.002</td>\n",
       "      <td>1002.240181</td>\n",
       "      <td>-33.043385</td>\n",
       "      <td>3.417969</td>\n",
       "      <td>1002.790570</td>\n",
       "      <td>15.92285</td>\n",
       "    </tr>\n",
       "    <tr>\n",
       "      <th>2</th>\n",
       "      <td>3</td>\n",
       "      <td>0.004</td>\n",
       "      <td>1002.260506</td>\n",
       "      <td>-33.084989</td>\n",
       "      <td>3.477454</td>\n",
       "      <td>1002.812461</td>\n",
       "      <td>15.92285</td>\n",
       "    </tr>\n",
       "    <tr>\n",
       "      <th>3</th>\n",
       "      <td>4</td>\n",
       "      <td>0.006</td>\n",
       "      <td>1002.276957</td>\n",
       "      <td>-33.087611</td>\n",
       "      <td>3.517032</td>\n",
       "      <td>1002.829127</td>\n",
       "      <td>15.92285</td>\n",
       "    </tr>\n",
       "    <tr>\n",
       "      <th>4</th>\n",
       "      <td>5</td>\n",
       "      <td>0.008</td>\n",
       "      <td>1002.246618</td>\n",
       "      <td>-33.033550</td>\n",
       "      <td>3.501534</td>\n",
       "      <td>1002.796968</td>\n",
       "      <td>15.92285</td>\n",
       "    </tr>\n",
       "  </tbody>\n",
       "</table>\n",
       "</div>"
      ],
      "text/plain": [
       "   Sample No.  time[sec]       Ax[mG]     Ay[mG]    Az[mG]   ATotal[mG]  \\\n",
       "0           1      0.000  1002.251267 -32.989442  3.453851  1002.799998   \n",
       "1           2      0.002  1002.240181 -33.043385  3.417969  1002.790570   \n",
       "2           3      0.004  1002.260506 -33.084989  3.477454  1002.812461   \n",
       "3           4      0.006  1002.276957 -33.087611  3.517032  1002.829127   \n",
       "4           5      0.008  1002.246618 -33.033550  3.501534  1002.796968   \n",
       "\n",
       "   Ts[deg.C]  \n",
       "0   15.92285  \n",
       "1   15.92285  \n",
       "2   15.92285  \n",
       "3   15.92285  \n",
       "4   15.92285  "
      ]
     },
     "execution_count": 1,
     "metadata": {},
     "output_type": "execute_result"
    }
   ],
   "source": [
    "import pandas as pd\n",
    "sw_df_original = pd.read_csv('sather-tower-files/SouthWest.csv')\n",
    "sw_df_original.head(5)"
   ]
  },
  {
   "cell_type": "markdown",
   "metadata": {
    "cell_id": "00007-db46b0d1-5620-4504-9dc2-00a87b413f38",
    "deepnote_cell_type": "markdown",
    "tags": []
   },
   "source": [
    "### Subsetting the Data"
   ]
  },
  {
   "cell_type": "markdown",
   "metadata": {
    "cell_id": "00006-638f5f28-a85e-481a-8690-a2a2ea142818",
    "deepnote_cell_type": "markdown",
    "tags": []
   },
   "source": [
    "This data set contains about 100,000 data points! For the purpose of this notebook we will be looking at a very small subset of the data, specifically the data on the last bell ring of the hour. \n",
    "\n",
    "Below we create a subset of the dataframe named \"sw_last_bell\", that contains data from 400sec - 407sec. This dataframe has 3501 rows, which will be much easier to work with.  "
   ]
  },
  {
   "cell_type": "code",
   "execution_count": null,
   "metadata": {
    "cell_id": "00008-bbaddcd1-321d-432a-b365-29b44fe45c87",
    "deepnote_cell_type": "code",
    "deepnote_to_be_reexecuted": false,
    "execution_millis": 67,
    "execution_start": 1622563005227,
    "source_hash": "3f8f59ab",
    "tags": []
   },
   "outputs": [
    {
     "data": {
      "application/vnd.deepnote.dataframe.v2+json": {
       "column_count": 6,
       "columns": [
        {
         "dtype": "float64",
         "name": "time[sec]",
         "stats": {
          "histogram": [
           {
            "bin_end": 400.0008,
            "bin_start": 400,
            "count": 1
           },
           {
            "bin_end": 400.0016,
            "bin_start": 400.0008,
            "count": 0
           },
           {
            "bin_end": 400.00239999999997,
            "bin_start": 400.0016,
            "count": 1
           },
           {
            "bin_end": 400.0032,
            "bin_start": 400.00239999999997,
            "count": 0
           },
           {
            "bin_end": 400.004,
            "bin_start": 400.0032,
            "count": 0
           },
           {
            "bin_end": 400.0048,
            "bin_start": 400.004,
            "count": 1
           },
           {
            "bin_end": 400.00559999999996,
            "bin_start": 400.0048,
            "count": 0
           },
           {
            "bin_end": 400.0064,
            "bin_start": 400.00559999999996,
            "count": 1
           },
           {
            "bin_end": 400.0072,
            "bin_start": 400.0064,
            "count": 0
           },
           {
            "bin_end": 400.008,
            "bin_start": 400.0072,
            "count": 1
           }
          ],
          "max": "400.008",
          "min": "400.0",
          "nan_count": 0,
          "unique_count": 5
         }
        },
        {
         "dtype": "float64",
         "name": "Ax[mG]",
         "stats": {
          "histogram": [
           {
            "bin_end": 1002.230781,
            "bin_start": 1002.219617,
            "count": 1
           },
           {
            "bin_end": 1002.241945,
            "bin_start": 1002.230781,
            "count": 0
           },
           {
            "bin_end": 1002.253109,
            "bin_start": 1002.241945,
            "count": 0
           },
           {
            "bin_end": 1002.264273,
            "bin_start": 1002.253109,
            "count": 0
           },
           {
            "bin_end": 1002.275437,
            "bin_start": 1002.264273,
            "count": 0
           },
           {
            "bin_end": 1002.286601,
            "bin_start": 1002.275437,
            "count": 2
           },
           {
            "bin_end": 1002.297765,
            "bin_start": 1002.286601,
            "count": 0
           },
           {
            "bin_end": 1002.308929,
            "bin_start": 1002.297765,
            "count": 0
           },
           {
            "bin_end": 1002.320093,
            "bin_start": 1002.308929,
            "count": 0
           },
           {
            "bin_end": 1002.331257,
            "bin_start": 1002.320093,
            "count": 2
           }
          ],
          "max": "1002.331257",
          "min": "1002.219617",
          "nan_count": 0,
          "unique_count": 5
         }
        },
        {
         "dtype": "float64",
         "name": "Ay[mG]",
         "stats": {
          "histogram": [
           {
            "bin_end": -32.96572,
            "bin_start": -32.978237,
            "count": 1
           },
           {
            "bin_end": -32.953203,
            "bin_start": -32.96572,
            "count": 2
           },
           {
            "bin_end": -32.940686,
            "bin_start": -32.953203,
            "count": 1
           },
           {
            "bin_end": -32.928169000000004,
            "bin_start": -32.940686,
            "count": 0
           },
           {
            "bin_end": -32.915652,
            "bin_start": -32.928169000000004,
            "count": 0
           },
           {
            "bin_end": -32.903135,
            "bin_start": -32.915652,
            "count": 0
           },
           {
            "bin_end": -32.890618,
            "bin_start": -32.903135,
            "count": 0
           },
           {
            "bin_end": -32.878101,
            "bin_start": -32.890618,
            "count": 0
           },
           {
            "bin_end": -32.865584000000005,
            "bin_start": -32.878101,
            "count": 0
           },
           {
            "bin_end": -32.853067,
            "bin_start": -32.865584000000005,
            "count": 1
           }
          ],
          "max": "-32.853067",
          "min": "-32.978237",
          "nan_count": 0,
          "unique_count": 5
         }
        },
        {
         "dtype": "float64",
         "name": "Az[mG]",
         "stats": {
          "histogram": [
           {
            "bin_end": 3.2892291,
            "bin_start": 3.273726,
            "count": 2
           },
           {
            "bin_end": 3.3047322,
            "bin_start": 3.2892291,
            "count": 0
           },
           {
            "bin_end": 3.3202353,
            "bin_start": 3.3047322,
            "count": 0
           },
           {
            "bin_end": 3.3357384,
            "bin_start": 3.3202353,
            "count": 0
           },
           {
            "bin_end": 3.3512415,
            "bin_start": 3.3357384,
            "count": 1
           },
           {
            "bin_end": 3.3667446,
            "bin_start": 3.3512415,
            "count": 1
           },
           {
            "bin_end": 3.3822477,
            "bin_start": 3.3667446,
            "count": 0
           },
           {
            "bin_end": 3.3977508,
            "bin_start": 3.3822477,
            "count": 0
           },
           {
            "bin_end": 3.4132539,
            "bin_start": 3.3977508,
            "count": 0
           },
           {
            "bin_end": 3.428757,
            "bin_start": 3.4132539,
            "count": 1
           }
          ],
          "max": "3.428757",
          "min": "3.273726",
          "nan_count": 0,
          "unique_count": 5
         }
        },
        {
         "dtype": "float64",
         "name": "ATotal[mG]",
         "stats": {
          "histogram": [
           {
            "bin_end": 1002.7753189,
            "bin_start": 1002.763802,
            "count": 1
           },
           {
            "bin_end": 1002.7868358000001,
            "bin_start": 1002.7753189,
            "count": 0
           },
           {
            "bin_end": 1002.7983527,
            "bin_start": 1002.7868358000001,
            "count": 0
           },
           {
            "bin_end": 1002.8098696000001,
            "bin_start": 1002.7983527,
            "count": 0
           },
           {
            "bin_end": 1002.8213865,
            "bin_start": 1002.8098696000001,
            "count": 0
           },
           {
            "bin_end": 1002.8329034,
            "bin_start": 1002.8213865,
            "count": 2
           },
           {
            "bin_end": 1002.8444203,
            "bin_start": 1002.8329034,
            "count": 0
           },
           {
            "bin_end": 1002.8559372,
            "bin_start": 1002.8444203,
            "count": 0
           },
           {
            "bin_end": 1002.8674541,
            "bin_start": 1002.8559372,
            "count": 0
           },
           {
            "bin_end": 1002.878971,
            "bin_start": 1002.8674541,
            "count": 2
           }
          ],
          "max": "1002.878971",
          "min": "1002.763802",
          "nan_count": 0,
          "unique_count": 5
         }
        },
        {
         "dtype": "float64",
         "name": "Ts[deg.C]",
         "stats": {
          "histogram": [
           {
            "bin_end": 16.488378,
            "bin_start": 16.48828,
            "count": 2
           },
           {
            "bin_end": 16.488476,
            "bin_start": 16.488378,
            "count": 0
           },
           {
            "bin_end": 16.488574,
            "bin_start": 16.488476,
            "count": 0
           },
           {
            "bin_end": 16.488672,
            "bin_start": 16.488574,
            "count": 0
           },
           {
            "bin_end": 16.488770000000002,
            "bin_start": 16.488672,
            "count": 0
           },
           {
            "bin_end": 16.488868,
            "bin_start": 16.488770000000002,
            "count": 0
           },
           {
            "bin_end": 16.488966,
            "bin_start": 16.488868,
            "count": 0
           },
           {
            "bin_end": 16.489064000000003,
            "bin_start": 16.488966,
            "count": 0
           },
           {
            "bin_end": 16.489162,
            "bin_start": 16.489064000000003,
            "count": 0
           },
           {
            "bin_end": 16.48926,
            "bin_start": 16.489162,
            "count": 3
           }
          ],
          "max": "16.48926",
          "min": "16.48828",
          "nan_count": 0,
          "unique_count": 2
         }
        },
        {
         "dtype": "int64",
         "name": "_deepnote_index_column"
        }
       ],
       "row_count": 5,
       "rows_bottom": null,
       "rows_top": [
        {
         "ATotal[mG]": 1002.823447,
         "Ax[mG]": 1002.276242,
         "Ay[mG]": -32.953322,
         "Az[mG]": 3.358364,
         "Ts[deg.C]": 16.48828,
         "_deepnote_index_column": 200001,
         "time[sec]": 400
        },
        {
         "ATotal[mG]": 1002.873043,
         "Ax[mG]": 1002.325773,
         "Ay[mG]": -32.963753,
         "Az[mG]": 3.282607,
         "Ts[deg.C]": 16.48828,
         "_deepnote_index_column": 200002,
         "time[sec]": 400.002
        },
        {
         "ATotal[mG]": 1002.878971,
         "Ax[mG]": 1002.331257,
         "Ay[mG]": -32.978237,
         "Az[mG]": 3.273726,
         "Ts[deg.C]": 16.48926,
         "_deepnote_index_column": 200003,
         "time[sec]": 400.004
        },
        {
         "ATotal[mG]": 1002.826324,
         "Ax[mG]": 1002.279222,
         "Ay[mG]": -32.952249,
         "Az[mG]": 3.338516,
         "Ts[deg.C]": 16.48926,
         "_deepnote_index_column": 200004,
         "time[sec]": 400.006
        },
        {
         "ATotal[mG]": 1002.763802,
         "Ax[mG]": 1002.219617,
         "Ay[mG]": -32.853067,
         "Az[mG]": 3.428757,
         "Ts[deg.C]": 16.48926,
         "_deepnote_index_column": 200005,
         "time[sec]": 400.008
        }
       ]
      },
      "text/html": [
       "<div>\n",
       "<style scoped>\n",
       "    .dataframe tbody tr th:only-of-type {\n",
       "        vertical-align: middle;\n",
       "    }\n",
       "\n",
       "    .dataframe tbody tr th {\n",
       "        vertical-align: top;\n",
       "    }\n",
       "\n",
       "    .dataframe thead th {\n",
       "        text-align: right;\n",
       "    }\n",
       "</style>\n",
       "<table border=\"1\" class=\"dataframe\">\n",
       "  <thead>\n",
       "    <tr style=\"text-align: right;\">\n",
       "      <th></th>\n",
       "      <th>time[sec]</th>\n",
       "      <th>Ax[mG]</th>\n",
       "      <th>Ay[mG]</th>\n",
       "      <th>Az[mG]</th>\n",
       "      <th>ATotal[mG]</th>\n",
       "      <th>Ts[deg.C]</th>\n",
       "    </tr>\n",
       "    <tr>\n",
       "      <th>Sample No.</th>\n",
       "      <th></th>\n",
       "      <th></th>\n",
       "      <th></th>\n",
       "      <th></th>\n",
       "      <th></th>\n",
       "      <th></th>\n",
       "    </tr>\n",
       "  </thead>\n",
       "  <tbody>\n",
       "    <tr>\n",
       "      <th>200001</th>\n",
       "      <td>400.000</td>\n",
       "      <td>1002.276242</td>\n",
       "      <td>-32.953322</td>\n",
       "      <td>3.358364</td>\n",
       "      <td>1002.823447</td>\n",
       "      <td>16.48828</td>\n",
       "    </tr>\n",
       "    <tr>\n",
       "      <th>200002</th>\n",
       "      <td>400.002</td>\n",
       "      <td>1002.325773</td>\n",
       "      <td>-32.963753</td>\n",
       "      <td>3.282607</td>\n",
       "      <td>1002.873043</td>\n",
       "      <td>16.48828</td>\n",
       "    </tr>\n",
       "    <tr>\n",
       "      <th>200003</th>\n",
       "      <td>400.004</td>\n",
       "      <td>1002.331257</td>\n",
       "      <td>-32.978237</td>\n",
       "      <td>3.273726</td>\n",
       "      <td>1002.878971</td>\n",
       "      <td>16.48926</td>\n",
       "    </tr>\n",
       "    <tr>\n",
       "      <th>200004</th>\n",
       "      <td>400.006</td>\n",
       "      <td>1002.279222</td>\n",
       "      <td>-32.952249</td>\n",
       "      <td>3.338516</td>\n",
       "      <td>1002.826324</td>\n",
       "      <td>16.48926</td>\n",
       "    </tr>\n",
       "    <tr>\n",
       "      <th>200005</th>\n",
       "      <td>400.008</td>\n",
       "      <td>1002.219617</td>\n",
       "      <td>-32.853067</td>\n",
       "      <td>3.428757</td>\n",
       "      <td>1002.763802</td>\n",
       "      <td>16.48926</td>\n",
       "    </tr>\n",
       "  </tbody>\n",
       "</table>\n",
       "</div>"
      ],
      "text/plain": [
       "            time[sec]       Ax[mG]     Ay[mG]    Az[mG]   ATotal[mG]  \\\n",
       "Sample No.                                                             \n",
       "200001        400.000  1002.276242 -32.953322  3.358364  1002.823447   \n",
       "200002        400.002  1002.325773 -32.963753  3.282607  1002.873043   \n",
       "200003        400.004  1002.331257 -32.978237  3.273726  1002.878971   \n",
       "200004        400.006  1002.279222 -32.952249  3.338516  1002.826324   \n",
       "200005        400.008  1002.219617 -32.853067  3.428757  1002.763802   \n",
       "\n",
       "            Ts[deg.C]  \n",
       "Sample No.             \n",
       "200001       16.48828  \n",
       "200002       16.48828  \n",
       "200003       16.48926  \n",
       "200004       16.48926  \n",
       "200005       16.48926  "
      ]
     },
     "execution_count": 2,
     "metadata": {},
     "output_type": "execute_result"
    }
   ],
   "source": [
    "sw_last_bell = sw_df_original.set_index('Sample No.')\n",
    "## In this line of code, we call the set_index() function on the sw_df_original dataframe and set the\n",
    "## index to the \"Sample No.\" column.\n",
    "\n",
    "sw_last_bell = sw_last_bell[(sw_last_bell['time[sec]'] >= 400) & (sw_last_bell['time[sec]'] < 407)]\n",
    "## Here we are subsetting the sw_last_bell dataframe that we defined above. The code line tells the\n",
    "## system to only take rows that have a \"time[sec]\" values that is greater than or equal to 400 and less\n",
    "## than 407.\n",
    "\n",
    "sw_last_bell.head(5)\n",
    "## This line displays the first 5 rows of the dataframe. "
   ]
  },
  {
   "cell_type": "markdown",
   "metadata": {
    "cell_id": "00008-4e80df6a-9be3-4987-96f3-94bcb8d297cd",
    "deepnote_cell_type": "markdown",
    "tags": []
   },
   "source": [
    "<br>\n",
    "\n",
    "## Data Normalization"
   ]
  },
  {
   "cell_type": "markdown",
   "metadata": {
    "cell_id": "00009-7fd2710b-3c9a-47c2-a930-d969a3091ea4",
    "deepnote_cell_type": "markdown",
    "tags": []
   },
   "source": [
    "Before we begin working with the data, there are a few steps to complete in order to prepare the data for interpretation. Data preparation usually involves reformatting data, correcting data and filling in missing data points. It is an important step in the data interpretation and analysis process becuase it allows for more efficient manipulation of the data later on. "
   ]
  },
  {
   "cell_type": "markdown",
   "metadata": {
    "cell_id": "00010-5c7ecbd7-5ce5-4b18-8100-917a6f915346",
    "deepnote_cell_type": "markdown",
    "tags": []
   },
   "source": [
    "### Normalizing the Data"
   ]
  },
  {
   "cell_type": "markdown",
   "metadata": {
    "cell_id": "00011-aef5f0d0-41c4-4fcf-aa66-ecc95cd28b9b",
    "deepnote_cell_type": "markdown",
    "tags": []
   },
   "source": [
    "The first step is to go through the process of normalizing the data points between variables. The code below normalizes the data by subtracting each of the values in the column Ax[mG], Ay[mG] and Az[mG] by the first entry in their column. We do this in order to eliminate any unnecessary noise that might exist in the data. This allows us to have a clear look at the change in frequency from the beginning of our data set to the end. "
   ]
  },
  {
   "cell_type": "code",
   "execution_count": null,
   "metadata": {
    "cell_id": "00012-d74f9b16-f18b-4967-bff0-2d9f7fd76f41",
    "deepnote_cell_type": "code",
    "deepnote_to_be_reexecuted": false,
    "execution_millis": 8,
    "execution_start": 1622563005319,
    "source_hash": "3bc04187",
    "tags": []
   },
   "outputs": [
    {
     "data": {
      "application/vnd.deepnote.dataframe.v2+json": {
       "column_count": 6,
       "columns": [
        {
         "dtype": "float64",
         "name": "time[sec]",
         "stats": {
          "histogram": [
           {
            "bin_end": 400.0008,
            "bin_start": 400,
            "count": 1
           },
           {
            "bin_end": 400.0016,
            "bin_start": 400.0008,
            "count": 0
           },
           {
            "bin_end": 400.00239999999997,
            "bin_start": 400.0016,
            "count": 1
           },
           {
            "bin_end": 400.0032,
            "bin_start": 400.00239999999997,
            "count": 0
           },
           {
            "bin_end": 400.004,
            "bin_start": 400.0032,
            "count": 0
           },
           {
            "bin_end": 400.0048,
            "bin_start": 400.004,
            "count": 1
           },
           {
            "bin_end": 400.00559999999996,
            "bin_start": 400.0048,
            "count": 0
           },
           {
            "bin_end": 400.0064,
            "bin_start": 400.00559999999996,
            "count": 1
           },
           {
            "bin_end": 400.0072,
            "bin_start": 400.0064,
            "count": 0
           },
           {
            "bin_end": 400.008,
            "bin_start": 400.0072,
            "count": 1
           }
          ],
          "max": "400.008",
          "min": "400.0",
          "nan_count": 0,
          "unique_count": 5
         }
        },
        {
         "dtype": "float64",
         "name": "Ax[mG]",
         "stats": {
          "histogram": [
           {
            "bin_end": -0.045461000000045715,
            "bin_start": -0.05662500000005366,
            "count": 1
           },
           {
            "bin_end": -0.03429700000003777,
            "bin_start": -0.045461000000045715,
            "count": 0
           },
           {
            "bin_end": -0.023133000000029824,
            "bin_start": -0.03429700000003777,
            "count": 0
           },
           {
            "bin_end": -0.011969000000021879,
            "bin_start": -0.023133000000029824,
            "count": 0
           },
           {
            "bin_end": -0.0008050000000139335,
            "bin_start": -0.011969000000021879,
            "count": 0
           },
           {
            "bin_end": 0.010358999999994012,
            "bin_start": -0.0008050000000139335,
            "count": 2
           },
           {
            "bin_end": 0.021523000000001957,
            "bin_start": 0.010358999999994012,
            "count": 0
           },
           {
            "bin_end": 0.0326870000000099,
            "bin_start": 0.021523000000001957,
            "count": 0
           },
           {
            "bin_end": 0.04385100000001785,
            "bin_start": 0.0326870000000099,
            "count": 0
           },
           {
            "bin_end": 0.05501500000002579,
            "bin_start": 0.04385100000001785,
            "count": 2
           }
          ],
          "max": "0.05501500000002579",
          "min": "-0.05662500000005366",
          "nan_count": 0,
          "unique_count": 5
         }
        },
        {
         "dtype": "float64",
         "name": "Ay[mG]",
         "stats": {
          "histogram": [
           {
            "bin_end": -0.012398000000000308,
            "bin_start": -0.02491500000000002,
            "count": 1
           },
           {
            "bin_end": 0.0001189999999994043,
            "bin_start": -0.012398000000000308,
            "count": 2
           },
           {
            "bin_end": 0.01263599999999912,
            "bin_start": 0.0001189999999994043,
            "count": 1
           },
           {
            "bin_end": 0.02515299999999883,
            "bin_start": 0.01263599999999912,
            "count": 0
           },
           {
            "bin_end": 0.03766999999999854,
            "bin_start": 0.02515299999999883,
            "count": 0
           },
           {
            "bin_end": 0.05018699999999826,
            "bin_start": 0.03766999999999854,
            "count": 0
           },
           {
            "bin_end": 0.06270399999999797,
            "bin_start": 0.05018699999999826,
            "count": 0
           },
           {
            "bin_end": 0.07522099999999768,
            "bin_start": 0.06270399999999797,
            "count": 0
           },
           {
            "bin_end": 0.08773799999999739,
            "bin_start": 0.07522099999999768,
            "count": 0
           },
           {
            "bin_end": 0.1002549999999971,
            "bin_start": 0.08773799999999739,
            "count": 1
           }
          ],
          "max": "0.1002549999999971",
          "min": "-0.02491500000000002",
          "nan_count": 0,
          "unique_count": 5
         }
        },
        {
         "dtype": "float64",
         "name": "Az[mG]",
         "stats": {
          "histogram": [
           {
            "bin_end": -0.06913489999999997,
            "bin_start": -0.08463799999999999,
            "count": 2
           },
           {
            "bin_end": -0.053631799999999966,
            "bin_start": -0.06913489999999997,
            "count": 0
           },
           {
            "bin_end": -0.038128699999999946,
            "bin_start": -0.053631799999999966,
            "count": 0
           },
           {
            "bin_end": -0.022625599999999933,
            "bin_start": -0.038128699999999946,
            "count": 0
           },
           {
            "bin_end": -0.0071224999999999206,
            "bin_start": -0.022625599999999933,
            "count": 1
           },
           {
            "bin_end": 0.008380600000000099,
            "bin_start": -0.0071224999999999206,
            "count": 1
           },
           {
            "bin_end": 0.023883700000000105,
            "bin_start": 0.008380600000000099,
            "count": 0
           },
           {
            "bin_end": 0.039386800000000124,
            "bin_start": 0.023883700000000105,
            "count": 0
           },
           {
            "bin_end": 0.05488990000000013,
            "bin_start": 0.039386800000000124,
            "count": 0
           },
           {
            "bin_end": 0.07039300000000015,
            "bin_start": 0.05488990000000013,
            "count": 1
           }
          ],
          "max": "0.07039300000000015",
          "min": "-0.08463799999999999",
          "nan_count": 0,
          "unique_count": 5
         }
        },
        {
         "dtype": "float64",
         "name": "ATotal[mG]",
         "stats": {
          "histogram": [
           {
            "bin_end": 1002.7753189,
            "bin_start": 1002.763802,
            "count": 1
           },
           {
            "bin_end": 1002.7868358000001,
            "bin_start": 1002.7753189,
            "count": 0
           },
           {
            "bin_end": 1002.7983527,
            "bin_start": 1002.7868358000001,
            "count": 0
           },
           {
            "bin_end": 1002.8098696000001,
            "bin_start": 1002.7983527,
            "count": 0
           },
           {
            "bin_end": 1002.8213865,
            "bin_start": 1002.8098696000001,
            "count": 0
           },
           {
            "bin_end": 1002.8329034,
            "bin_start": 1002.8213865,
            "count": 2
           },
           {
            "bin_end": 1002.8444203,
            "bin_start": 1002.8329034,
            "count": 0
           },
           {
            "bin_end": 1002.8559372,
            "bin_start": 1002.8444203,
            "count": 0
           },
           {
            "bin_end": 1002.8674541,
            "bin_start": 1002.8559372,
            "count": 0
           },
           {
            "bin_end": 1002.878971,
            "bin_start": 1002.8674541,
            "count": 2
           }
          ],
          "max": "1002.878971",
          "min": "1002.763802",
          "nan_count": 0,
          "unique_count": 5
         }
        },
        {
         "dtype": "float64",
         "name": "Ts[deg.C]",
         "stats": {
          "histogram": [
           {
            "bin_end": 16.488378,
            "bin_start": 16.48828,
            "count": 2
           },
           {
            "bin_end": 16.488476,
            "bin_start": 16.488378,
            "count": 0
           },
           {
            "bin_end": 16.488574,
            "bin_start": 16.488476,
            "count": 0
           },
           {
            "bin_end": 16.488672,
            "bin_start": 16.488574,
            "count": 0
           },
           {
            "bin_end": 16.488770000000002,
            "bin_start": 16.488672,
            "count": 0
           },
           {
            "bin_end": 16.488868,
            "bin_start": 16.488770000000002,
            "count": 0
           },
           {
            "bin_end": 16.488966,
            "bin_start": 16.488868,
            "count": 0
           },
           {
            "bin_end": 16.489064000000003,
            "bin_start": 16.488966,
            "count": 0
           },
           {
            "bin_end": 16.489162,
            "bin_start": 16.489064000000003,
            "count": 0
           },
           {
            "bin_end": 16.48926,
            "bin_start": 16.489162,
            "count": 3
           }
          ],
          "max": "16.48926",
          "min": "16.48828",
          "nan_count": 0,
          "unique_count": 2
         }
        },
        {
         "dtype": "int64",
         "name": "_deepnote_index_column"
        }
       ],
       "row_count": 5,
       "rows_bottom": null,
       "rows_top": [
        {
         "ATotal[mG]": 1002.823447,
         "Ax[mG]": 0,
         "Ay[mG]": 0,
         "Az[mG]": 0,
         "Ts[deg.C]": 16.48828,
         "_deepnote_index_column": 200001,
         "time[sec]": 400
        },
        {
         "ATotal[mG]": 1002.873043,
         "Ax[mG]": 0.04953100000000177,
         "Ay[mG]": -0.01043099999999697,
         "Az[mG]": -0.07575699999999985,
         "Ts[deg.C]": 16.48828,
         "_deepnote_index_column": 200002,
         "time[sec]": 400.002
        },
        {
         "ATotal[mG]": 1002.878971,
         "Ax[mG]": 0.05501500000002579,
         "Ay[mG]": -0.02491500000000002,
         "Az[mG]": -0.08463799999999999,
         "Ts[deg.C]": 16.48926,
         "_deepnote_index_column": 200003,
         "time[sec]": 400.004
        },
        {
         "ATotal[mG]": 1002.826324,
         "Ax[mG]": 0.0029799999999795546,
         "Ay[mG]": 0.0010729999999981032,
         "Az[mG]": -0.019848000000000088,
         "Ts[deg.C]": 16.48926,
         "_deepnote_index_column": 200004,
         "time[sec]": 400.006
        },
        {
         "ATotal[mG]": 1002.763802,
         "Ax[mG]": -0.05662500000005366,
         "Ay[mG]": 0.1002549999999971,
         "Az[mG]": 0.07039300000000015,
         "Ts[deg.C]": 16.48926,
         "_deepnote_index_column": 200005,
         "time[sec]": 400.008
        }
       ]
      },
      "text/html": [
       "<div>\n",
       "<style scoped>\n",
       "    .dataframe tbody tr th:only-of-type {\n",
       "        vertical-align: middle;\n",
       "    }\n",
       "\n",
       "    .dataframe tbody tr th {\n",
       "        vertical-align: top;\n",
       "    }\n",
       "\n",
       "    .dataframe thead th {\n",
       "        text-align: right;\n",
       "    }\n",
       "</style>\n",
       "<table border=\"1\" class=\"dataframe\">\n",
       "  <thead>\n",
       "    <tr style=\"text-align: right;\">\n",
       "      <th></th>\n",
       "      <th>time[sec]</th>\n",
       "      <th>Ax[mG]</th>\n",
       "      <th>Ay[mG]</th>\n",
       "      <th>Az[mG]</th>\n",
       "      <th>ATotal[mG]</th>\n",
       "      <th>Ts[deg.C]</th>\n",
       "    </tr>\n",
       "    <tr>\n",
       "      <th>Sample No.</th>\n",
       "      <th></th>\n",
       "      <th></th>\n",
       "      <th></th>\n",
       "      <th></th>\n",
       "      <th></th>\n",
       "      <th></th>\n",
       "    </tr>\n",
       "  </thead>\n",
       "  <tbody>\n",
       "    <tr>\n",
       "      <th>200001</th>\n",
       "      <td>400.000</td>\n",
       "      <td>0.000000</td>\n",
       "      <td>0.000000</td>\n",
       "      <td>0.000000</td>\n",
       "      <td>1002.823447</td>\n",
       "      <td>16.48828</td>\n",
       "    </tr>\n",
       "    <tr>\n",
       "      <th>200002</th>\n",
       "      <td>400.002</td>\n",
       "      <td>0.049531</td>\n",
       "      <td>-0.010431</td>\n",
       "      <td>-0.075757</td>\n",
       "      <td>1002.873043</td>\n",
       "      <td>16.48828</td>\n",
       "    </tr>\n",
       "    <tr>\n",
       "      <th>200003</th>\n",
       "      <td>400.004</td>\n",
       "      <td>0.055015</td>\n",
       "      <td>-0.024915</td>\n",
       "      <td>-0.084638</td>\n",
       "      <td>1002.878971</td>\n",
       "      <td>16.48926</td>\n",
       "    </tr>\n",
       "    <tr>\n",
       "      <th>200004</th>\n",
       "      <td>400.006</td>\n",
       "      <td>0.002980</td>\n",
       "      <td>0.001073</td>\n",
       "      <td>-0.019848</td>\n",
       "      <td>1002.826324</td>\n",
       "      <td>16.48926</td>\n",
       "    </tr>\n",
       "    <tr>\n",
       "      <th>200005</th>\n",
       "      <td>400.008</td>\n",
       "      <td>-0.056625</td>\n",
       "      <td>0.100255</td>\n",
       "      <td>0.070393</td>\n",
       "      <td>1002.763802</td>\n",
       "      <td>16.48926</td>\n",
       "    </tr>\n",
       "  </tbody>\n",
       "</table>\n",
       "</div>"
      ],
      "text/plain": [
       "            time[sec]    Ax[mG]    Ay[mG]    Az[mG]   ATotal[mG]  Ts[deg.C]\n",
       "Sample No.                                                                 \n",
       "200001        400.000  0.000000  0.000000  0.000000  1002.823447   16.48828\n",
       "200002        400.002  0.049531 -0.010431 -0.075757  1002.873043   16.48828\n",
       "200003        400.004  0.055015 -0.024915 -0.084638  1002.878971   16.48926\n",
       "200004        400.006  0.002980  0.001073 -0.019848  1002.826324   16.48926\n",
       "200005        400.008 -0.056625  0.100255  0.070393  1002.763802   16.48926"
      ]
     },
     "execution_count": 3,
     "metadata": {},
     "output_type": "execute_result"
    }
   ],
   "source": [
    "## The .iloc[n] function takes the nth item of the series or dataframe indicated. In the lines of code\n",
    "## below, we are using .iloc[0] to take the 0th item of the dataframe and subtracting it from every \n",
    "## row in the series. Then we assign this new series, which we just populated with new numbers, to \n",
    "## replace the old series in the dataframe. \n",
    "\n",
    "sw_last_bell['Ax[mG]'] = sw_last_bell['Ax[mG]'] - sw_last_bell['Ax[mG]'].iloc[0]\n",
    "sw_last_bell['Ay[mG]'] = sw_last_bell['Ay[mG]'] - sw_last_bell['Ay[mG]'].iloc[0]\n",
    "sw_last_bell['Az[mG]'] = sw_last_bell['Az[mG]'] - sw_last_bell['Az[mG]'].iloc[0]\n",
    "sw_last_bell.head(5)"
   ]
  },
  {
   "cell_type": "markdown",
   "metadata": {
    "cell_id": "00013-d7377e57-eced-42f3-8ccf-6fcf1ce7f8c7",
    "deepnote_cell_type": "markdown",
    "tags": []
   },
   "source": [
    "### Relabeling the Axes"
   ]
  },
  {
   "cell_type": "markdown",
   "metadata": {
    "cell_id": "00018-3e414dc3-3c2d-4526-8c3c-d6161d28d854",
    "deepnote_cell_type": "markdown",
    "tags": []
   },
   "source": [
    "![image info](Pictures/Accelerometer.png)"
   ]
  },
  {
   "cell_type": "markdown",
   "metadata": {
    "cell_id": "00014-5faf6e00-c7c6-4db6-ab12-873e3a5e47ab",
    "deepnote_cell_type": "markdown",
    "tags": []
   },
   "source": [
    "This tiny apparatus, pictured above, is our accelerometer. It is called a Epson M-A351Accelerometer. We will refer to it as an accelerometer. The details are not important. As you can see on the picture below, there are 3 different axis (X,Y,and Z) for each accelerometer. The accelerometer will then record the following:\n",
    "\n",
    "\n",
    "An acceleration value in the X direction \n",
    "\n",
    "An acceleration value in the Y direction\n",
    "\n",
    "An acceleration value in the Z direction\n",
    "\n"
   ]
  },
  {
   "cell_type": "markdown",
   "metadata": {
    "cell_id": "00018-6d2cb864-e18c-4699-a5dc-cd7628dae01a",
    "deepnote_cell_type": "markdown",
    "tags": []
   },
   "source": [
    "![image info](Pictures/OriginalOrientation.png)"
   ]
  },
  {
   "cell_type": "markdown",
   "metadata": {
    "cell_id": "00018-c543f025-f08a-4e6a-bcef-c0d1ea33d2be",
    "deepnote_cell_type": "markdown",
    "tags": []
   },
   "source": [
    " \n",
    "Because each of the 4 accelerometers were mounted independently, the x, y and z axis of each accelerometer do not correspond. The picture above shows that on the northwest accelerometer, the z variable tracks left and right movement, while the z variable on the southwest accelerometer tracks forward and backward movement of the Campanile. As such, the acceleration measured by each accelerometer needs to be normalized such that there exists global x, global y, and global z measurements so that we can analyze the data. \n",
    "\n",
    "The next step in this process is to normalize the variables between all the accelerometer. Normalizing the variables will make it easier to understand which direction of acceleration we are refering to later on. To normalize the data, we must relabel the axes that were provided from the sensors, to a global coordinate system. The global coordinate system is mapped out in the chart below. "
   ]
  },
  {
   "cell_type": "markdown",
   "metadata": {
    "cell_id": "00020-d98fe9e7-685e-4027-baed-a00a405246b5",
    "deepnote_cell_type": "markdown",
    "tags": []
   },
   "source": [
    "![image info](Pictures/Axis_Relabeling.png)"
   ]
  },
  {
   "cell_type": "markdown",
   "metadata": {
    "cell_id": "00015-1208ae6b-bb82-43c1-9471-91174e2ebba6",
    "deepnote_cell_type": "markdown",
    "tags": []
   },
   "source": [
    "#### Resetting axes for SouthWest dataset"
   ]
  },
  {
   "cell_type": "code",
   "execution_count": null,
   "metadata": {
    "cell_id": "00016-140c9353-c6a5-43f5-9c21-b523160a81af",
    "deepnote_cell_type": "code",
    "deepnote_to_be_reexecuted": false,
    "execution_millis": 944,
    "execution_start": 1622563005324,
    "source_hash": "94609f9f",
    "tags": []
   },
   "outputs": [
    {
     "data": {
      "application/vnd.deepnote.dataframe.v2+json": {
       "column_count": 7,
       "columns": [
        {
         "dtype": "int64",
         "name": "Sample No.",
         "stats": {
          "histogram": [
           {
            "bin_end": 1.4,
            "bin_start": 1,
            "count": 1
           },
           {
            "bin_end": 1.8,
            "bin_start": 1.4,
            "count": 0
           },
           {
            "bin_end": 2.2,
            "bin_start": 1.8,
            "count": 1
           },
           {
            "bin_end": 2.6,
            "bin_start": 2.2,
            "count": 0
           },
           {
            "bin_end": 3,
            "bin_start": 2.6,
            "count": 0
           },
           {
            "bin_end": 3.4000000000000004,
            "bin_start": 3,
            "count": 1
           },
           {
            "bin_end": 3.8000000000000003,
            "bin_start": 3.4000000000000004,
            "count": 0
           },
           {
            "bin_end": 4.2,
            "bin_start": 3.8000000000000003,
            "count": 1
           },
           {
            "bin_end": 4.6,
            "bin_start": 4.2,
            "count": 0
           },
           {
            "bin_end": 5,
            "bin_start": 4.6,
            "count": 1
           }
          ],
          "max": "5",
          "min": "1",
          "nan_count": 0,
          "unique_count": 5
         }
        },
        {
         "dtype": "float64",
         "name": "time[sec]",
         "stats": {
          "histogram": [
           {
            "bin_end": 0.0008,
            "bin_start": 0,
            "count": 1
           },
           {
            "bin_end": 0.0016,
            "bin_start": 0.0008,
            "count": 0
           },
           {
            "bin_end": 0.0024000000000000002,
            "bin_start": 0.0016,
            "count": 1
           },
           {
            "bin_end": 0.0032,
            "bin_start": 0.0024000000000000002,
            "count": 0
           },
           {
            "bin_end": 0.004,
            "bin_start": 0.0032,
            "count": 0
           },
           {
            "bin_end": 0.0048000000000000004,
            "bin_start": 0.004,
            "count": 1
           },
           {
            "bin_end": 0.0056,
            "bin_start": 0.0048000000000000004,
            "count": 0
           },
           {
            "bin_end": 0.0064,
            "bin_start": 0.0056,
            "count": 1
           },
           {
            "bin_end": 0.007200000000000001,
            "bin_start": 0.0064,
            "count": 0
           },
           {
            "bin_end": 0.008,
            "bin_start": 0.007200000000000001,
            "count": 1
           }
          ],
          "max": "0.008",
          "min": "0.0",
          "nan_count": 0,
          "unique_count": 5
         }
        },
        {
         "dtype": "float64",
         "name": "Global X",
         "stats": {
          "histogram": [
           {
            "bin_end": -33.077794100000006,
            "bin_start": -33.087611,
            "count": 2
           },
           {
            "bin_end": -33.0679772,
            "bin_start": -33.077794100000006,
            "count": 0
           },
           {
            "bin_end": -33.0581603,
            "bin_start": -33.0679772,
            "count": 0
           },
           {
            "bin_end": -33.0483434,
            "bin_start": -33.0581603,
            "count": 0
           },
           {
            "bin_end": -33.0385265,
            "bin_start": -33.0483434,
            "count": 1
           },
           {
            "bin_end": -33.0287096,
            "bin_start": -33.0385265,
            "count": 1
           },
           {
            "bin_end": -33.018892699999995,
            "bin_start": -33.0287096,
            "count": 0
           },
           {
            "bin_end": -33.0090758,
            "bin_start": -33.018892699999995,
            "count": 0
           },
           {
            "bin_end": -32.9992589,
            "bin_start": -33.0090758,
            "count": 0
           },
           {
            "bin_end": -32.989442,
            "bin_start": -32.9992589,
            "count": 1
           }
          ],
          "max": "-32.989442",
          "min": "-33.087611",
          "nan_count": 0,
          "unique_count": 5
         }
        },
        {
         "dtype": "float64",
         "name": "Global Y",
         "stats": {
          "histogram": [
           {
            "bin_end": 3.4278752999999997,
            "bin_start": 3.417969,
            "count": 1
           },
           {
            "bin_end": 3.4377815999999997,
            "bin_start": 3.4278752999999997,
            "count": 0
           },
           {
            "bin_end": 3.4476879,
            "bin_start": 3.4377815999999997,
            "count": 0
           },
           {
            "bin_end": 3.4575942,
            "bin_start": 3.4476879,
            "count": 1
           },
           {
            "bin_end": 3.4675005,
            "bin_start": 3.4575942,
            "count": 0
           },
           {
            "bin_end": 3.4774068,
            "bin_start": 3.4675005,
            "count": 0
           },
           {
            "bin_end": 3.4873130999999997,
            "bin_start": 3.4774068,
            "count": 1
           },
           {
            "bin_end": 3.4972194,
            "bin_start": 3.4873130999999997,
            "count": 0
           },
           {
            "bin_end": 3.5071257,
            "bin_start": 3.4972194,
            "count": 1
           },
           {
            "bin_end": 3.517032,
            "bin_start": 3.5071257,
            "count": 1
           }
          ],
          "max": "3.517032",
          "min": "3.417969",
          "nan_count": 0,
          "unique_count": 5
         }
        },
        {
         "dtype": "float64",
         "name": "Global Z",
         "stats": {
          "histogram": [
           {
            "bin_end": 1002.2438586000001,
            "bin_start": 1002.240181,
            "count": 1
           },
           {
            "bin_end": 1002.2475362,
            "bin_start": 1002.2438586000001,
            "count": 1
           },
           {
            "bin_end": 1002.2512138,
            "bin_start": 1002.2475362,
            "count": 0
           },
           {
            "bin_end": 1002.2548914,
            "bin_start": 1002.2512138,
            "count": 1
           },
           {
            "bin_end": 1002.2585690000001,
            "bin_start": 1002.2548914,
            "count": 0
           },
           {
            "bin_end": 1002.2622466,
            "bin_start": 1002.2585690000001,
            "count": 1
           },
           {
            "bin_end": 1002.2659242,
            "bin_start": 1002.2622466,
            "count": 0
           },
           {
            "bin_end": 1002.2696018,
            "bin_start": 1002.2659242,
            "count": 0
           },
           {
            "bin_end": 1002.2732794000001,
            "bin_start": 1002.2696018,
            "count": 0
           },
           {
            "bin_end": 1002.276957,
            "bin_start": 1002.2732794000001,
            "count": 1
           }
          ],
          "max": "1002.276957",
          "min": "1002.240181",
          "nan_count": 0,
          "unique_count": 5
         }
        },
        {
         "dtype": "float64",
         "name": "ATotal[mG]",
         "stats": {
          "histogram": [
           {
            "bin_end": 1002.7944257,
            "bin_start": 1002.79057,
            "count": 1
           },
           {
            "bin_end": 1002.7982814,
            "bin_start": 1002.7944257,
            "count": 1
           },
           {
            "bin_end": 1002.8021371,
            "bin_start": 1002.7982814,
            "count": 1
           },
           {
            "bin_end": 1002.8059928,
            "bin_start": 1002.8021371,
            "count": 0
           },
           {
            "bin_end": 1002.8098485,
            "bin_start": 1002.8059928,
            "count": 0
           },
           {
            "bin_end": 1002.8137042,
            "bin_start": 1002.8098485,
            "count": 1
           },
           {
            "bin_end": 1002.8175599,
            "bin_start": 1002.8137042,
            "count": 0
           },
           {
            "bin_end": 1002.8214156,
            "bin_start": 1002.8175599,
            "count": 0
           },
           {
            "bin_end": 1002.8252712999999,
            "bin_start": 1002.8214156,
            "count": 0
           },
           {
            "bin_end": 1002.829127,
            "bin_start": 1002.8252712999999,
            "count": 1
           }
          ],
          "max": "1002.829127",
          "min": "1002.79057",
          "nan_count": 0,
          "unique_count": 5
         }
        },
        {
         "dtype": "float64",
         "name": "Ts[deg.C]",
         "stats": {
          "histogram": [
           {
            "bin_end": 15.52285,
            "bin_start": 15.42285,
            "count": 0
           },
           {
            "bin_end": 15.62285,
            "bin_start": 15.52285,
            "count": 0
           },
           {
            "bin_end": 15.722850000000001,
            "bin_start": 15.62285,
            "count": 0
           },
           {
            "bin_end": 15.82285,
            "bin_start": 15.722850000000001,
            "count": 0
           },
           {
            "bin_end": 15.92285,
            "bin_start": 15.82285,
            "count": 0
           },
           {
            "bin_end": 16.022850000000002,
            "bin_start": 15.92285,
            "count": 5
           },
           {
            "bin_end": 16.12285,
            "bin_start": 16.022850000000002,
            "count": 0
           },
           {
            "bin_end": 16.22285,
            "bin_start": 16.12285,
            "count": 0
           },
           {
            "bin_end": 16.32285,
            "bin_start": 16.22285,
            "count": 0
           },
           {
            "bin_end": 16.42285,
            "bin_start": 16.32285,
            "count": 0
           }
          ],
          "max": "15.92285",
          "min": "15.92285",
          "nan_count": 0,
          "unique_count": 1
         }
        },
        {
         "dtype": "int64",
         "name": "_deepnote_index_column"
        }
       ],
       "row_count": 5,
       "rows_bottom": null,
       "rows_top": [
        {
         "ATotal[mG]": 1002.799998,
         "Global X": -32.989442,
         "Global Y": 3.453851,
         "Global Z": 1002.251267,
         "Sample No.": 1,
         "Ts[deg.C]": 15.92285,
         "_deepnote_index_column": 0,
         "time[sec]": 0
        },
        {
         "ATotal[mG]": 1002.79057,
         "Global X": -33.043385,
         "Global Y": 3.417969,
         "Global Z": 1002.240181,
         "Sample No.": 2,
         "Ts[deg.C]": 15.92285,
         "_deepnote_index_column": 1,
         "time[sec]": 0.002
        },
        {
         "ATotal[mG]": 1002.812461,
         "Global X": -33.084989,
         "Global Y": 3.477454,
         "Global Z": 1002.260506,
         "Sample No.": 3,
         "Ts[deg.C]": 15.92285,
         "_deepnote_index_column": 2,
         "time[sec]": 0.004
        },
        {
         "ATotal[mG]": 1002.829127,
         "Global X": -33.087611,
         "Global Y": 3.517032,
         "Global Z": 1002.276957,
         "Sample No.": 4,
         "Ts[deg.C]": 15.92285,
         "_deepnote_index_column": 3,
         "time[sec]": 0.006
        },
        {
         "ATotal[mG]": 1002.796968,
         "Global X": -33.03355,
         "Global Y": 3.501534,
         "Global Z": 1002.246618,
         "Sample No.": 5,
         "Ts[deg.C]": 15.92285,
         "_deepnote_index_column": 4,
         "time[sec]": 0.008
        }
       ]
      },
      "text/html": [
       "<div>\n",
       "<style scoped>\n",
       "    .dataframe tbody tr th:only-of-type {\n",
       "        vertical-align: middle;\n",
       "    }\n",
       "\n",
       "    .dataframe tbody tr th {\n",
       "        vertical-align: top;\n",
       "    }\n",
       "\n",
       "    .dataframe thead th {\n",
       "        text-align: right;\n",
       "    }\n",
       "</style>\n",
       "<table border=\"1\" class=\"dataframe\">\n",
       "  <thead>\n",
       "    <tr style=\"text-align: right;\">\n",
       "      <th></th>\n",
       "      <th>Sample No.</th>\n",
       "      <th>time[sec]</th>\n",
       "      <th>Global X</th>\n",
       "      <th>Global Y</th>\n",
       "      <th>Global Z</th>\n",
       "      <th>ATotal[mG]</th>\n",
       "      <th>Ts[deg.C]</th>\n",
       "    </tr>\n",
       "  </thead>\n",
       "  <tbody>\n",
       "    <tr>\n",
       "      <th>0</th>\n",
       "      <td>1</td>\n",
       "      <td>0.000</td>\n",
       "      <td>-32.989442</td>\n",
       "      <td>3.453851</td>\n",
       "      <td>1002.251267</td>\n",
       "      <td>1002.799998</td>\n",
       "      <td>15.92285</td>\n",
       "    </tr>\n",
       "    <tr>\n",
       "      <th>1</th>\n",
       "      <td>2</td>\n",
       "      <td>0.002</td>\n",
       "      <td>-33.043385</td>\n",
       "      <td>3.417969</td>\n",
       "      <td>1002.240181</td>\n",
       "      <td>1002.790570</td>\n",
       "      <td>15.92285</td>\n",
       "    </tr>\n",
       "    <tr>\n",
       "      <th>2</th>\n",
       "      <td>3</td>\n",
       "      <td>0.004</td>\n",
       "      <td>-33.084989</td>\n",
       "      <td>3.477454</td>\n",
       "      <td>1002.260506</td>\n",
       "      <td>1002.812461</td>\n",
       "      <td>15.92285</td>\n",
       "    </tr>\n",
       "    <tr>\n",
       "      <th>3</th>\n",
       "      <td>4</td>\n",
       "      <td>0.006</td>\n",
       "      <td>-33.087611</td>\n",
       "      <td>3.517032</td>\n",
       "      <td>1002.276957</td>\n",
       "      <td>1002.829127</td>\n",
       "      <td>15.92285</td>\n",
       "    </tr>\n",
       "    <tr>\n",
       "      <th>4</th>\n",
       "      <td>5</td>\n",
       "      <td>0.008</td>\n",
       "      <td>-33.033550</td>\n",
       "      <td>3.501534</td>\n",
       "      <td>1002.246618</td>\n",
       "      <td>1002.796968</td>\n",
       "      <td>15.92285</td>\n",
       "    </tr>\n",
       "  </tbody>\n",
       "</table>\n",
       "</div>"
      ],
      "text/plain": [
       "   Sample No.  time[sec]   Global X  Global Y     Global Z   ATotal[mG]  \\\n",
       "0           1      0.000 -32.989442  3.453851  1002.251267  1002.799998   \n",
       "1           2      0.002 -33.043385  3.417969  1002.240181  1002.790570   \n",
       "2           3      0.004 -33.084989  3.477454  1002.260506  1002.812461   \n",
       "3           4      0.006 -33.087611  3.517032  1002.276957  1002.829127   \n",
       "4           5      0.008 -33.033550  3.501534  1002.246618  1002.796968   \n",
       "\n",
       "   Ts[deg.C]  \n",
       "0   15.92285  \n",
       "1   15.92285  \n",
       "2   15.92285  \n",
       "3   15.92285  \n",
       "4   15.92285  "
      ]
     },
     "execution_count": 4,
     "metadata": {},
     "output_type": "execute_result"
    }
   ],
   "source": [
    "sw_df_axes_reset = pd.read_csv('sather-tower-files/SouthWest.csv')\n",
    "sw_df_axes_reset[\"Global X\"] = sw_df_axes_reset[\"Ay[mG]\"]\n",
    "sw_df_axes_reset[\"Global Y\"] = sw_df_axes_reset[\"Az[mG]\"]\n",
    "sw_df_axes_reset[\"Global Z\"] = sw_df_axes_reset[\"Ax[mG]\"]\n",
    "sw_df_axes_reset = sw_df_axes_reset[['Sample No.', 'time[sec]', 'Global X', 'Global Y', 'Global Z', 'ATotal[mG]', 'Ts[deg.C]']]\n",
    "sw_df_axes_reset.head()"
   ]
  },
  {
   "cell_type": "markdown",
   "metadata": {
    "cell_id": "00017-49974c53-b1c2-4bb5-ad83-635bed5a4f55",
    "deepnote_cell_type": "markdown",
    "tags": []
   },
   "source": [
    "#### Resetting axes for NorthEast dataset"
   ]
  },
  {
   "cell_type": "code",
   "execution_count": null,
   "metadata": {
    "cell_id": "00018-0f1714af-3f10-453a-9b24-7ae33780b61f",
    "deepnote_cell_type": "code",
    "deepnote_to_be_reexecuted": false,
    "execution_millis": 904,
    "execution_start": 1622563006261,
    "source_hash": "86fd3674",
    "tags": []
   },
   "outputs": [
    {
     "data": {
      "application/vnd.deepnote.dataframe.v2+json": {
       "column_count": 7,
       "columns": [
        {
         "dtype": "int64",
         "name": "Sample No.",
         "stats": {
          "histogram": [
           {
            "bin_end": 1.4,
            "bin_start": 1,
            "count": 1
           },
           {
            "bin_end": 1.8,
            "bin_start": 1.4,
            "count": 0
           },
           {
            "bin_end": 2.2,
            "bin_start": 1.8,
            "count": 1
           },
           {
            "bin_end": 2.6,
            "bin_start": 2.2,
            "count": 0
           },
           {
            "bin_end": 3,
            "bin_start": 2.6,
            "count": 0
           },
           {
            "bin_end": 3.4000000000000004,
            "bin_start": 3,
            "count": 1
           },
           {
            "bin_end": 3.8000000000000003,
            "bin_start": 3.4000000000000004,
            "count": 0
           },
           {
            "bin_end": 4.2,
            "bin_start": 3.8000000000000003,
            "count": 1
           },
           {
            "bin_end": 4.6,
            "bin_start": 4.2,
            "count": 0
           },
           {
            "bin_end": 5,
            "bin_start": 4.6,
            "count": 1
           }
          ],
          "max": "5",
          "min": "1",
          "nan_count": 0,
          "unique_count": 5
         }
        },
        {
         "dtype": "float64",
         "name": "time[sec]",
         "stats": {
          "histogram": [
           {
            "bin_end": 0.0008,
            "bin_start": 0,
            "count": 1
           },
           {
            "bin_end": 0.0016,
            "bin_start": 0.0008,
            "count": 0
           },
           {
            "bin_end": 0.0024000000000000002,
            "bin_start": 0.0016,
            "count": 1
           },
           {
            "bin_end": 0.0032,
            "bin_start": 0.0024000000000000002,
            "count": 0
           },
           {
            "bin_end": 0.004,
            "bin_start": 0.0032,
            "count": 0
           },
           {
            "bin_end": 0.0048000000000000004,
            "bin_start": 0.004,
            "count": 1
           },
           {
            "bin_end": 0.0056,
            "bin_start": 0.0048000000000000004,
            "count": 0
           },
           {
            "bin_end": 0.0064,
            "bin_start": 0.0056,
            "count": 1
           },
           {
            "bin_end": 0.007200000000000001,
            "bin_start": 0.0064,
            "count": 0
           },
           {
            "bin_end": 0.008,
            "bin_start": 0.007200000000000001,
            "count": 1
           }
          ],
          "max": "0.008",
          "min": "0.0",
          "nan_count": 0,
          "unique_count": 5
         }
        },
        {
         "dtype": "float64",
         "name": "Global X",
         "stats": {
          "histogram": [
           {
            "bin_end": -10.9067027,
            "bin_start": -10.914207,
            "count": 1
           },
           {
            "bin_end": -10.8991984,
            "bin_start": -10.9067027,
            "count": 1
           },
           {
            "bin_end": -10.891694099999999,
            "bin_start": -10.8991984,
            "count": 0
           },
           {
            "bin_end": -10.8841898,
            "bin_start": -10.891694099999999,
            "count": 0
           },
           {
            "bin_end": -10.8766855,
            "bin_start": -10.8841898,
            "count": 0
           },
           {
            "bin_end": -10.8691812,
            "bin_start": -10.8766855,
            "count": 0
           },
           {
            "bin_end": -10.861676899999999,
            "bin_start": -10.8691812,
            "count": 1
           },
           {
            "bin_end": -10.8541726,
            "bin_start": -10.861676899999999,
            "count": 0
           },
           {
            "bin_end": -10.846668300000001,
            "bin_start": -10.8541726,
            "count": 1
           },
           {
            "bin_end": -10.839164,
            "bin_start": -10.846668300000001,
            "count": 1
           }
          ],
          "max": "-10.839164",
          "min": "-10.914207",
          "nan_count": 0,
          "unique_count": 5
         }
        },
        {
         "dtype": "float64",
         "name": "Global Y",
         "stats": {
          "histogram": [
           {
            "bin_end": 12.0197471,
            "bin_start": 12.014031,
            "count": 1
           },
           {
            "bin_end": 12.025463199999999,
            "bin_start": 12.0197471,
            "count": 1
           },
           {
            "bin_end": 12.0311793,
            "bin_start": 12.025463199999999,
            "count": 0
           },
           {
            "bin_end": 12.036895399999999,
            "bin_start": 12.0311793,
            "count": 0
           },
           {
            "bin_end": 12.0426115,
            "bin_start": 12.036895399999999,
            "count": 0
           },
           {
            "bin_end": 12.0483276,
            "bin_start": 12.0426115,
            "count": 0
           },
           {
            "bin_end": 12.0540437,
            "bin_start": 12.0483276,
            "count": 1
           },
           {
            "bin_end": 12.0597598,
            "bin_start": 12.0540437,
            "count": 0
           },
           {
            "bin_end": 12.0654759,
            "bin_start": 12.0597598,
            "count": 1
           },
           {
            "bin_end": 12.071192,
            "bin_start": 12.0654759,
            "count": 1
           }
          ],
          "max": "12.071192",
          "min": "12.014031",
          "nan_count": 0,
          "unique_count": 5
         }
        },
        {
         "dtype": "float64",
         "name": "Global Z",
         "stats": {
          "histogram": [
           {
            "bin_end": 1002.8291766,
            "bin_start": 1002.827466,
            "count": 1
           },
           {
            "bin_end": 1002.8308872,
            "bin_start": 1002.8291766,
            "count": 1
           },
           {
            "bin_end": 1002.8325977999999,
            "bin_start": 1002.8308872,
            "count": 0
           },
           {
            "bin_end": 1002.8343083999999,
            "bin_start": 1002.8325977999999,
            "count": 0
           },
           {
            "bin_end": 1002.836019,
            "bin_start": 1002.8343083999999,
            "count": 0
           },
           {
            "bin_end": 1002.8377296,
            "bin_start": 1002.836019,
            "count": 1
           },
           {
            "bin_end": 1002.8394402,
            "bin_start": 1002.8377296,
            "count": 0
           },
           {
            "bin_end": 1002.8411507999999,
            "bin_start": 1002.8394402,
            "count": 0
           },
           {
            "bin_end": 1002.8428614,
            "bin_start": 1002.8411507999999,
            "count": 1
           },
           {
            "bin_end": 1002.844572,
            "bin_start": 1002.8428614,
            "count": 1
           }
          ],
          "max": "1002.844572",
          "min": "1002.827466",
          "nan_count": 0,
          "unique_count": 5
         }
        },
        {
         "dtype": "float64",
         "name": "ATotal[mG]",
         "stats": {
          "histogram": [
           {
            "bin_end": 1002.9611334,
            "bin_start": 1002.9595,
            "count": 2
           },
           {
            "bin_end": 1002.9627668,
            "bin_start": 1002.9611334,
            "count": 0
           },
           {
            "bin_end": 1002.9644002,
            "bin_start": 1002.9627668,
            "count": 0
           },
           {
            "bin_end": 1002.9660336000001,
            "bin_start": 1002.9644002,
            "count": 0
           },
           {
            "bin_end": 1002.967667,
            "bin_start": 1002.9660336000001,
            "count": 0
           },
           {
            "bin_end": 1002.9693004,
            "bin_start": 1002.967667,
            "count": 1
           },
           {
            "bin_end": 1002.9709338,
            "bin_start": 1002.9693004,
            "count": 0
           },
           {
            "bin_end": 1002.9725672,
            "bin_start": 1002.9709338,
            "count": 0
           },
           {
            "bin_end": 1002.9742006,
            "bin_start": 1002.9725672,
            "count": 1
           },
           {
            "bin_end": 1002.975834,
            "bin_start": 1002.9742006,
            "count": 1
           }
          ],
          "max": "1002.975834",
          "min": "1002.9595",
          "nan_count": 0,
          "unique_count": 5
         }
        },
        {
         "dtype": "float64",
         "name": "Ts[deg.C]",
         "stats": {
          "histogram": [
           {
            "bin_end": 15.024799999999999,
            "bin_start": 14.9248,
            "count": 0
           },
           {
            "bin_end": 15.124799999999999,
            "bin_start": 15.024799999999999,
            "count": 0
           },
           {
            "bin_end": 15.2248,
            "bin_start": 15.124799999999999,
            "count": 0
           },
           {
            "bin_end": 15.3248,
            "bin_start": 15.2248,
            "count": 0
           },
           {
            "bin_end": 15.4248,
            "bin_start": 15.3248,
            "count": 0
           },
           {
            "bin_end": 15.524799999999999,
            "bin_start": 15.4248,
            "count": 5
           },
           {
            "bin_end": 15.624799999999999,
            "bin_start": 15.524799999999999,
            "count": 0
           },
           {
            "bin_end": 15.7248,
            "bin_start": 15.624799999999999,
            "count": 0
           },
           {
            "bin_end": 15.8248,
            "bin_start": 15.7248,
            "count": 0
           },
           {
            "bin_end": 15.9248,
            "bin_start": 15.8248,
            "count": 0
           }
          ],
          "max": "15.4248",
          "min": "15.4248",
          "nan_count": 0,
          "unique_count": 1
         }
        },
        {
         "dtype": "int64",
         "name": "_deepnote_index_column"
        }
       ],
       "row_count": 5,
       "rows_bottom": null,
       "rows_top": [
        {
         "ATotal[mG]": 1002.975834,
         "Global X": -10.852396,
         "Global Y": 12.062907,
         "Global Z": 1002.844572,
         "Sample No.": 1,
         "Ts[deg.C]": 15.4248,
         "_deepnote_index_column": 0,
         "time[sec]": 0
        },
        {
         "ATotal[mG]": 1002.960147,
         "Global X": -10.839164,
         "Global Y": 12.024105,
         "Global Z": 1002.829492,
         "Sample No.": 2,
         "Ts[deg.C]": 15.4248,
         "_deepnote_index_column": 1,
         "time[sec]": 0.002
        },
        {
         "ATotal[mG]": 1002.967973,
         "Global X": -10.863066,
         "Global Y": 12.014031,
         "Global Z": 1002.837181,
         "Sample No.": 3,
         "Ts[deg.C]": 15.4248,
         "_deepnote_index_column": 2,
         "time[sec]": 0.004
        },
        {
         "ATotal[mG]": 1002.97343,
         "Global X": -10.904431,
         "Global Y": 12.053967,
         "Global Z": 1002.841711,
         "Sample No.": 4,
         "Ts[deg.C]": 15.4248,
         "_deepnote_index_column": 3,
         "time[sec]": 0.006
        },
        {
         "ATotal[mG]": 1002.9595,
         "Global X": -10.914207,
         "Global Y": 12.071192,
         "Global Z": 1002.827466,
         "Sample No.": 5,
         "Ts[deg.C]": 15.4248,
         "_deepnote_index_column": 4,
         "time[sec]": 0.008
        }
       ]
      },
      "text/html": [
       "<div>\n",
       "<style scoped>\n",
       "    .dataframe tbody tr th:only-of-type {\n",
       "        vertical-align: middle;\n",
       "    }\n",
       "\n",
       "    .dataframe tbody tr th {\n",
       "        vertical-align: top;\n",
       "    }\n",
       "\n",
       "    .dataframe thead th {\n",
       "        text-align: right;\n",
       "    }\n",
       "</style>\n",
       "<table border=\"1\" class=\"dataframe\">\n",
       "  <thead>\n",
       "    <tr style=\"text-align: right;\">\n",
       "      <th></th>\n",
       "      <th>Sample No.</th>\n",
       "      <th>time[sec]</th>\n",
       "      <th>Global X</th>\n",
       "      <th>Global Y</th>\n",
       "      <th>Global Z</th>\n",
       "      <th>ATotal[mG]</th>\n",
       "      <th>Ts[deg.C]</th>\n",
       "    </tr>\n",
       "  </thead>\n",
       "  <tbody>\n",
       "    <tr>\n",
       "      <th>0</th>\n",
       "      <td>1</td>\n",
       "      <td>0.000</td>\n",
       "      <td>-10.852396</td>\n",
       "      <td>12.062907</td>\n",
       "      <td>1002.844572</td>\n",
       "      <td>1002.975834</td>\n",
       "      <td>15.4248</td>\n",
       "    </tr>\n",
       "    <tr>\n",
       "      <th>1</th>\n",
       "      <td>2</td>\n",
       "      <td>0.002</td>\n",
       "      <td>-10.839164</td>\n",
       "      <td>12.024105</td>\n",
       "      <td>1002.829492</td>\n",
       "      <td>1002.960147</td>\n",
       "      <td>15.4248</td>\n",
       "    </tr>\n",
       "    <tr>\n",
       "      <th>2</th>\n",
       "      <td>3</td>\n",
       "      <td>0.004</td>\n",
       "      <td>-10.863066</td>\n",
       "      <td>12.014031</td>\n",
       "      <td>1002.837181</td>\n",
       "      <td>1002.967973</td>\n",
       "      <td>15.4248</td>\n",
       "    </tr>\n",
       "    <tr>\n",
       "      <th>3</th>\n",
       "      <td>4</td>\n",
       "      <td>0.006</td>\n",
       "      <td>-10.904431</td>\n",
       "      <td>12.053967</td>\n",
       "      <td>1002.841711</td>\n",
       "      <td>1002.973430</td>\n",
       "      <td>15.4248</td>\n",
       "    </tr>\n",
       "    <tr>\n",
       "      <th>4</th>\n",
       "      <td>5</td>\n",
       "      <td>0.008</td>\n",
       "      <td>-10.914207</td>\n",
       "      <td>12.071192</td>\n",
       "      <td>1002.827466</td>\n",
       "      <td>1002.959500</td>\n",
       "      <td>15.4248</td>\n",
       "    </tr>\n",
       "  </tbody>\n",
       "</table>\n",
       "</div>"
      ],
      "text/plain": [
       "   Sample No.  time[sec]   Global X   Global Y     Global Z   ATotal[mG]  \\\n",
       "0           1      0.000 -10.852396  12.062907  1002.844572  1002.975834   \n",
       "1           2      0.002 -10.839164  12.024105  1002.829492  1002.960147   \n",
       "2           3      0.004 -10.863066  12.014031  1002.837181  1002.967973   \n",
       "3           4      0.006 -10.904431  12.053967  1002.841711  1002.973430   \n",
       "4           5      0.008 -10.914207  12.071192  1002.827466  1002.959500   \n",
       "\n",
       "   Ts[deg.C]  \n",
       "0    15.4248  \n",
       "1    15.4248  \n",
       "2    15.4248  \n",
       "3    15.4248  \n",
       "4    15.4248  "
      ]
     },
     "execution_count": 5,
     "metadata": {},
     "output_type": "execute_result"
    }
   ],
   "source": [
    "ne_df_axes_reset = pd.read_csv('sather-tower-files/NorthEast.csv')\n",
    "ne_df_axes_reset[\"Global X\"] = -1 * ne_df_axes_reset[\"Az[mG]\"]\n",
    "ne_df_axes_reset[\"Global Y\"] =  ne_df_axes_reset[\"Ay[mG]\"]\n",
    "ne_df_axes_reset[\"Global Z\"] = ne_df_axes_reset[\"Ax[mG]\"]\n",
    "ne_df_axes_reset = ne_df_axes_reset[['Sample No.', 'time[sec]', 'Global X', 'Global Y', 'Global Z', 'ATotal[mG]', 'Ts[deg.C]']]\n",
    "ne_df_axes_reset.head()"
   ]
  },
  {
   "cell_type": "markdown",
   "metadata": {
    "cell_id": "00019-2276f763-7208-4aec-a536-8b939120b26b",
    "deepnote_cell_type": "markdown",
    "tags": []
   },
   "source": [
    "#### Resetting axes for SouthEast dataset"
   ]
  },
  {
   "cell_type": "code",
   "execution_count": null,
   "metadata": {
    "cell_id": "00020-ba481c33-8a5e-4ef4-a737-eeecfdeb769c",
    "deepnote_cell_type": "code",
    "deepnote_to_be_reexecuted": false,
    "execution_millis": 1188,
    "execution_start": 1622563007163,
    "source_hash": "b376fab8",
    "tags": []
   },
   "outputs": [
    {
     "data": {
      "application/vnd.deepnote.dataframe.v2+json": {
       "column_count": 10,
       "columns": [
        {
         "dtype": "int64",
         "name": "Sample No.",
         "stats": {
          "histogram": [
           {
            "bin_end": 1.4,
            "bin_start": 1,
            "count": 1
           },
           {
            "bin_end": 1.8,
            "bin_start": 1.4,
            "count": 0
           },
           {
            "bin_end": 2.2,
            "bin_start": 1.8,
            "count": 1
           },
           {
            "bin_end": 2.6,
            "bin_start": 2.2,
            "count": 0
           },
           {
            "bin_end": 3,
            "bin_start": 2.6,
            "count": 0
           },
           {
            "bin_end": 3.4000000000000004,
            "bin_start": 3,
            "count": 1
           },
           {
            "bin_end": 3.8000000000000003,
            "bin_start": 3.4000000000000004,
            "count": 0
           },
           {
            "bin_end": 4.2,
            "bin_start": 3.8000000000000003,
            "count": 1
           },
           {
            "bin_end": 4.6,
            "bin_start": 4.2,
            "count": 0
           },
           {
            "bin_end": 5,
            "bin_start": 4.6,
            "count": 1
           }
          ],
          "max": "5",
          "min": "1",
          "nan_count": 0,
          "unique_count": 5
         }
        },
        {
         "dtype": "float64",
         "name": "time[sec]",
         "stats": {
          "histogram": [
           {
            "bin_end": 0.0008,
            "bin_start": 0,
            "count": 1
           },
           {
            "bin_end": 0.0016,
            "bin_start": 0.0008,
            "count": 0
           },
           {
            "bin_end": 0.0024000000000000002,
            "bin_start": 0.0016,
            "count": 1
           },
           {
            "bin_end": 0.0032,
            "bin_start": 0.0024000000000000002,
            "count": 0
           },
           {
            "bin_end": 0.004,
            "bin_start": 0.0032,
            "count": 0
           },
           {
            "bin_end": 0.0048000000000000004,
            "bin_start": 0.004,
            "count": 1
           },
           {
            "bin_end": 0.0056,
            "bin_start": 0.0048000000000000004,
            "count": 0
           },
           {
            "bin_end": 0.0064,
            "bin_start": 0.0056,
            "count": 1
           },
           {
            "bin_end": 0.007200000000000001,
            "bin_start": 0.0064,
            "count": 0
           },
           {
            "bin_end": 0.008,
            "bin_start": 0.007200000000000001,
            "count": 1
           }
          ],
          "max": "0.008",
          "min": "0.0",
          "nan_count": 0,
          "unique_count": 5
         }
        },
        {
         "dtype": "float64",
         "name": "Ax[mG]",
         "stats": {
          "histogram": [
           {
            "bin_end": 1001.9594070999999,
            "bin_start": 1001.948416,
            "count": 1
           },
           {
            "bin_end": 1001.9703982,
            "bin_start": 1001.9594070999999,
            "count": 0
           },
           {
            "bin_end": 1001.9813892999999,
            "bin_start": 1001.9703982,
            "count": 0
           },
           {
            "bin_end": 1001.9923804,
            "bin_start": 1001.9813892999999,
            "count": 1
           },
           {
            "bin_end": 1002.0033715,
            "bin_start": 1001.9923804,
            "count": 0
           },
           {
            "bin_end": 1002.0143625999999,
            "bin_start": 1002.0033715,
            "count": 1
           },
           {
            "bin_end": 1002.0253537,
            "bin_start": 1002.0143625999999,
            "count": 0
           },
           {
            "bin_end": 1002.0363447999999,
            "bin_start": 1002.0253537,
            "count": 0
           },
           {
            "bin_end": 1002.0473359,
            "bin_start": 1002.0363447999999,
            "count": 0
           },
           {
            "bin_end": 1002.058327,
            "bin_start": 1002.0473359,
            "count": 2
           }
          ],
          "max": "1002.058327",
          "min": "1001.948416",
          "nan_count": 0,
          "unique_count": 5
         }
        },
        {
         "dtype": "float64",
         "name": "Ay[mG]",
         "stats": {
          "histogram": [
           {
            "bin_end": 34.150266699999996,
            "bin_start": 34.129262,
            "count": 2
           },
           {
            "bin_end": 34.171271399999995,
            "bin_start": 34.150266699999996,
            "count": 0
           },
           {
            "bin_end": 34.1922761,
            "bin_start": 34.171271399999995,
            "count": 0
           },
           {
            "bin_end": 34.2132808,
            "bin_start": 34.1922761,
            "count": 0
           },
           {
            "bin_end": 34.2342855,
            "bin_start": 34.2132808,
            "count": 1
           },
           {
            "bin_end": 34.2552902,
            "bin_start": 34.2342855,
            "count": 1
           },
           {
            "bin_end": 34.276294899999996,
            "bin_start": 34.2552902,
            "count": 0
           },
           {
            "bin_end": 34.2972996,
            "bin_start": 34.276294899999996,
            "count": 0
           },
           {
            "bin_end": 34.3183043,
            "bin_start": 34.2972996,
            "count": 0
           },
           {
            "bin_end": 34.339309,
            "bin_start": 34.3183043,
            "count": 1
           }
          ],
          "max": "34.339309",
          "min": "34.129262",
          "nan_count": 0,
          "unique_count": 5
         }
        },
        {
         "dtype": "float64",
         "name": "Az[mG]",
         "stats": {
          "histogram": [
           {
            "bin_end": -7.4893833999999995,
            "bin_start": -7.501662,
            "count": 1
           },
           {
            "bin_end": -7.477104799999999,
            "bin_start": -7.4893833999999995,
            "count": 0
           },
           {
            "bin_end": -7.4648262,
            "bin_start": -7.477104799999999,
            "count": 0
           },
           {
            "bin_end": -7.4525476,
            "bin_start": -7.4648262,
            "count": 1
           },
           {
            "bin_end": -7.440269,
            "bin_start": -7.4525476,
            "count": 0
           },
           {
            "bin_end": -7.4279904,
            "bin_start": -7.440269,
            "count": 0
           },
           {
            "bin_end": -7.4157117999999995,
            "bin_start": -7.4279904,
            "count": 1
           },
           {
            "bin_end": -7.4034332,
            "bin_start": -7.4157117999999995,
            "count": 0
           },
           {
            "bin_end": -7.3911546,
            "bin_start": -7.4034332,
            "count": 0
           },
           {
            "bin_end": -7.378876,
            "bin_start": -7.3911546,
            "count": 2
           }
          ],
          "max": "-7.378876",
          "min": "-7.501662",
          "nan_count": 0,
          "unique_count": 5
         }
        },
        {
         "dtype": "float64",
         "name": "ATotal[mG]",
         "stats": {
          "histogram": [
           {
            "bin_end": 1002.5688253000001,
            "bin_start": 1002.557542,
            "count": 1
           },
           {
            "bin_end": 1002.5801086,
            "bin_start": 1002.5688253000001,
            "count": 0
           },
           {
            "bin_end": 1002.5913919,
            "bin_start": 1002.5801086,
            "count": 0
           },
           {
            "bin_end": 1002.6026752,
            "bin_start": 1002.5913919,
            "count": 1
           },
           {
            "bin_end": 1002.6139585000001,
            "bin_start": 1002.6026752,
            "count": 0
           },
           {
            "bin_end": 1002.6252418,
            "bin_start": 1002.6139585000001,
            "count": 1
           },
           {
            "bin_end": 1002.6365251,
            "bin_start": 1002.6252418,
            "count": 0
           },
           {
            "bin_end": 1002.6478084,
            "bin_start": 1002.6365251,
            "count": 0
           },
           {
            "bin_end": 1002.6590917000001,
            "bin_start": 1002.6478084,
            "count": 0
           },
           {
            "bin_end": 1002.670375,
            "bin_start": 1002.6590917000001,
            "count": 2
           }
          ],
          "max": "1002.670375",
          "min": "1002.557542",
          "nan_count": 0,
          "unique_count": 5
         }
        },
        {
         "dtype": "float64",
         "name": "Ts[deg.C]",
         "stats": {
          "histogram": [
           {
            "bin_end": 13.37832,
            "bin_start": 13.27832,
            "count": 0
           },
           {
            "bin_end": 13.47832,
            "bin_start": 13.37832,
            "count": 0
           },
           {
            "bin_end": 13.578320000000001,
            "bin_start": 13.47832,
            "count": 0
           },
           {
            "bin_end": 13.678320000000001,
            "bin_start": 13.578320000000001,
            "count": 0
           },
           {
            "bin_end": 13.77832,
            "bin_start": 13.678320000000001,
            "count": 0
           },
           {
            "bin_end": 13.87832,
            "bin_start": 13.77832,
            "count": 5
           },
           {
            "bin_end": 13.97832,
            "bin_start": 13.87832,
            "count": 0
           },
           {
            "bin_end": 14.078320000000001,
            "bin_start": 13.97832,
            "count": 0
           },
           {
            "bin_end": 14.178320000000001,
            "bin_start": 14.078320000000001,
            "count": 0
           },
           {
            "bin_end": 14.27832,
            "bin_start": 14.178320000000001,
            "count": 0
           }
          ],
          "max": "13.77832",
          "min": "13.77832",
          "nan_count": 0,
          "unique_count": 1
         }
        },
        {
         "dtype": "float64",
         "name": "Global X",
         "stats": {
          "histogram": [
           {
            "bin_end": 34.150266699999996,
            "bin_start": 34.129262,
            "count": 2
           },
           {
            "bin_end": 34.171271399999995,
            "bin_start": 34.150266699999996,
            "count": 0
           },
           {
            "bin_end": 34.1922761,
            "bin_start": 34.171271399999995,
            "count": 0
           },
           {
            "bin_end": 34.2132808,
            "bin_start": 34.1922761,
            "count": 0
           },
           {
            "bin_end": 34.2342855,
            "bin_start": 34.2132808,
            "count": 1
           },
           {
            "bin_end": 34.2552902,
            "bin_start": 34.2342855,
            "count": 1
           },
           {
            "bin_end": 34.276294899999996,
            "bin_start": 34.2552902,
            "count": 0
           },
           {
            "bin_end": 34.2972996,
            "bin_start": 34.276294899999996,
            "count": 0
           },
           {
            "bin_end": 34.3183043,
            "bin_start": 34.2972996,
            "count": 0
           },
           {
            "bin_end": 34.339309,
            "bin_start": 34.3183043,
            "count": 1
           }
          ],
          "max": "34.339309",
          "min": "34.129262",
          "nan_count": 0,
          "unique_count": 5
         }
        },
        {
         "dtype": "float64",
         "name": "Global Y",
         "stats": {
          "histogram": [
           {
            "bin_end": -7.4893833999999995,
            "bin_start": -7.501662,
            "count": 1
           },
           {
            "bin_end": -7.477104799999999,
            "bin_start": -7.4893833999999995,
            "count": 0
           },
           {
            "bin_end": -7.4648262,
            "bin_start": -7.477104799999999,
            "count": 0
           },
           {
            "bin_end": -7.4525476,
            "bin_start": -7.4648262,
            "count": 1
           },
           {
            "bin_end": -7.440269,
            "bin_start": -7.4525476,
            "count": 0
           },
           {
            "bin_end": -7.4279904,
            "bin_start": -7.440269,
            "count": 0
           },
           {
            "bin_end": -7.4157117999999995,
            "bin_start": -7.4279904,
            "count": 1
           },
           {
            "bin_end": -7.4034332,
            "bin_start": -7.4157117999999995,
            "count": 0
           },
           {
            "bin_end": -7.3911546,
            "bin_start": -7.4034332,
            "count": 0
           },
           {
            "bin_end": -7.378876,
            "bin_start": -7.3911546,
            "count": 2
           }
          ],
          "max": "-7.378876",
          "min": "-7.501662",
          "nan_count": 0,
          "unique_count": 5
         }
        },
        {
         "dtype": "float64",
         "name": "Global Z",
         "stats": {
          "histogram": [
           {
            "bin_end": 1001.9594070999999,
            "bin_start": 1001.948416,
            "count": 1
           },
           {
            "bin_end": 1001.9703982,
            "bin_start": 1001.9594070999999,
            "count": 0
           },
           {
            "bin_end": 1001.9813892999999,
            "bin_start": 1001.9703982,
            "count": 0
           },
           {
            "bin_end": 1001.9923804,
            "bin_start": 1001.9813892999999,
            "count": 1
           },
           {
            "bin_end": 1002.0033715,
            "bin_start": 1001.9923804,
            "count": 0
           },
           {
            "bin_end": 1002.0143625999999,
            "bin_start": 1002.0033715,
            "count": 1
           },
           {
            "bin_end": 1002.0253537,
            "bin_start": 1002.0143625999999,
            "count": 0
           },
           {
            "bin_end": 1002.0363447999999,
            "bin_start": 1002.0253537,
            "count": 0
           },
           {
            "bin_end": 1002.0473359,
            "bin_start": 1002.0363447999999,
            "count": 0
           },
           {
            "bin_end": 1002.058327,
            "bin_start": 1002.0473359,
            "count": 2
           }
          ],
          "max": "1002.058327",
          "min": "1001.948416",
          "nan_count": 0,
          "unique_count": 5
         }
        },
        {
         "dtype": "int64",
         "name": "_deepnote_index_column"
        }
       ],
       "row_count": 5,
       "rows_bottom": null,
       "rows_top": [
        {
         "ATotal[mG]": 1002.670375,
         "Ax[mG]": 1002.058327,
         "Ay[mG]": 34.240961,
         "Az[mG]": -7.385492,
         "Global X": 34.240961,
         "Global Y": -7.385492,
         "Global Z": 1002.058327,
         "Sample No.": 1,
         "Ts[deg.C]": 13.77832,
         "_deepnote_index_column": 0,
         "time[sec]": 0
        },
        {
         "ATotal[mG]": 1002.597716,
         "Ax[mG]": 1001.989484,
         "Ay[mG]": 34.129262,
         "Az[mG]": -7.378876,
         "Global X": 34.129262,
         "Global Y": -7.378876,
         "Global Z": 1001.989484,
         "Sample No.": 2,
         "Ts[deg.C]": 13.77832,
         "_deepnote_index_column": 1,
         "time[sec]": 0.002
        },
        {
         "ATotal[mG]": 1002.557542,
         "Ax[mG]": 1001.948416,
         "Ay[mG]": 34.14464,
         "Az[mG]": -7.425666,
         "Global X": 34.14464,
         "Global Y": -7.425666,
         "Global Z": 1001.948416,
         "Sample No.": 3,
         "Ts[deg.C]": 13.77832,
         "_deepnote_index_column": 2,
         "time[sec]": 0.004
        },
        {
         "ATotal[mG]": 1002.618545,
         "Ax[mG]": 1002.006233,
         "Ay[mG]": 34.231186,
         "Az[mG]": -7.462025,
         "Global X": 34.231186,
         "Global Y": -7.462025,
         "Global Z": 1002.006233,
         "Sample No.": 4,
         "Ts[deg.C]": 13.77832,
         "_deepnote_index_column": 3,
         "time[sec]": 0.006
        },
        {
         "ATotal[mG]": 1002.668048,
         "Ax[mG]": 1002.051771,
         "Ay[mG]": 34.339309,
         "Az[mG]": -7.501662,
         "Global X": 34.339309,
         "Global Y": -7.501662,
         "Global Z": 1002.051771,
         "Sample No.": 5,
         "Ts[deg.C]": 13.77832,
         "_deepnote_index_column": 4,
         "time[sec]": 0.008
        }
       ]
      },
      "text/html": [
       "<div>\n",
       "<style scoped>\n",
       "    .dataframe tbody tr th:only-of-type {\n",
       "        vertical-align: middle;\n",
       "    }\n",
       "\n",
       "    .dataframe tbody tr th {\n",
       "        vertical-align: top;\n",
       "    }\n",
       "\n",
       "    .dataframe thead th {\n",
       "        text-align: right;\n",
       "    }\n",
       "</style>\n",
       "<table border=\"1\" class=\"dataframe\">\n",
       "  <thead>\n",
       "    <tr style=\"text-align: right;\">\n",
       "      <th></th>\n",
       "      <th>Sample No.</th>\n",
       "      <th>time[sec]</th>\n",
       "      <th>Ax[mG]</th>\n",
       "      <th>Ay[mG]</th>\n",
       "      <th>Az[mG]</th>\n",
       "      <th>ATotal[mG]</th>\n",
       "      <th>Ts[deg.C]</th>\n",
       "      <th>Global X</th>\n",
       "      <th>Global Y</th>\n",
       "      <th>Global Z</th>\n",
       "    </tr>\n",
       "  </thead>\n",
       "  <tbody>\n",
       "    <tr>\n",
       "      <th>0</th>\n",
       "      <td>1</td>\n",
       "      <td>0.000</td>\n",
       "      <td>1002.058327</td>\n",
       "      <td>34.240961</td>\n",
       "      <td>-7.385492</td>\n",
       "      <td>1002.670375</td>\n",
       "      <td>13.77832</td>\n",
       "      <td>34.240961</td>\n",
       "      <td>-7.385492</td>\n",
       "      <td>1002.058327</td>\n",
       "    </tr>\n",
       "    <tr>\n",
       "      <th>1</th>\n",
       "      <td>2</td>\n",
       "      <td>0.002</td>\n",
       "      <td>1001.989484</td>\n",
       "      <td>34.129262</td>\n",
       "      <td>-7.378876</td>\n",
       "      <td>1002.597716</td>\n",
       "      <td>13.77832</td>\n",
       "      <td>34.129262</td>\n",
       "      <td>-7.378876</td>\n",
       "      <td>1001.989484</td>\n",
       "    </tr>\n",
       "    <tr>\n",
       "      <th>2</th>\n",
       "      <td>3</td>\n",
       "      <td>0.004</td>\n",
       "      <td>1001.948416</td>\n",
       "      <td>34.144640</td>\n",
       "      <td>-7.425666</td>\n",
       "      <td>1002.557542</td>\n",
       "      <td>13.77832</td>\n",
       "      <td>34.144640</td>\n",
       "      <td>-7.425666</td>\n",
       "      <td>1001.948416</td>\n",
       "    </tr>\n",
       "    <tr>\n",
       "      <th>3</th>\n",
       "      <td>4</td>\n",
       "      <td>0.006</td>\n",
       "      <td>1002.006233</td>\n",
       "      <td>34.231186</td>\n",
       "      <td>-7.462025</td>\n",
       "      <td>1002.618545</td>\n",
       "      <td>13.77832</td>\n",
       "      <td>34.231186</td>\n",
       "      <td>-7.462025</td>\n",
       "      <td>1002.006233</td>\n",
       "    </tr>\n",
       "    <tr>\n",
       "      <th>4</th>\n",
       "      <td>5</td>\n",
       "      <td>0.008</td>\n",
       "      <td>1002.051771</td>\n",
       "      <td>34.339309</td>\n",
       "      <td>-7.501662</td>\n",
       "      <td>1002.668048</td>\n",
       "      <td>13.77832</td>\n",
       "      <td>34.339309</td>\n",
       "      <td>-7.501662</td>\n",
       "      <td>1002.051771</td>\n",
       "    </tr>\n",
       "  </tbody>\n",
       "</table>\n",
       "</div>"
      ],
      "text/plain": [
       "   Sample No.  time[sec]       Ax[mG]     Ay[mG]    Az[mG]   ATotal[mG]  \\\n",
       "0           1      0.000  1002.058327  34.240961 -7.385492  1002.670375   \n",
       "1           2      0.002  1001.989484  34.129262 -7.378876  1002.597716   \n",
       "2           3      0.004  1001.948416  34.144640 -7.425666  1002.557542   \n",
       "3           4      0.006  1002.006233  34.231186 -7.462025  1002.618545   \n",
       "4           5      0.008  1002.051771  34.339309 -7.501662  1002.668048   \n",
       "\n",
       "   Ts[deg.C]   Global X  Global Y     Global Z  \n",
       "0   13.77832  34.240961 -7.385492  1002.058327  \n",
       "1   13.77832  34.129262 -7.378876  1001.989484  \n",
       "2   13.77832  34.144640 -7.425666  1001.948416  \n",
       "3   13.77832  34.231186 -7.462025  1002.006233  \n",
       "4   13.77832  34.339309 -7.501662  1002.051771  "
      ]
     },
     "execution_count": 6,
     "metadata": {},
     "output_type": "execute_result"
    }
   ],
   "source": [
    "se_df_axes_reset = pd.read_csv('sather-tower-files/SouthEast.csv')\n",
    "se_df_axes_reset[\"Global X\"] = se_df_axes_reset[\"Ay[mG]\"]\n",
    "se_df_axes_reset[\"Global Y\"] =  se_df_axes_reset[\"Az[mG]\"]\n",
    "se_df_axes_reset[\"Global Z\"] = se_df_axes_reset[\"Ax[mG]\"]\n",
    "se_df_axes_reset.head()"
   ]
  },
  {
   "cell_type": "markdown",
   "metadata": {
    "cell_id": "00021-823f7a7b-a02d-4abf-bf1f-adda9e06c1ff",
    "deepnote_cell_type": "markdown",
    "tags": []
   },
   "source": [
    "#### Resetting axes for NorthWest dataset"
   ]
  },
  {
   "cell_type": "code",
   "execution_count": null,
   "metadata": {
    "cell_id": "00022-618c245d-6a34-4618-9b5b-1a36cd71f1cf",
    "deepnote_cell_type": "code",
    "deepnote_to_be_reexecuted": false,
    "execution_millis": 1430,
    "execution_start": 1622563008349,
    "source_hash": "6228c2df",
    "tags": []
   },
   "outputs": [
    {
     "data": {
      "application/vnd.deepnote.dataframe.v2+json": {
       "column_count": 7,
       "columns": [
        {
         "dtype": "int64",
         "name": "Sample No.",
         "stats": {
          "histogram": [
           {
            "bin_end": 1.4,
            "bin_start": 1,
            "count": 1
           },
           {
            "bin_end": 1.8,
            "bin_start": 1.4,
            "count": 0
           },
           {
            "bin_end": 2.2,
            "bin_start": 1.8,
            "count": 1
           },
           {
            "bin_end": 2.6,
            "bin_start": 2.2,
            "count": 0
           },
           {
            "bin_end": 3,
            "bin_start": 2.6,
            "count": 0
           },
           {
            "bin_end": 3.4000000000000004,
            "bin_start": 3,
            "count": 1
           },
           {
            "bin_end": 3.8000000000000003,
            "bin_start": 3.4000000000000004,
            "count": 0
           },
           {
            "bin_end": 4.2,
            "bin_start": 3.8000000000000003,
            "count": 1
           },
           {
            "bin_end": 4.6,
            "bin_start": 4.2,
            "count": 0
           },
           {
            "bin_end": 5,
            "bin_start": 4.6,
            "count": 1
           }
          ],
          "max": "5",
          "min": "1",
          "nan_count": 0,
          "unique_count": 5
         }
        },
        {
         "dtype": "float64",
         "name": "time[sec]",
         "stats": {
          "histogram": [
           {
            "bin_end": 0.0008,
            "bin_start": 0,
            "count": 1
           },
           {
            "bin_end": 0.0016,
            "bin_start": 0.0008,
            "count": 0
           },
           {
            "bin_end": 0.0024000000000000002,
            "bin_start": 0.0016,
            "count": 1
           },
           {
            "bin_end": 0.0032,
            "bin_start": 0.0024000000000000002,
            "count": 0
           },
           {
            "bin_end": 0.004,
            "bin_start": 0.0032,
            "count": 0
           },
           {
            "bin_end": 0.0048000000000000004,
            "bin_start": 0.004,
            "count": 1
           },
           {
            "bin_end": 0.0056,
            "bin_start": 0.0048000000000000004,
            "count": 0
           },
           {
            "bin_end": 0.0064,
            "bin_start": 0.0056,
            "count": 1
           },
           {
            "bin_end": 0.007200000000000001,
            "bin_start": 0.0064,
            "count": 0
           },
           {
            "bin_end": 0.008,
            "bin_start": 0.007200000000000001,
            "count": 1
           }
          ],
          "max": "0.008",
          "min": "0.0",
          "nan_count": 0,
          "unique_count": 5
         }
        },
        {
         "dtype": "float64",
         "name": "Global X",
         "stats": {
          "histogram": [
           {
            "bin_end": -52.043712400000004,
            "bin_start": -52.048147,
            "count": 1
           },
           {
            "bin_end": -52.0392778,
            "bin_start": -52.043712400000004,
            "count": 0
           },
           {
            "bin_end": -52.0348432,
            "bin_start": -52.0392778,
            "count": 1
           },
           {
            "bin_end": -52.0304086,
            "bin_start": -52.0348432,
            "count": 0
           },
           {
            "bin_end": -52.025974000000005,
            "bin_start": -52.0304086,
            "count": 0
           },
           {
            "bin_end": -52.0215394,
            "bin_start": -52.025974000000005,
            "count": 1
           },
           {
            "bin_end": -52.0171048,
            "bin_start": -52.0215394,
            "count": 0
           },
           {
            "bin_end": -52.0126702,
            "bin_start": -52.0171048,
            "count": 0
           },
           {
            "bin_end": -52.008235600000006,
            "bin_start": -52.0126702,
            "count": 0
           },
           {
            "bin_end": -52.003801,
            "bin_start": -52.008235600000006,
            "count": 2
           }
          ],
          "max": "-52.003801",
          "min": "-52.048147",
          "nan_count": 0,
          "unique_count": 5
         }
        },
        {
         "dtype": "float64",
         "name": "Global Y",
         "stats": {
          "histogram": [
           {
            "bin_end": 69.5509254,
            "bin_start": 69.548428,
            "count": 1
           },
           {
            "bin_end": 69.5534228,
            "bin_start": 69.5509254,
            "count": 1
           },
           {
            "bin_end": 69.5559202,
            "bin_start": 69.5534228,
            "count": 0
           },
           {
            "bin_end": 69.5584176,
            "bin_start": 69.5559202,
            "count": 1
           },
           {
            "bin_end": 69.560915,
            "bin_start": 69.5584176,
            "count": 0
           },
           {
            "bin_end": 69.5634124,
            "bin_start": 69.560915,
            "count": 0
           },
           {
            "bin_end": 69.5659098,
            "bin_start": 69.5634124,
            "count": 0
           },
           {
            "bin_end": 69.5684072,
            "bin_start": 69.5659098,
            "count": 1
           },
           {
            "bin_end": 69.5709046,
            "bin_start": 69.5684072,
            "count": 0
           },
           {
            "bin_end": 69.573402,
            "bin_start": 69.5709046,
            "count": 1
           }
          ],
          "max": "69.573402",
          "min": "69.548428",
          "nan_count": 0,
          "unique_count": 5
         }
        },
        {
         "dtype": "float64",
         "name": "Global Z",
         "stats": {
          "histogram": [
           {
            "bin_end": 999.1886380000001,
            "bin_start": 999.187887,
            "count": 1
           },
           {
            "bin_end": 999.189389,
            "bin_start": 999.1886380000001,
            "count": 0
           },
           {
            "bin_end": 999.19014,
            "bin_start": 999.189389,
            "count": 0
           },
           {
            "bin_end": 999.190891,
            "bin_start": 999.19014,
            "count": 0
           },
           {
            "bin_end": 999.191642,
            "bin_start": 999.190891,
            "count": 0
           },
           {
            "bin_end": 999.192393,
            "bin_start": 999.191642,
            "count": 1
           },
           {
            "bin_end": 999.193144,
            "bin_start": 999.192393,
            "count": 0
           },
           {
            "bin_end": 999.193895,
            "bin_start": 999.193144,
            "count": 0
           },
           {
            "bin_end": 999.1946459999999,
            "bin_start": 999.193895,
            "count": 2
           },
           {
            "bin_end": 999.195397,
            "bin_start": 999.1946459999999,
            "count": 1
           }
          ],
          "max": "999.195397",
          "min": "999.187887",
          "nan_count": 0,
          "unique_count": 4
         }
        },
        {
         "dtype": "float64",
         "name": "ATotal[mG]",
         "stats": {
          "histogram": [
           {
            "bin_end": 1002.9564223,
            "bin_start": 1002.955509,
            "count": 1
           },
           {
            "bin_end": 1002.9573356,
            "bin_start": 1002.9564223,
            "count": 0
           },
           {
            "bin_end": 1002.9582489000001,
            "bin_start": 1002.9573356,
            "count": 0
           },
           {
            "bin_end": 1002.9591622,
            "bin_start": 1002.9582489000001,
            "count": 0
           },
           {
            "bin_end": 1002.9600755,
            "bin_start": 1002.9591622,
            "count": 1
           },
           {
            "bin_end": 1002.9609888,
            "bin_start": 1002.9600755,
            "count": 0
           },
           {
            "bin_end": 1002.9619021,
            "bin_start": 1002.9609888,
            "count": 0
           },
           {
            "bin_end": 1002.9628154000001,
            "bin_start": 1002.9619021,
            "count": 1
           },
           {
            "bin_end": 1002.9637287,
            "bin_start": 1002.9628154000001,
            "count": 0
           },
           {
            "bin_end": 1002.964642,
            "bin_start": 1002.9637287,
            "count": 2
           }
          ],
          "max": "1002.964642",
          "min": "1002.955509",
          "nan_count": 0,
          "unique_count": 5
         }
        },
        {
         "dtype": "float64",
         "name": "Ts[deg.C]",
         "stats": {
          "histogram": [
           {
            "bin_end": 15.0502,
            "bin_start": 14.9502,
            "count": 0
           },
           {
            "bin_end": 15.1502,
            "bin_start": 15.0502,
            "count": 0
           },
           {
            "bin_end": 15.250200000000001,
            "bin_start": 15.1502,
            "count": 0
           },
           {
            "bin_end": 15.350200000000001,
            "bin_start": 15.250200000000001,
            "count": 0
           },
           {
            "bin_end": 15.4502,
            "bin_start": 15.350200000000001,
            "count": 0
           },
           {
            "bin_end": 15.5502,
            "bin_start": 15.4502,
            "count": 5
           },
           {
            "bin_end": 15.6502,
            "bin_start": 15.5502,
            "count": 0
           },
           {
            "bin_end": 15.750200000000001,
            "bin_start": 15.6502,
            "count": 0
           },
           {
            "bin_end": 15.850200000000001,
            "bin_start": 15.750200000000001,
            "count": 0
           },
           {
            "bin_end": 15.9502,
            "bin_start": 15.850200000000001,
            "count": 0
           }
          ],
          "max": "15.4502",
          "min": "15.4502",
          "nan_count": 0,
          "unique_count": 1
         }
        },
        {
         "dtype": "int64",
         "name": "_deepnote_index_column"
        }
       ],
       "row_count": 5,
       "rows_bottom": null,
       "rows_top": [
        {
         "ATotal[mG]": 1002.964642,
         "Global X": -52.048147,
         "Global Y": 69.553018,
         "Global Z": 999.195397,
         "Sample No.": 1,
         "Ts[deg.C]": 15.4502,
         "_deepnote_index_column": 0,
         "time[sec]": 0
        },
        {
         "ATotal[mG]": 1002.963765,
         "Global X": -52.037418,
         "Global Y": 69.568098,
         "Global Z": 999.194026,
         "Sample No.": 2,
         "Ts[deg.C]": 15.4502,
         "_deepnote_index_column": 1,
         "time[sec]": 0.002
        },
        {
         "ATotal[mG]": 1002.962572,
         "Global X": -52.007318,
         "Global Y": 69.573402,
         "Global Z": 999.194026,
         "Sample No.": 3,
         "Ts[deg.C]": 15.4502,
         "_deepnote_index_column": 2,
         "time[sec]": 0.004
        },
        {
         "ATotal[mG]": 1002.959253,
         "Global X": -52.003801,
         "Global Y": 69.558144,
         "Global Z": 999.19194,
         "Sample No.": 4,
         "Ts[deg.C]": 15.4502,
         "_deepnote_index_column": 3,
         "time[sec]": 0.006
        },
        {
         "ATotal[mG]": 1002.955509,
         "Global X": -52.022457,
         "Global Y": 69.548428,
         "Global Z": 999.187887,
         "Sample No.": 5,
         "Ts[deg.C]": 15.4502,
         "_deepnote_index_column": 4,
         "time[sec]": 0.008
        }
       ]
      },
      "text/html": [
       "<div>\n",
       "<style scoped>\n",
       "    .dataframe tbody tr th:only-of-type {\n",
       "        vertical-align: middle;\n",
       "    }\n",
       "\n",
       "    .dataframe tbody tr th {\n",
       "        vertical-align: top;\n",
       "    }\n",
       "\n",
       "    .dataframe thead th {\n",
       "        text-align: right;\n",
       "    }\n",
       "</style>\n",
       "<table border=\"1\" class=\"dataframe\">\n",
       "  <thead>\n",
       "    <tr style=\"text-align: right;\">\n",
       "      <th></th>\n",
       "      <th>Sample No.</th>\n",
       "      <th>time[sec]</th>\n",
       "      <th>Global X</th>\n",
       "      <th>Global Y</th>\n",
       "      <th>Global Z</th>\n",
       "      <th>ATotal[mG]</th>\n",
       "      <th>Ts[deg.C]</th>\n",
       "    </tr>\n",
       "  </thead>\n",
       "  <tbody>\n",
       "    <tr>\n",
       "      <th>0</th>\n",
       "      <td>1</td>\n",
       "      <td>0.000</td>\n",
       "      <td>-52.048147</td>\n",
       "      <td>69.553018</td>\n",
       "      <td>999.195397</td>\n",
       "      <td>1002.964642</td>\n",
       "      <td>15.4502</td>\n",
       "    </tr>\n",
       "    <tr>\n",
       "      <th>1</th>\n",
       "      <td>2</td>\n",
       "      <td>0.002</td>\n",
       "      <td>-52.037418</td>\n",
       "      <td>69.568098</td>\n",
       "      <td>999.194026</td>\n",
       "      <td>1002.963765</td>\n",
       "      <td>15.4502</td>\n",
       "    </tr>\n",
       "    <tr>\n",
       "      <th>2</th>\n",
       "      <td>3</td>\n",
       "      <td>0.004</td>\n",
       "      <td>-52.007318</td>\n",
       "      <td>69.573402</td>\n",
       "      <td>999.194026</td>\n",
       "      <td>1002.962572</td>\n",
       "      <td>15.4502</td>\n",
       "    </tr>\n",
       "    <tr>\n",
       "      <th>3</th>\n",
       "      <td>4</td>\n",
       "      <td>0.006</td>\n",
       "      <td>-52.003801</td>\n",
       "      <td>69.558144</td>\n",
       "      <td>999.191940</td>\n",
       "      <td>1002.959253</td>\n",
       "      <td>15.4502</td>\n",
       "    </tr>\n",
       "    <tr>\n",
       "      <th>4</th>\n",
       "      <td>5</td>\n",
       "      <td>0.008</td>\n",
       "      <td>-52.022457</td>\n",
       "      <td>69.548428</td>\n",
       "      <td>999.187887</td>\n",
       "      <td>1002.955509</td>\n",
       "      <td>15.4502</td>\n",
       "    </tr>\n",
       "  </tbody>\n",
       "</table>\n",
       "</div>"
      ],
      "text/plain": [
       "   Sample No.  time[sec]   Global X   Global Y    Global Z   ATotal[mG]  \\\n",
       "0           1      0.000 -52.048147  69.553018  999.195397  1002.964642   \n",
       "1           2      0.002 -52.037418  69.568098  999.194026  1002.963765   \n",
       "2           3      0.004 -52.007318  69.573402  999.194026  1002.962572   \n",
       "3           4      0.006 -52.003801  69.558144  999.191940  1002.959253   \n",
       "4           5      0.008 -52.022457  69.548428  999.187887  1002.955509   \n",
       "\n",
       "   Ts[deg.C]  \n",
       "0    15.4502  \n",
       "1    15.4502  \n",
       "2    15.4502  \n",
       "3    15.4502  \n",
       "4    15.4502  "
      ]
     },
     "execution_count": 7,
     "metadata": {},
     "output_type": "execute_result"
    }
   ],
   "source": [
    "nw_df_axes_reset = pd.read_csv('sather-tower-files/NorthWest.csv')\n",
    "nw_df_axes_reset[\"Global X\"] = nw_df_axes_reset[\"Az[mG]\"]\n",
    "nw_df_axes_reset[\"Global Y\"] =  -1 * nw_df_axes_reset[\"Ay[mG]\"]\n",
    "nw_df_axes_reset[\"Global Z\"] = nw_df_axes_reset[\"Ax[mG]\"]\n",
    "nw_df_axes_reset = nw_df_axes_reset[['Sample No.', 'time[sec]', 'Global X', 'Global Y', 'Global Z', 'ATotal[mG]', 'Ts[deg.C]']]\n",
    "nw_df_axes_reset.head()"
   ]
  },
  {
   "cell_type": "markdown",
   "metadata": {
    "cell_id": "00026-c8ebeb68-d629-4e4b-8b22-791214089052",
    "deepnote_cell_type": "markdown",
    "tags": []
   },
   "source": []
  },
  {
   "cell_type": "markdown",
   "metadata": {
    "cell_id": "00027-08a62da1-7990-433d-987f-3cb78d7282f3",
    "deepnote_cell_type": "markdown",
    "tags": []
   },
   "source": [
    "**Congratulations! You've finished this notebook!** This concludes the second notebook in this series! In this notebook we went over:\n",
    "\n",
    "- Introduction to the Data\n",
    "- How to Import Data\n",
    "- Data Subsetting\n",
    "- Data Normalization \n",
    "\n",
    "In the next notebook we will go over the basic steps of creating preliminary visualizations with our data set!"
   ]
  },
  {
   "cell_type": "markdown",
   "metadata": {
    "cell_id": "00033-1c659639-09c9-491c-adad-bfe3cabe0fb8",
    "deepnote_cell_type": "markdown",
    "tags": []
   },
   "source": [
    "## Bibliography\n",
    "\n",
    "Notebooks Developed By: Abdoul Aziz Sandotin, Arda Ulug, Karalyn Chong, Priscilla Zhang, Salvador Ramirez Jr."
   ]
  }
 ],
 "metadata": {
  "deepnote": {},
  "deepnote_execution_queue": [],
  "deepnote_notebook_id": "c717f373-8932-4ed8-8b2f-96e5a044be73",
  "kernelspec": {
   "display_name": "Python 3",
   "language": "python",
   "name": "python3"
  },
  "language_info": {
   "codemirror_mode": {
    "name": "ipython",
    "version": 3
   },
   "file_extension": ".py",
   "mimetype": "text/x-python",
   "name": "python",
   "nbconvert_exporter": "python",
   "pygments_lexer": "ipython3",
   "version": "3.7.4"
  }
 },
 "nbformat": 4,
 "nbformat_minor": 2
}
