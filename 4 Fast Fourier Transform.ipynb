{
 "cells": [
  {
   "cell_type": "markdown",
   "metadata": {
    "cell_id": "00000-faf5a716-b5c1-48ac-a363-b01b983f043e",
    "deepnote_cell_type": "markdown",
    "tags": []
   },
   "source": [
    "# Fast Fourier Transform (FFT)"
   ]
  },
  {
   "cell_type": "markdown",
   "metadata": {
    "cell_id": "00001-da2d6546-b3fb-42d0-b441-64de10005ec7",
    "deepnote_cell_type": "markdown",
    "tags": []
   },
   "source": [
    "**Welcome to the fourth notebook in this series!**\n",
    "\n",
    "In this notebook, we will be looking at the Fast Fourier Transform (FFT) algorithm. We'll use this algorithm to transform the data we have so far into data that is better suited to interpretation and understanding. \n",
    "\n",
    "Before working with the FFT, let's first define a few important terms below. "
   ]
  },
  {
   "cell_type": "markdown",
   "metadata": {
    "cell_id": "00002-1abc9a2e-5941-44f1-ba49-b243fb5e6b5c",
    "deepnote_cell_type": "markdown",
    "tags": []
   },
   "source": [
    "<br>\n",
    "\n",
    "## Terminology"
   ]
  },
  {
   "cell_type": "markdown",
   "metadata": {
    "cell_id": "00003-9c609135-b043-4026-af2d-df8707ca4d4e",
    "deepnote_cell_type": "markdown",
    "tags": []
   },
   "source": [
    "### **Time Domain**\n",
    "\n",
    "A time-domain graph displays the changes in a signal over a span of time. An example of a time-domain graph is shown below. It's also important to note that a majority of the graphs we have created thus far have been time domain graphs. "
   ]
  },
  {
   "cell_type": "markdown",
   "metadata": {
    "cell_id": "00004-236b3219-22cd-4791-aba7-a4de1149c364",
    "deepnote_cell_type": "markdown",
    "tags": []
   },
   "source": [
    "![image info](Pictures/time_series_example.png)"
   ]
  },
  {
   "cell_type": "markdown",
   "metadata": {
    "cell_id": "00005-80adba99-902f-4ad9-b92c-cc753ad984bf",
    "deepnote_cell_type": "markdown",
    "tags": []
   },
   "source": [
    "Some characteristics seen in the time domain graph above are: <br>\n",
    "\n",
    "**The amplitude**: The maximum extent of a vibration or displacement of a sinusoidal oscillation, measured from the position of equilibrium. Amplitude is the maximum absolute value of a periodically varying quantity.<br><br>\n",
    "**The period**: The time for a particle on a medium to make one complete vibrational cycle<br><br>\n",
    "**The RMS (root mean square)**: This value is generally the most useful because it is directly related to the energy content of the vibration profile and thus the destructive capability of the vibration. RMS also takes into account the time history of the wave form.<br><br>\n",
    "**While these characteristics are important, they are limited and do not give us ample information about the strength of our vibration profile. In this situation, we turn to the frequency domain graph instead.**"
   ]
  },
  {
   "cell_type": "markdown",
   "metadata": {
    "cell_id": "00006-4ab3ee0a-4914-4f8b-9a65-1701daf8edb7",
    "deepnote_cell_type": "markdown",
    "tags": []
   },
   "source": [
    "<br>\n",
    "\n",
    "### **The Frequency Domain**\n",
    "\n",
    "\n",
    "The Frequency Domain refers to the analytic space in which mathematical functions or signals are conveyed in terms of frequency, rather than time. For example, where a time-domain graph may display changes over time, a frequency-domain graph displays how much of the signal is present among each given frequency band.  \n"
   ]
  },
  {
   "cell_type": "markdown",
   "metadata": {
    "cell_id": "00007-78a73f77-b83d-416e-a5c9-1787800ab886",
    "deepnote_cell_type": "markdown",
    "tags": []
   },
   "source": [
    "![image info](Pictures/frequency.png)"
   ]
  },
  {
   "cell_type": "markdown",
   "metadata": {
    "cell_id": "00008-13cb28c5-79ae-46f2-93a6-9cd5ae24ef6b",
    "deepnote_cell_type": "markdown",
    "tags": []
   },
   "source": [
    "* A waveform is actually just the sum of a series of simple sinusoids of different frequencies, amplitudes, and phases.  \n",
    "* A Fourier series is that series of sine waves, and we use Fourier analysis or spectrum analysis to deconstruct a signal into its individual sine wave components.  \n",
    "* The result is acceleration/vibration amplitude as a function of frequency, which lets us perform analysis in _the frequency (or spectrum) domian_ to gain a deeper understanding of our vibration profile. Most vibration analysis will typically be done in the frequency domain."
   ]
  },
  {
   "cell_type": "markdown",
   "metadata": {
    "cell_id": "00009-e4554482-be87-47dd-9a14-6a05ebc66ef3",
    "deepnote_cell_type": "markdown",
    "tags": []
   },
   "source": [
    "<br>\n",
    "\n",
    "## **The Fast Fourier Transform (FFT)**"
   ]
  },
  {
   "cell_type": "markdown",
   "metadata": {
    "cell_id": "00009-89d15190-c6db-4d14-a0cf-57cbb26a74e8",
    "deepnote_cell_type": "markdown",
    "tags": []
   },
   "source": [
    "The FFT is an algorithm that helps us perform the tranformation from a **Time domain** to a **Frequency domain**. Fourier analysis works by “testing” for the presence of each frequency component. A discrete Fourier transform (DFT) multiplies the raw waveform by sine waves of discrete frequencies to determine if they match and what their corresponding amplitude and phase are.  A fast Fourier transform (FFT) is just a DFT using a more efficient algorithm that takes advantage of the symmetry in sine waves. For the purpose of this notebook, we will only be working with the Fast Fourier Transform. "
   ]
  },
  {
   "cell_type": "markdown",
   "metadata": {
    "cell_id": "00005-7df72c96-22ac-4d09-a696-a3a5cfb74ba2",
    "deepnote_cell_type": "markdown",
    "tags": []
   },
   "source": [
    "The Fast Fourier Transform (FFT) is a powerful tool used for analyzing signals. As mentioned above, it works by testing for each frequency component in the data. \n",
    "\n",
    "In this notebook, we are going to transform the acceleration data that was measured from the accelerometers on top of the Campanile. As of now, all we have is our acceleration measurements -- it's difficult to draw conclusions from just these numbers. As such, we will use the FFT to transform our X, Y, and Z acceleration measurements and covert the data to Frequency time series. This will break down the data we have into unique combinations of sine and cosine functions that represent our original data as frequencies. Note that when these cosine and sine functions are added together, it results in our original acceleration data. \n",
    "\n",
    "In short, we will use the FFT to transform our data and analyze specific frequencies within the frequency band. First, we need to plot the Frequncy Domain. <br><br>\n",
    "\n",
    "**Why else do we need the frequencies?**\n",
    "\n",
    "These frequencies are associated with deformation modes of buildings. In our case, we are looking at the different deformation modes of the Campanile itself. Looking at the lowest frequency helps us understand what is the lowest frequency needed to excite the building. "
   ]
  },
  {
   "cell_type": "markdown",
   "metadata": {
    "cell_id": "00003-d521dd49-68eb-4b53-b383-73b8be27a4b0",
    "deepnote_cell_type": "markdown",
    "tags": []
   },
   "source": [
    "<br>\n",
    "\n",
    "## **The Fast Fourier Transform Example**"
   ]
  },
  {
   "cell_type": "markdown",
   "metadata": {
    "cell_id": "00008-69fca7de-92bd-418d-a3fa-25d0648c403d",
    "deepnote_cell_type": "markdown",
    "tags": []
   },
   "source": [
    "#### Importing Dependencies"
   ]
  },
  {
   "cell_type": "code",
   "execution_count": null,
   "metadata": {
    "cell_id": "00009-a5ebe860-83ea-43e5-b9e4-fd8a41c8f91a",
    "deepnote_cell_type": "code",
    "deepnote_to_be_reexecuted": false,
    "execution_millis": 526,
    "execution_start": 1618856283230,
    "source_hash": "c94c28b",
    "tags": []
   },
   "outputs": [],
   "source": [
    "from scipy.fft import fft, fftfreq\n",
    "import matplotlib.pyplot as plt\n",
    "import pandas as pd\n",
    "import numpy as np"
   ]
  },
  {
   "cell_type": "markdown",
   "metadata": {
    "cell_id": "00010-b35b8716-5f46-42a9-9bee-7a85f9d389dc",
    "deepnote_cell_type": "markdown",
    "tags": []
   },
   "source": [
    "#### Background Information"
   ]
  },
  {
   "cell_type": "markdown",
   "metadata": {
    "cell_id": "00015-6a51be8f-48a9-4b07-8c2f-d51740993d34",
    "deepnote_cell_type": "markdown",
    "tags": []
   },
   "source": [
    "The sine function **y=sin(x)** looks like \n",
    "\n",
    "![image info](Pictures/Sin_Function.png)"
   ]
  },
  {
   "cell_type": "markdown",
   "metadata": {
    "cell_id": "00011-3b27f65d-ef87-40c0-bef4-e42eb86e6e52",
    "deepnote_cell_type": "markdown",
    "tags": []
   },
   "source": [
    "First, we will be investigating the graph of the equation **y = a sin (bx + c)** using different values for **a**, **b**, and **c**.<br>\n",
    "\n",
    "In the above **y** equation,<br>\n",
    "**a** is the **amplitude of the sine curve**<br>\n",
    "**b** is the **period of the sine curve**<br>\n",
    "**c** is the **phase shift** of the sine curve <br>\n",
    "\n",
    "We will only work with **a**, the **amplitude of the sine curve**, and **b**, the **period of the sine curve**"
   ]
  },
  {
   "cell_type": "markdown",
   "metadata": {
    "cell_id": "00012-1f1a2cff-557c-4298-b758-0627823e5e47",
    "deepnote_cell_type": "markdown",
    "tags": []
   },
   "source": [
    "#### What is the amplitude of a sine curve?"
   ]
  },
  {
   "cell_type": "markdown",
   "metadata": {
    "cell_id": "00013-e73eb070-d1bb-416e-81af-f5e4bb542b10",
    "deepnote_cell_type": "markdown",
    "tags": []
   },
   "source": [
    "**The amplitude** of a sine curve is its height."
   ]
  },
  {
   "cell_type": "markdown",
   "metadata": {
    "cell_id": "00014-ebf580fa-a66d-4e49-8574-486305abc4b1",
    "deepnote_cell_type": "markdown",
    "tags": []
   },
   "source": [
    "#### What is the period of the sine curve?"
   ]
  },
  {
   "cell_type": "markdown",
   "metadata": {
    "cell_id": "00015-6f7b087e-e366-4db1-9723-7c1c2df00139",
    "deepnote_cell_type": "markdown",
    "tags": []
   },
   "source": [
    "**The period** of the sine curve is the length of one cycle of the curve. The natural period of the sine curve is **2π**. <br>\n",
    "\n",
    "So, a coefficient of **b=1** is equivalent to a period of **2π**.  To get the period of the sine curve for any coefficient **b**, just **divide 2π by the coefficient b to get the new period of the curve**. \n",
    "\n",
    "The coefficient b and the period of the sine curve have an inverse relationship, so as b gets smaller, the length of one cycle of the curve gets bigger.  Likewise, as you increase b, the period will decrease."
   ]
  },
  {
   "cell_type": "markdown",
   "metadata": {
    "cell_id": "00016-323d0cef-a3c3-4652-b2af-90a3df27ad46",
    "deepnote_cell_type": "markdown",
    "tags": []
   },
   "source": [
    "#### Creating Two Sine Waves (y1 and y2)"
   ]
  },
  {
   "cell_type": "markdown",
   "metadata": {
    "cell_id": "00017-52e91a3c-458c-4a04-af42-93cd2ec478ff",
    "deepnote_cell_type": "markdown",
    "tags": []
   },
   "source": [
    "**y1** has a **b** of 20π, conseqently the period  **T1** of that sine curve is 2π/20π = **0.1**. <br>\n",
    "**y2** has a **b** of 6π, conseqently the period  **T2** of that sine curve is 2π/6π = **0.3333**. <br>\n",
    "<br>\n",
    "The functions y1 and y2 have the following equation: <br>\n",
    "**y1 = 1/2 sin (20pi*x)** <br>\n",
    "**y2 = 2 sin (6pi*x)**<br>\n",
    "\n",
    "From above, we also notice the following: <br>\n",
    "y1 has an **a (amplitude)** of **0.5**. <br>\n",
    "y2 has an **a (amplitude)** of **2** <br>\n",
    "\n",
    "\n",
    " <center> ****Please Remember those established values as we will refer back to them ***** </center>\n"
   ]
  },
  {
   "cell_type": "code",
   "execution_count": null,
   "metadata": {
    "cell_id": "00010-b8f2382c-bf87-4ca8-b0c9-46d43c430f9a",
    "deepnote_cell_type": "code",
    "deepnote_to_be_reexecuted": false,
    "execution_millis": 3,
    "execution_start": 1618856283763,
    "source_hash": "39c6f174",
    "tags": []
   },
   "outputs": [],
   "source": [
    "# NUMBER OF SAMPLE POINTS: This is the number of points recorded\n",
    "N = 800\n",
    "# SAMPLE SPACING : The time span at which we record each of those points\n",
    "T = 1.0 / 800.0\n",
    "\n",
    "# X-axis spacing\n",
    "x = np.linspace(0.0, N*T, N, endpoint=False)\n",
    "\n",
    "\n",
    "\n",
    "\n",
    "# First Y1 values : Sin function of amplitude 1/2 and period T = 20pi\n",
    "y1 = (1/2)*np.sin(20*np.pi*x)\n",
    "\n",
    "# First Y2 values : Sin function of amplitude 1 and period T = 6pi\n",
    "\n",
    "y2= 2*np.sin(6*np.pi*x)"
   ]
  },
  {
   "cell_type": "markdown",
   "metadata": {
    "cell_id": "00019-bb4b6aa1-33e4-4bb6-a662-bb3f8f719b4c",
    "deepnote_cell_type": "markdown",
    "tags": []
   },
   "source": [
    "#### Plotting y1"
   ]
  },
  {
   "cell_type": "code",
   "execution_count": null,
   "metadata": {
    "cell_id": "00020-3e7caa59-e17f-4b7a-9a8f-63660c898349",
    "deepnote_cell_type": "code",
    "deepnote_to_be_reexecuted": false,
    "execution_millis": 363,
    "execution_start": 1618856283769,
    "source_hash": "a7754ce6",
    "tags": []
   },
   "outputs": [],
   "source": [
    "plt.figure(figsize=(10, 5))\n",
    "plt.plot(x, y1)\n",
    "plt.xlabel('Time (s)')\n",
    "plt.ylabel('Amplitude (g)')\n",
    "plt.axhline(linewidth=1, color='r',linestyle='--')\n",
    "plt.grid(which='minor',linestyle='-', linewidth='0.1', color='black')\n",
    "plt.grid(which='major',linestyle='--', linewidth='0.1', color='black')"
   ]
  },
  {
   "cell_type": "markdown",
   "metadata": {
    "cell_id": "00021-4bbd2847-a806-4823-9729-2ef6a1721200",
    "deepnote_cell_type": "markdown",
    "tags": []
   },
   "source": [
    "#### Plotting y2"
   ]
  },
  {
   "cell_type": "code",
   "execution_count": null,
   "metadata": {
    "cell_id": "00022-2ffa2a1a-37d8-4048-875f-287ab25b5051",
    "deepnote_cell_type": "code",
    "deepnote_to_be_reexecuted": false,
    "execution_millis": 269,
    "execution_start": 1618856284195,
    "source_hash": "6b7429b0",
    "tags": []
   },
   "outputs": [],
   "source": [
    "plt.figure(figsize=(10, 5))\n",
    "plt.plot(x, y2)\n",
    "plt.xlabel('Time (s)')\n",
    "plt.ylabel('Amplitude (g)')\n",
    "plt.axhline(linewidth=1, color='r',linestyle='--')\n",
    "plt.grid(which='minor',linestyle='-', linewidth='0.1', color='black')\n",
    "plt.grid(which='major',linestyle='--', linewidth='0.1', color='black')"
   ]
  },
  {
   "cell_type": "markdown",
   "metadata": {
    "cell_id": "00023-e8328719-bff4-44eb-b0c3-6af1a434e9d6",
    "deepnote_cell_type": "markdown",
    "tags": []
   },
   "source": [
    "#### Creating a new y3 by combining y1+y2"
   ]
  },
  {
   "cell_type": "markdown",
   "metadata": {
    "cell_id": "00024-e4468b3c-ff29-451b-bfb1-5d2d0f40e6b8",
    "deepnote_cell_type": "markdown",
    "tags": []
   },
   "source": [
    "Let us consider **y3** as an acceleration record made of sine functions from **y1** and **y2**. This is an over simplified response, but for example puposes, this helps in understand what the FFT does. "
   ]
  },
  {
   "cell_type": "markdown",
   "metadata": {
    "cell_id": "00025-bd7a8862-70fa-49b9-ab55-fbd1101ebc8b",
    "deepnote_cell_type": "markdown",
    "tags": []
   },
   "source": [
    "We know that: <br>\n",
    "**y1 = 1/2 sin (20pi*x)** <br>\n",
    "**y2 = 2 sin (6pi*x)** <br>\n",
    "\n",
    "Then we set up y3 as **y3 = y1 + y2**. <br>\n",
    "\n",
    "Consequently, we have **y3 = 1/2 sin (20pi*x) + 2 sin (6pi*x)**\n"
   ]
  },
  {
   "cell_type": "markdown",
   "metadata": {
    "cell_id": "00026-79f48433-d90e-442a-af06-28728ccb5f53",
    "deepnote_cell_type": "markdown",
    "tags": []
   },
   "source": [
    "#### Plotting y3"
   ]
  },
  {
   "cell_type": "code",
   "execution_count": null,
   "metadata": {
    "cell_id": "00024-83b25c12-6d77-464e-8f8f-4857e6606e58",
    "deepnote_cell_type": "code",
    "deepnote_to_be_reexecuted": false,
    "execution_millis": 339,
    "execution_start": 1618856284457,
    "source_hash": "842a05f0",
    "tags": []
   },
   "outputs": [],
   "source": [
    "# We create Y3 by adding Y1 and Y2\n",
    "y3 = y1+y2\n",
    "# We plot it\n",
    "plt.figure(figsize=(10, 5))\n",
    "plt.plot(x, y3)\n",
    "plt.xlabel('Time (s)')\n",
    "plt.ylabel('Amplitude (g)')\n",
    "plt.axhline(linewidth=1, color='r',linestyle='--')\n",
    "plt.grid(which='minor',linestyle='-', linewidth='0.1', color='black')\n",
    "plt.grid(which='major',linestyle='--', linewidth='0.1', color='black')"
   ]
  },
  {
   "cell_type": "markdown",
   "metadata": {
    "cell_id": "00028-54c66ef7-9b26-459b-a6ed-45ee4501dac8",
    "deepnote_cell_type": "markdown",
    "tags": []
   },
   "source": [
    "#### Getting the Frequencies using the Fast Fourier Transform"
   ]
  },
  {
   "cell_type": "code",
   "execution_count": null,
   "metadata": {
    "cell_id": "00029-f875317d-99d2-43de-b096-1e4c6da4b081",
    "deepnote_cell_type": "code",
    "deepnote_to_be_reexecuted": false,
    "execution_millis": 727,
    "execution_start": 1618856284808,
    "source_hash": "f429b643",
    "tags": []
   },
   "outputs": [],
   "source": [
    "\n",
    "yf = fft(y3)\n",
    "xf = fftfreq(N, T)[:N//2]\n",
    "\n",
    "\n",
    "\n",
    "plt.figure(figsize=(18, 4))\n",
    "\n",
    "plt.plot(xf[1:20], 2.0/N * np.abs(yf[0:N//2])[1:20],linewidth='2')\n",
    "plt.xlabel('Frequency (Hz)')\n",
    "plt.ylabel('Amplitude (g)')\n",
    "plt.xticks(xf[1:20],rotation = 90)\n",
    "plt.yticks(np.round(2.0/N * np.abs(yf[0:N//2])[1:20],2))\n",
    "plt.grid(which='minor',linestyle='-', linewidth='0.1', color='black')\n",
    "plt.grid(which='major',linestyle='--', linewidth='0.1', color='black')\n",
    "plt.show()"
   ]
  },
  {
   "cell_type": "markdown",
   "metadata": {
    "cell_id": "00030-a4f34bd9-cd96-4862-aa64-db08478349ba",
    "deepnote_cell_type": "markdown",
    "tags": []
   },
   "source": [
    "This shows that the dominant frequencies in our acceleration records are the peaks we see in the picture above, that is **f1= 3 Hz** and **f2= 10 Hz**. <br> These peaks are what we are concerned about, as those frequencies might be related to how the structure deforms."
   ]
  },
  {
   "cell_type": "markdown",
   "metadata": {
    "cell_id": "00031-a05a5d66-5e11-4ef9-9fce-833f98cc7f5b",
    "deepnote_cell_type": "markdown",
    "tags": []
   },
   "source": [
    "#### How do we know we are correct?"
   ]
  },
  {
   "cell_type": "markdown",
   "metadata": {
    "cell_id": "00032-414df2ef-e40d-46b0-99e5-d1cda568703e",
    "deepnote_cell_type": "markdown",
    "tags": []
   },
   "source": [
    "**Comment 1:** We know that period (T) is inversely proportional to freqency(f). That is **T = 1/f**<br> So:<br>**T1** = 1/f1 = 1/ 3 = **0.333**. <br> **T2** = 1/f2 = 1/10 = **0.1**."
   ]
  },
  {
   "cell_type": "markdown",
   "metadata": {
    "cell_id": "00033-673c70c4-2e84-4f75-8bc4-e94a9de27237",
    "deepnote_cell_type": "markdown",
    "tags": []
   },
   "source": [
    "**Comment 2**: Moreover, if we observe the **y** axis values, we can see that we have the amplitudes of **2** and **0.5** are well represented. Those correspond to the amplitude of the 2 sine functions we defined earlier!"
   ]
  },
  {
   "cell_type": "markdown",
   "metadata": {
    "cell_id": "00033-4ec3187d-0ab4-410c-a025-c135ce102e48",
    "deepnote_cell_type": "markdown",
    "tags": []
   },
   "source": [
    "**Comment 3**: Notice how those values are exactly the same as the values we calculated previous. This is the power of FFT and why it is so important in our work. For complex ground acceleration recordings, we can create a freqeuncy spectrum that will only show us what are the dominating frequencies."
   ]
  },
  {
   "cell_type": "markdown",
   "metadata": {
    "cell_id": "00034-337a9b0d-85c5-43b9-8239-833106b9171a",
    "deepnote_cell_type": "markdown",
    "tags": []
   },
   "source": [
    "#### Extension of Time Signal"
   ]
  },
  {
   "cell_type": "markdown",
   "metadata": {
    "cell_id": "00033-c8d9750d-fb1a-4922-87b1-1e50e0810e67",
    "deepnote_cell_type": "markdown",
    "tags": []
   },
   "source": [
    "If you noticed, we only plotted our acceleration signals for a period of **1sec**. Try plotting for a longer time signal. That is increase the number N. <br>\n",
    "\n",
    "What you will notice are the followings: <br>\n",
    "\n",
    "* More sampling points improves the resolution in the frequency range \n",
    "* A longer time window gives us a better resolution in the frequency range\n",
    "* Also helps improve the spectrogram \n",
    "\n"
   ]
  },
  {
   "cell_type": "markdown",
   "metadata": {
    "cell_id": "00006-e406a25c-39f2-425a-9cf3-79c9bab14ec0",
    "deepnote_cell_type": "markdown",
    "tags": []
   },
   "source": [
    "<br>\n",
    "\n",
    "##  **Implementing the Fast Fourier Transform**"
   ]
  },
  {
   "cell_type": "markdown",
   "metadata": {
    "cell_id": "00037-08e5a8ce-9ad6-4984-9e25-1c58a5e552ff",
    "deepnote_cell_type": "markdown",
    "tags": []
   },
   "source": [
    "#### Mathematical Approach"
   ]
  },
  {
   "cell_type": "markdown",
   "metadata": {
    "cell_id": "00045-fad87afd-5e59-44bd-b9f6-f36e72439bf0",
    "deepnote_cell_type": "markdown",
    "tags": []
   },
   "source": [
    "Fourier analysis is a method for expressing a function as a sum of periodic functions. When both the function and its Fourier transform are replaced with discretized counterparts, it is called the discrete Fourier transform (DFT). \n",
    "\n",
    "**Forward Discrete Fourier Transform (DFT) Formula**\n",
    "\n",
    "$\n",
    "X_k = \\sum_{n=N-1}^{n=0} x_n * e^\\frac{(-i2 \\pi kn)}{N}\n",
    "$\n",
    "\n",
    "**Inverse Discrete Fourier Transform (IDFT) Formula**\n",
    "\n",
    "$\n",
    "X_n = \\frac{1}{N} \\sum_{n=N-1}^{k=0}X_k e^\\frac{(i2 \\pi kn)}{N}\n",
    "$"
   ]
  },
  {
   "cell_type": "markdown",
   "metadata": {
    "cell_id": "00039-af066a81-15f2-478a-b1d4-9846681dd277",
    "deepnote_cell_type": "markdown",
    "tags": []
   },
   "source": [
    "<br>\n",
    "\n",
    "#### Python Librairies"
   ]
  },
  {
   "cell_type": "markdown",
   "metadata": {
    "cell_id": "00041-5adb898a-4a51-455a-a172-c311fb5aec79",
    "deepnote_cell_type": "markdown",
    "tags": []
   },
   "source": [
    "Calculating the Fourier Transform by hand is very tedious and time consuming. Thankfully, there are several python packages we can use that complete these calculation for us! By importing a few packages, we are able to easily compute the operations needed in order to transform our data. We will be using the **Scipy** package to implement the FFT.\n",
    "\n",
    "SciPy (scientific python) is an open-source Python library used for scientific and technical computing. SciPy is a broad ecosystem and packages include NumPy, Matplotlib, and Pandas, all of which we have learned about, and now we will dive into the uses of the specific SciPy package. \n",
    "\n"
   ]
  },
  {
   "cell_type": "markdown",
   "metadata": {
    "cell_id": "00043-802d13f6-f31a-4837-a522-227aaa3afa32",
    "deepnote_cell_type": "markdown",
    "tags": []
   },
   "source": [
    "**Run the following cell to import the SciPy package!**"
   ]
  },
  {
   "cell_type": "code",
   "execution_count": null,
   "metadata": {
    "cell_id": "00044-4bfc154b-a78c-466c-bf13-910b65b13cd2",
    "deepnote_cell_type": "code",
    "deepnote_to_be_reexecuted": false,
    "execution_millis": 3,
    "execution_start": 1618856285239,
    "source_hash": "80e6c3be",
    "tags": []
   },
   "outputs": [],
   "source": [
    "import scipy"
   ]
  },
  {
   "cell_type": "markdown",
   "metadata": {
    "cell_id": "00045-2fc60427-042f-40f1-8e2e-900a470fd316",
    "deepnote_cell_type": "markdown",
    "tags": []
   },
   "source": [
    "SciPy functions can be used to compute mathematical functions in an easy and efficient way. Some of SciPy's uses include polynomial interpolation, linear algebra, integration, and more. We will use SciPy in combination with other packages to manipulate our data and create useful visualizations."
   ]
  },
  {
   "cell_type": "markdown",
   "metadata": {
    "cell_id": "00046-e8c6bb90-aae0-4aeb-9425-7d4afd9faaf6",
    "deepnote_cell_type": "markdown",
    "tags": []
   },
   "source": [
    "### The Fast Fourier Transform in SciPy\n",
    "\n",
    "SciPy's expansive amount of functions allows us to compute FFT and inverse FFT easily. See below on how to import functions from SciPy and use them."
   ]
  },
  {
   "cell_type": "markdown",
   "metadata": {
    "cell_id": "00051-ab49e671-278f-4d1b-8b4d-fb2531f19734",
    "deepnote_cell_type": "markdown",
    "tags": []
   },
   "source": [
    "1. ** scipy.fft.fft**<br><br> Compute the 1-D inverse discrete Fourier Transform. <br><br> **scipy.fft.fft(x, n=None, axis=- 1, norm=None, overwrite_x=False, workers=None, *, plan=None)** <br><br>![image info](Pictures/scipy_fft.png)"
   ]
  },
  {
   "cell_type": "markdown",
   "metadata": {
    "cell_id": "00052-6956a9ea-8ffb-4198-850f-06a8e1b79089",
    "deepnote_cell_type": "markdown",
    "tags": []
   },
   "source": [
    "2. **scipy.fftfreq()** <br><br>  Return the Discrete Fourier Transform sample frequencies.<br><br> **scipy.fftpack.fftfreq(n, d=1.0)** <br><br>![image info](Pictures/scipy_fftfreq.png)"
   ]
  },
  {
   "cell_type": "markdown",
   "metadata": {
    "cell_id": "00053-fc80dd47-2748-4290-956d-0f8c3655ebe4",
    "deepnote_cell_type": "markdown",
    "tags": []
   },
   "source": [
    "3. **scipy.fft.ifft**<br><br>Compute the 1-D inverse discrete Fourier Transform.\n",
    "\n",
    "This function computes the inverse of the 1-D n-point discrete Fourier transform computed by fft. In other words, ifft(fft(x)) == x to within numerical accuracy.<br><br>\n",
    "**scipy.fft.ifft(x, n=None, axis=- 1, norm=None, overwrite_x=False, workers=None, *, plan=None)** <br>"
   ]
  },
  {
   "cell_type": "markdown",
   "metadata": {
    "cell_id": "00042-315547c2-16f1-491c-9097-b74f94bfdbe9",
    "deepnote_cell_type": "markdown",
    "tags": []
   },
   "source": [
    "<br>\n",
    "\n",
    "### **Implementing the Fast Fourier on Accelerometers Data Set**"
   ]
  },
  {
   "cell_type": "code",
   "execution_count": null,
   "metadata": {
    "cell_id": "00058-29bfdaa8-008f-41ce-bbde-40f17b7e1d4f",
    "deepnote_cell_type": "code",
    "deepnote_to_be_reexecuted": false,
    "execution_millis": 4,
    "execution_start": 1618856285246,
    "source_hash": "c94c28b",
    "tags": []
   },
   "outputs": [],
   "source": [
    "from scipy.fft import fft, fftfreq\n",
    "import matplotlib.pyplot as plt\n",
    "import pandas as pd\n",
    "import numpy as np"
   ]
  },
  {
   "cell_type": "markdown",
   "metadata": {
    "cell_id": "00058-8a925a28-b4aa-49c8-a50a-ec70cb3f0403",
    "deepnote_cell_type": "markdown",
    "tags": []
   },
   "source": [
    "### Normalizing and Resetting Axes"
   ]
  },
  {
   "cell_type": "code",
   "execution_count": null,
   "metadata": {
    "cell_id": "00059-cc89943b-d435-49bc-977e-e92206ae45f1",
    "deepnote_cell_type": "code",
    "deepnote_to_be_reexecuted": false,
    "execution_millis": 114,
    "execution_start": 1622744150128,
    "source_hash": "94609f9f",
    "tags": []
   },
   "outputs": [],
   "source": [
    "sw_df_axes_reset = pd.read_csv('sather-tower-files/SouthWest.csv')\n",
    "sw_df_axes_reset[\"Global X\"] = sw_df_axes_reset[\"Ay[mG]\"]\n",
    "sw_df_axes_reset[\"Global Y\"] = sw_df_axes_reset[\"Az[mG]\"]\n",
    "sw_df_axes_reset[\"Global Z\"] = sw_df_axes_reset[\"Ax[mG]\"]\n",
    "sw_df_axes_reset = sw_df_axes_reset[['Sample No.', 'time[sec]', 'Global X', 'Global Y', 'Global Z', 'ATotal[mG]', 'Ts[deg.C]']]\n",
    "sw_df_axes_reset.head()"
   ]
  },
  {
   "cell_type": "markdown",
   "metadata": {
    "cell_id": "00060-b6132225-920e-4d54-b65a-4a8e8fd54235",
    "deepnote_cell_type": "markdown",
    "tags": []
   },
   "source": [
    "### Performing FFT on X-Acceleration"
   ]
  },
  {
   "cell_type": "code",
   "execution_count": null,
   "metadata": {
    "cell_id": "00060-aeaa7054-a24d-4228-82a0-19f1d32562e5",
    "deepnote_cell_type": "code",
    "deepnote_to_be_reexecuted": false,
    "execution_millis": 448,
    "execution_start": 1618856286236,
    "source_hash": "de0c2b7a",
    "tags": []
   },
   "outputs": [],
   "source": [
    "fft_x = fft(np.array(sw_df_axes_reset[\"Global X\"]))\n",
    "N = len(sw_df_axes_reset[\"Global X\"])\n",
    "T = 1.0 / 800.0\n",
    "xf = fftfreq(N, T)[:N//2]\n",
    "\n",
    "plt.figure(figsize=(18, 4))\n",
    "\n",
    "plt.plot(xf[1:20], 2.0/N * np.abs(fft_x[0:N//2])[1:20],linewidth='2')\n",
    "plt.xlabel('Frequency (Hz)')\n",
    "plt.ylabel('Amplitude (g)')\n",
    "plt.xticks(xf[1:20],rotation = 90)\n",
    "plt.yticks(np.round(2.0/N * np.abs(fft_x[0:N//2])[1:20],2))\n",
    "plt.grid(which='minor',linestyle='-', linewidth='0.1', color='black')\n",
    "plt.grid(which='major',linestyle='--', linewidth='0.1', color='black')\n",
    "plt.show()"
   ]
  },
  {
   "cell_type": "markdown",
   "metadata": {
    "cell_id": "00062-8fac2db2-3151-4780-91be-acddd57dfe44",
    "deepnote_cell_type": "markdown",
    "tags": []
   },
   "source": [
    "### Performing  FFT on Y-Acceleration"
   ]
  },
  {
   "cell_type": "code",
   "execution_count": null,
   "metadata": {
    "cell_id": "00062-952a4971-84a4-4e29-be3f-e1fe7af98df0",
    "deepnote_cell_type": "code",
    "deepnote_to_be_reexecuted": false,
    "execution_millis": 449,
    "execution_start": 1618856286658,
    "source_hash": "3c3f341c",
    "tags": []
   },
   "outputs": [],
   "source": [
    "fft_y = fft(np.array(sw_df_axes_reset[\"Global Y\"]))\n",
    "N = len(sw_df_axes_reset[\"Global Y\"])\n",
    "T = 1.0 / 800.0\n",
    "xf = fftfreq(N, T)[:N//2]\n",
    "\n",
    "plt.figure(figsize=(18, 4))\n",
    "\n",
    "plt.plot(xf[1:20], 2.0/N * np.abs(fft_y[0:N//2])[1:20],linewidth='2')\n",
    "plt.xlabel('Frequency (Hz)')\n",
    "plt.ylabel('Amplitude (g)')\n",
    "plt.xticks(xf[1:20],rotation = 90)\n",
    "plt.yticks(np.round(2.0/N * np.abs(fft_y[0:N//2])[1:20],2))\n",
    "plt.grid(which='minor',linestyle='-', linewidth='0.1', color='black')\n",
    "plt.grid(which='major',linestyle='--', linewidth='0.1', color='black')\n",
    "plt.show()"
   ]
  },
  {
   "cell_type": "markdown",
   "metadata": {
    "cell_id": "00064-c08383dd-9ba9-495d-b173-e0606c225f1c",
    "deepnote_cell_type": "markdown",
    "tags": []
   },
   "source": [
    "### Performing FFT on Z-Acceleration"
   ]
  },
  {
   "cell_type": "code",
   "execution_count": null,
   "metadata": {
    "cell_id": "00063-43e9a76e-a2dc-498e-b383-1132de12f7b7",
    "deepnote_cell_type": "code",
    "deepnote_to_be_reexecuted": false,
    "execution_millis": 402,
    "execution_start": 1618856287111,
    "source_hash": "7f4c6543",
    "tags": []
   },
   "outputs": [],
   "source": [
    "fft_z = fft(np.array(sw_df_axes_reset[\"Global Z\"]))\n",
    "N = len(sw_df_axes_reset[\"Global Z\"])\n",
    "T = 1.0 / 800.0\n",
    "xf = fftfreq(N, T)[:N//2]\n",
    "\n",
    "plt.figure(figsize=(18, 4))\n",
    "\n",
    "plt.plot(xf[1:20], 2.0/N * np.abs(fft_z[0:N//2])[1:20],linewidth='2')\n",
    "plt.xlabel('Frequency (Hz)')\n",
    "plt.ylabel('Amplitude (g)')\n",
    "plt.xticks(xf[1:20],rotation = 90)\n",
    "plt.yticks(np.round(2.0/N * np.abs(fft_z[0:N//2])[1:20],2))\n",
    "plt.grid(which='minor',linestyle='-', linewidth='0.1', color='black')\n",
    "plt.grid(which='major',linestyle='--', linewidth='0.1', color='black')\n",
    "plt.show()"
   ]
  },
  {
   "cell_type": "markdown",
   "metadata": {
    "cell_id": "00062-919db2e6-8a01-44a6-a425-9c8ab238a2bf",
    "deepnote_cell_type": "markdown",
    "tags": []
   },
   "source": [
    "### What does our data mean now?\n",
    "We individually applied FFT operations on each acceleration direction: X, Y, and Z.\n",
    "We have successfully implemented the FFT on our acceleration data set and created visualizations to help understand what our data means now. \n",
    "\n",
    "By applying the FFT package, we can now look at how the acceleration is made up of different frequencies and amplitudes which provides us more insights on how the Campanile moves. Fourier analysis of frequency domains provides us important values that are helpful in civil engineering. \n",
    "\n"
   ]
  },
  {
   "cell_type": "markdown",
   "metadata": {
    "cell_id": "00008-ce1d8ece-50df-4cb6-ac5f-ca0fbe16b795",
    "deepnote_cell_type": "markdown",
    "tags": []
   },
   "source": [
    "<br>\n",
    "\n",
    "##  Spectrograms"
   ]
  },
  {
   "cell_type": "markdown",
   "metadata": {
    "cell_id": "00057-23c33f57-3629-4b6e-b5dd-6b7123c6766a",
    "deepnote_cell_type": "markdown",
    "tags": []
   },
   "source": [
    "### What is a Spectrogram?\n",
    "A **spectrogram** is a visualization of the spectrum of frequencies of a signal (y-axis) as it varies with time (x-axis). A spectrogram illustrates how the dominant frequencies change with time. In other words, a spectrogram gives the analyzer a much deeper understanding of the vibration profile and how it changes with time. As such, spectrograms will give us a better understanding of sublte movements of the Campanile and how it changes over time.\n",
    "\n",
    "<br><br>![image info](Pictures/spectrogram.png)"
   ]
  },
  {
   "cell_type": "markdown",
   "metadata": {
    "cell_id": "00058-d23a1957-0e06-4cad-a2f0-c2fda7abf5b5",
    "deepnote_cell_type": "markdown",
    "tags": []
   },
   "source": [
    "### How do we graph a Spectrogram in Python?\n",
    "\n",
    "We will create spectrograms using a Python library called **SciPy** which is used for scientific and technical computing. SciPy has a specific FFT and signal package that will allow us to create these spectrograms. \n",
    "\n",
    "Read more about scipy documentation here: https://docs.scipy.org/doc/scipy/reference/generated/scipy.signal.spectrogram.html\n",
    "\n",
    "\n",
    "<br><br>![image info](Pictures/signal_spec.png)"
   ]
  },
  {
   "cell_type": "markdown",
   "metadata": {
    "cell_id": "00045-10df0bc5-34b3-4977-b155-6f2c54070208",
    "deepnote_cell_type": "markdown",
    "tags": []
   },
   "source": [
    "### Let's try it out!\n",
    "\n",
    "In this notebook, we will learn how to graph a spectrogram using consecutive Fourier transforms using not only scipy, but also matplotlib.\n",
    "\n"
   ]
  },
  {
   "cell_type": "markdown",
   "metadata": {
    "cell_id": "00061-ad254d7b-ecdc-4c45-befb-8de5ba6c192c",
    "deepnote_cell_type": "markdown",
    "tags": []
   },
   "source": [
    "First, we have to import the libraries and packages necessary to begin our computations. We have to import specific packages from scipy as well as matplotlib in order to create the spectrogram. "
   ]
  },
  {
   "cell_type": "code",
   "execution_count": null,
   "metadata": {
    "cell_id": "00061-246fcd46-bd25-40d9-9781-082fadf1db15",
    "deepnote_cell_type": "code",
    "deepnote_to_be_reexecuted": false,
    "execution_millis": 705,
    "execution_start": 1618856287494,
    "source_hash": "69c21d39",
    "tags": []
   },
   "outputs": [],
   "source": [
    "from scipy import signal\n",
    "from scipy.fft import fftshift\n",
    "import matplotlib.pyplot as plt\n",
    "import numpy as np"
   ]
  },
  {
   "cell_type": "markdown",
   "metadata": {
    "cell_id": "00063-61851d72-cf72-4ce7-8375-592f52f2315c",
    "deepnote_cell_type": "markdown",
    "tags": []
   },
   "source": [
    "Next, let's walk through an example to create a simple spectrogram. This example is taken from the [scipy documentation page](https://docs.scipy.org/doc/scipy/reference/generated/scipy.signal.spectrogram.html)"
   ]
  },
  {
   "cell_type": "markdown",
   "metadata": {
    "cell_id": "00064-1178c639-d6c7-4532-ad2e-27866a3ce020",
    "deepnote_cell_type": "markdown",
    "tags": []
   },
   "source": [
    "The following code creates the test signal at a specific frequency that we will use in our spectrogram. "
   ]
  },
  {
   "cell_type": "code",
   "execution_count": null,
   "metadata": {
    "cell_id": "00046-6b9c8405-6c7b-4e93-a86f-e42d675fae01",
    "deepnote_cell_type": "code",
    "deepnote_to_be_reexecuted": false,
    "execution_millis": 27,
    "execution_start": 1618856288201,
    "source_hash": "9204445b",
    "tags": []
   },
   "outputs": [],
   "source": [
    "fs = 10e3\n",
    "N = 1e5\n",
    "amp = 2 * np.sqrt(2)\n",
    "noise_power = 0.01 * fs / 2\n",
    "time = np.arange(N) / float(fs)\n",
    "mod = 500*np.cos(2*np.pi*0.25*time)\n",
    "carrier = amp * np.sin(2*np.pi*3e3*time + mod)\n",
    "noise = np.random.normal(scale=np.sqrt(noise_power), size=time.shape)\n",
    "noise *= np.exp(-time/5)\n",
    "x = carrier + noise\n"
   ]
  },
  {
   "cell_type": "markdown",
   "metadata": {
    "cell_id": "00066-a514083d-5b54-49a9-817d-f97855370981",
    "deepnote_cell_type": "markdown",
    "tags": []
   },
   "source": [
    "The following code creates the plot, using using the package signal. \"signal.spectrogram \" computes the spectrogram points based on our frequency that we created above. It returns values for f, an array of sample frequencies, t, an array of time segments, and Sxx, a spectrogram of x. \n",
    "\n",
    "Then we use matplotlib to create the visualization."
   ]
  },
  {
   "cell_type": "code",
   "execution_count": null,
   "metadata": {
    "cell_id": "00065-a2059b34-6d4a-47ec-9975-684249569c1f",
    "deepnote_cell_type": "code",
    "deepnote_to_be_reexecuted": false,
    "execution_millis": 649,
    "execution_start": 1618856288229,
    "source_hash": "9d7a72d9",
    "tags": []
   },
   "outputs": [],
   "source": [
    "f, t, Sxx = signal.spectrogram(x, fs)\n",
    "plt.pcolormesh(t, f, Sxx, shading='gouraud')\n",
    "plt.ylabel('Frequency [Hz]')\n",
    "plt.xlabel('Time [sec]')\n",
    "plt.show()"
   ]
  },
  {
   "cell_type": "markdown",
   "metadata": {
    "cell_id": "00069-b366fe9a-48a0-46e4-afee-41bf438ce525",
    "deepnote_cell_type": "markdown",
    "tags": []
   },
   "source": [
    "We also can consider if output is not one-sided, then we will incorporate the fftshift into our computations. "
   ]
  },
  {
   "cell_type": "code",
   "execution_count": null,
   "metadata": {
    "cell_id": "00070-6a171cf2-adc3-494b-b4b3-4f0584719783",
    "deepnote_cell_type": "code",
    "deepnote_to_be_reexecuted": false,
    "execution_millis": 1002,
    "execution_start": 1618856288874,
    "source_hash": "245d495",
    "tags": []
   },
   "outputs": [],
   "source": [
    "f, t, Sxx = signal.spectrogram(x, fs, return_onesided=False)\n",
    "plt.pcolormesh(t, fftshift(f), fftshift(Sxx, axes=0), shading='gouraud')\n",
    "plt.ylabel('Frequency [Hz]')\n",
    "plt.xlabel('Time [sec]')\n",
    "plt.show()"
   ]
  },
  {
   "cell_type": "markdown",
   "metadata": {
    "cell_id": "00049-18bb0f83-08c8-42bf-ac1b-2d38c9285448",
    "deepnote_cell_type": "markdown",
    "tags": []
   },
   "source": [
    "Now we will implement the FFT on the accelerometer data set we worked with in the previous notebooks."
   ]
  },
  {
   "cell_type": "code",
   "execution_count": null,
   "metadata": {
    "cell_id": "00079-007bc658-2ad9-4f11-a99a-ed3f75d17bcb",
    "deepnote_cell_type": "code",
    "deepnote_to_be_reexecuted": false,
    "execution_millis": 4225,
    "execution_start": 1618856289869,
    "source_hash": "50b6f4a7",
    "tags": []
   },
   "outputs": [],
   "source": [
    "x = (np.array(sw_df_axes_reset[\"Global X\"]))\n",
    "fs = 10e3\n",
    "#what fs value do I put?\n",
    "f, t, Sxx = signal.spectrogram(x, fs)\n",
    "plt.pcolormesh(t, f, Sxx, shading='gouraud')\n",
    "plt.ylabel('Frequency [Hz]')\n",
    "plt.xlabel('Time [sec]')\n",
    "plt.show()"
   ]
  },
  {
   "cell_type": "code",
   "execution_count": null,
   "metadata": {
    "cell_id": "00080-b09bffdc-f41e-454a-84da-b10a36cc67ad",
    "deepnote_cell_type": "code",
    "deepnote_to_be_reexecuted": false,
    "execution_millis": 4177,
    "execution_start": 1618856294067,
    "source_hash": "2020f808",
    "tags": []
   },
   "outputs": [],
   "source": [
    "y = (np.array(sw_df_axes_reset[\"Global Y\"]))\n",
    "fs = 10e3\n",
    "#what fs value do I put?\n",
    "f, t, Sxx = signal.spectrogram(y, fs)\n",
    "plt.pcolormesh(t, f, Sxx, shading='gouraud')\n",
    "plt.ylabel('Frequency [Hz]')\n",
    "plt.xlabel('Time [sec]')\n",
    "plt.show()"
   ]
  },
  {
   "cell_type": "code",
   "execution_count": null,
   "metadata": {
    "cell_id": "00081-7d354bde-8dd2-4c2c-8678-1cc65983dd4e",
    "deepnote_cell_type": "code",
    "deepnote_to_be_reexecuted": false,
    "execution_millis": 4225,
    "execution_start": 1618856298230,
    "source_hash": "6286148a",
    "tags": []
   },
   "outputs": [],
   "source": [
    "z = (np.array(sw_df_axes_reset[\"Global Z\"]))\n",
    "fs = 10e3\n",
    "#what fs value do I put?\n",
    "f, t, Sxx = signal.spectrogram(z, fs)\n",
    "plt.pcolormesh(t, f, Sxx, shading='gouraud')\n",
    "plt.ylabel('Frequency [Hz]')\n",
    "plt.xlabel('Time [sec]')\n",
    "plt.show()"
   ]
  },
  {
   "cell_type": "markdown",
   "metadata": {
    "cell_id": "00009-6595bb4b-b93f-420f-ae96-836f4082f926",
    "deepnote_cell_type": "markdown",
    "tags": []
   },
   "source": [
    "<br>\n",
    "\n",
    "## Power Spectral Density (PSD)"
   ]
  },
  {
   "cell_type": "markdown",
   "metadata": {
    "cell_id": "00051-71016325-51e5-4301-b9f2-4d9553e53d8a",
    "deepnote_cell_type": "markdown",
    "tags": []
   },
   "source": [
    "Power Spectral Density (PSD) is a plot of signal's power content versus frequency. A PSD is typically used to characterize broadband random signals. \n",
    "\n",
    "Let's assume you are operating a factory with many machines and some of them have motors inside. You detect unwanted vibrations from somewhere. You might be able to get a clue to locate offending machines by looking at PSD which would give you frequencies of vibrations."
   ]
  },
  {
   "cell_type": "markdown",
   "metadata": {
    "cell_id": "00076-f0167b13-f4fc-4f56-827b-d7773112fc40",
    "deepnote_cell_type": "markdown",
    "tags": []
   },
   "source": [
    "![image info](Pictures/scipy_powerspectraldensity.png)"
   ]
  },
  {
   "cell_type": "markdown",
   "metadata": {
    "cell_id": "00049-4fd82260-3094-4b16-9589-72e30c17103e",
    "deepnote_cell_type": "markdown",
    "tags": []
   },
   "source": [
    "#### PSD in SciPy"
   ]
  },
  {
   "cell_type": "markdown",
   "metadata": {
    "cell_id": "00078-e4a3e87c-60eb-442c-b621-a9f2600fd785",
    "deepnote_cell_type": "markdown",
    "tags": []
   },
   "source": [
    "SciPy has various libraries that are able to compute and generate Power Spectral Density plots. In this section, we will be using the matplotlib library to visualize our graphs and scipy library to generate data for our power spectral density plots.\n",
    "\n",
    "We will start off by importing the appropriate libraries."
   ]
  },
  {
   "cell_type": "code",
   "execution_count": null,
   "metadata": {
    "cell_id": "00079-559dbcf2-b3e1-404b-91d9-f4b403ede378",
    "deepnote_cell_type": "code",
    "deepnote_to_be_reexecuted": false,
    "execution_millis": 3,
    "execution_start": 1618856302443,
    "source_hash": "64a89199",
    "tags": []
   },
   "outputs": [],
   "source": [
    "#Import the neccessary libraries.\n",
    "import numpy as np\n",
    "from scipy import signal\n",
    "import matplotlib.pyplot as plt"
   ]
  },
  {
   "cell_type": "markdown",
   "metadata": {
    "cell_id": "00080-d9949f8e-c72f-4bec-92cd-59806ec9cac7",
    "deepnote_cell_type": "markdown",
    "tags": []
   },
   "source": [
    "Next, we must generate data to be plotted onto our spectral power density plots. We will be plotting the following function: \n",
    "\n",
    "$$\n",
    "2* \\sqrt(2) * sin(2\\pi* frequency * time)\n",
    "$$\n",
    "\n",
    "We will also add random noise to the data."
   ]
  },
  {
   "cell_type": "code",
   "execution_count": null,
   "metadata": {
    "cell_id": "00079-aec7685a-9bc0-45b7-ac85-9478ea844016",
    "deepnote_cell_type": "code",
    "deepnote_to_be_reexecuted": false,
    "execution_millis": 12,
    "execution_start": 1618856302451,
    "source_hash": "4532f21d",
    "tags": []
   },
   "outputs": [],
   "source": [
    "fs = 10e3\n",
    "N = 1e5\n",
    "amp = 2*np.sqrt(2)\n",
    "freq = 1234.0\n",
    "noise_power = 0.001 * fs / 2\n",
    "time = np.arange(N) / fs\n",
    "x = amp*np.sin(2*np.pi*freq*time)\n",
    "x += np.random.normal(scale=np.sqrt(noise_power), size=time.shape)"
   ]
  },
  {
   "cell_type": "markdown",
   "metadata": {
    "cell_id": "00080-8a8f0bb5-1505-4e1b-ac24-a3fffeca0b87",
    "deepnote_cell_type": "markdown",
    "tags": []
   },
   "source": [
    "SciPy has the function \"signal.periodogram\" which estimates the power spectral density using a periodogram. A periodogram is an estimate of the spectral density of a signal. We will first generate a Spectral Power Density Plot using this function.\n",
    " \n",
    "Click [here](https://docs.scipy.org/doc/scipy/reference/generated/scipy.signal.periodogram.html) to learn more about the signal.periodogram function.\n",
    "\n",
    "In the next block of code, we will generate frequency and the values for the power spectral density by using \"signal.periodogram(array of data, frequency value)\". Afterwards, we can plot the data using Matplotlib's \"semilogy\" function."
   ]
  },
  {
   "cell_type": "code",
   "execution_count": null,
   "metadata": {
    "cell_id": "00080-87360b79-e107-4a13-9f96-a5cc3bb6222c",
    "deepnote_cell_type": "code",
    "deepnote_to_be_reexecuted": false,
    "execution_millis": 573,
    "execution_start": 1618856302468,
    "source_hash": "e9837f1a",
    "tags": []
   },
   "outputs": [],
   "source": [
    "#Generate Spectral Power Density using a Periodogram.\n",
    "frequencies, power_spectrum_vals = signal.periodogram(x, fs)\n",
    "plt.semilogy(frequencies, power_spectrum_vals)\n",
    "plt.ylim([1e-7, 1e2])\n",
    "plt.xlabel('frequency [Hz]')\n",
    "plt.ylabel('PSD [V**2/Hz]')\n",
    "plt.show()"
   ]
  },
  {
   "cell_type": "markdown",
   "metadata": {
    "cell_id": "00053-299f5444-f035-41c4-87e4-f18c33bed293",
    "deepnote_cell_type": "markdown",
    "tags": []
   },
   "source": [
    "SciPy has another function, \"welch\" which estimates a power spectral density using Welch's method. Welch's method computes this estimate by dividing the data into segments, computing a periodogram for each segment and then averaging the periodograms.\n",
    "\n",
    "Click [here](https://docs.scipy.org/doc/scipy/reference/generated/scipy.signal.welch.html) to learn more about the signal.periodogram function."
   ]
  },
  {
   "cell_type": "code",
   "execution_count": null,
   "metadata": {
    "cell_id": "00082-d706381b-b87b-472d-9d2c-58f65721df11",
    "deepnote_cell_type": "code",
    "deepnote_to_be_reexecuted": false,
    "execution_millis": 602,
    "execution_start": 1618856303038,
    "source_hash": "3cb1c35a",
    "tags": []
   },
   "outputs": [],
   "source": [
    "#Generate a Spectral Power Density using Welch's Method.\n",
    "frequencies, power_spectrum_vals = signal.welch(x, fs, 'flattop', 1024, scaling='spectrum')\n",
    "plt.semilogy(frequencies, np.sqrt(power_spectrum_vals))\n",
    "plt.xlabel('frequency [Hz]')\n",
    "plt.ylabel('Linear spectrum [V RMS]')\n",
    "plt.show()"
   ]
  },
  {
   "cell_type": "markdown",
   "metadata": {
    "cell_id": "00091-da94fbd4-2b60-4763-aabe-4563c968a5e1",
    "deepnote_cell_type": "markdown",
    "tags": []
   },
   "source": [
    "#### **Implementing Power Density on Accelerometers DataSet**"
   ]
  },
  {
   "cell_type": "code",
   "execution_count": null,
   "metadata": {
    "cell_id": "00094-dfe4a901-beb6-42a5-9cd5-65f12c6f2c35",
    "deepnote_cell_type": "code",
    "deepnote_to_be_reexecuted": false,
    "execution_millis": 1371,
    "execution_start": 1618857397068,
    "source_hash": "15891e35",
    "tags": []
   },
   "outputs": [],
   "source": [
    "pd.read_csv('sather-tower-files/NorthEast.csv')"
   ]
  },
  {
   "cell_type": "code",
   "execution_count": null,
   "metadata": {
    "cell_id": "00097-91749e7d-e589-4066-82fa-8668b21cf834",
    "deepnote_cell_type": "code",
    "deepnote_to_be_reexecuted": false,
    "execution_millis": 0,
    "execution_start": 1618857391923,
    "source_hash": "25b157cd",
    "tags": []
   },
   "outputs": [],
   "source": [
    "np.abs(5)"
   ]
  },
  {
   "cell_type": "markdown",
   "metadata": {
    "cell_id": "00098-53d516c6-6d00-4a37-b4ec-b99911ee7591",
    "deepnote_cell_type": "markdown",
    "tags": []
   },
   "source": [
    "<br>\n",
    "\n",
    "## Bibliography\n",
    "\n",
    "Notebooks Developed By: Abdoul Aziz Sandotin, Arda Ulug, Karalyn Chong, Priscilla Zhang, Salvador Ramirez Jr."
   ]
  }
 ],
 "metadata": {
  "deepnote": {},
  "deepnote_execution_queue": [],
  "deepnote_notebook_id": "a8ec03ea-f36b-4066-988a-56b2484f6c5a",
  "kernelspec": {
   "display_name": "Python 3",
   "language": "python",
   "name": "python3"
  },
  "language_info": {
   "codemirror_mode": {
    "name": "ipython",
    "version": 3
   },
   "file_extension": ".py",
   "mimetype": "text/x-python",
   "name": "python",
   "nbconvert_exporter": "python",
   "pygments_lexer": "ipython3",
   "version": "3.7.4"
  }
 },
 "nbformat": 4,
 "nbformat_minor": 2
}
