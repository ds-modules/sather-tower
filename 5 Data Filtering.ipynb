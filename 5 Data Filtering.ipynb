{
 "cells": [
  {
   "cell_type": "markdown",
   "metadata": {
    "cell_id": "00001-4bb1813f-5bad-4647-8200-776070d53331",
    "deepnote_cell_type": "markdown",
    "tags": []
   },
   "source": [
    "# Data Filtering"
   ]
  },
  {
   "cell_type": "markdown",
   "metadata": {
    "cell_id": "00001-e08b182f-353b-40e4-ba27-5a1c04f89c29",
    "deepnote_cell_type": "markdown",
    "tags": []
   },
   "source": [
    "**Welcome to the fifth notebook in this series!**\n",
    "\n",
    "In this notebook, we will explain data filtering. Data filtering is the process of removing unwanted data, or noise from the data set. For our particular data set, we will be filtering out frequencies that result from the environment, such as frequencies from typical movememt of the Campanile, tremors casued by the elevators running, etc. This is an important step in the data interpretation process becuase it allows us to have a clear look at a specific aspect of the data without having to look at the other noise that we are not interested in. \n",
    "\n",
    "Before we begin the process of data filtering, let's import the necessary packages and define a few important terms below."
   ]
  },
  {
   "cell_type": "code",
   "execution_count": null,
   "metadata": {
    "cell_id": "00001-d5f8d34b-fc2b-4c1e-9534-3427148c8237",
    "deepnote_cell_type": "code",
    "deepnote_to_be_reexecuted": false,
    "execution_millis": 336,
    "execution_start": 1626980676001,
    "source_hash": "35374e32",
    "tags": []
   },
   "outputs": [],
   "source": [
    "import numpy as np\n",
    "import pandas as pd\n",
    "import matplotlib.pyplot as plt"
   ]
  },
  {
   "cell_type": "markdown",
   "metadata": {
    "cell_id": "00003-db86ce79-3385-4b92-b15d-1a8a5020b313",
    "deepnote_cell_type": "markdown",
    "tags": []
   },
   "source": [
    "### Terminologies"
   ]
  },
  {
   "cell_type": "markdown",
   "metadata": {
    "cell_id": "00004-43909f7d-13b7-41ce-8579-adfcce3c082d",
    "deepnote_cell_type": "markdown",
    "tags": []
   },
   "source": [
    "**The order of the filter** : The degree of the approximating polynomial (increasing order increases roll-off and brings the filter closer to the ideal response)."
   ]
  },
  {
   "cell_type": "markdown",
   "metadata": {
    "cell_id": "00005-a8646678-6dcd-48e8-bc02-c496c8f49626",
    "deepnote_cell_type": "markdown",
    "tags": []
   },
   "source": [
    "**Cutoff frequency**: The frequency beyond which the filter will not pass a signal."
   ]
  },
  {
   "cell_type": "markdown",
   "metadata": {
    "cell_id": "00002-eb5cd0c5-b2dd-4a66-ab80-0bf465d17feb",
    "deepnote_cell_type": "markdown",
    "tags": []
   },
   "source": [
    "### Types of Data Filters"
   ]
  },
  {
   "cell_type": "markdown",
   "metadata": {
    "cell_id": "00003-8b264b6c-1b78-41d9-9139-a1deeb80d865",
    "deepnote_cell_type": "markdown",
    "tags": []
   },
   "source": [
    "Remember that a filter removes unwanted frequencies so that certain frequencies can \"pass\" through and other frequencies can be reduced. There are many different types of data filters; we list a few of them below: "
   ]
  },
  {
   "cell_type": "markdown",
   "metadata": {
    "cell_id": "00006-ce52ef42-803e-4feb-ade6-d0547bfa950e",
    "deepnote_cell_type": "markdown",
    "tags": []
   },
   "source": [
    "##### Low-pass filter\n",
    "<img src=\"Pictures/Low-pass.png\" width=250> \n",
    "\n",
    "In a low-pass filter, higher frequencies past a certain cutoff frequency are attenuated and **lower frequencies pass through.** "
   ]
  },
  {
   "cell_type": "markdown",
   "metadata": {
    "cell_id": "00007-8d92c516-4364-42b2-be72-865273096506",
    "deepnote_cell_type": "markdown",
    "tags": []
   },
   "source": [
    "##### High-pass filter\n",
    "<img src=\"Pictures/High-pass.png\" width=250>\n",
    "\n",
    "In a high-pass filter, lower frequencies past a certain cutoff frequency are attenuated and **higher frequencies pass through.** "
   ]
  },
  {
   "cell_type": "markdown",
   "metadata": {
    "cell_id": "00008-a0d7602b-e974-469e-8e98-f20833054d0b",
    "deepnote_cell_type": "markdown",
    "tags": []
   },
   "source": [
    "##### Band-pass filter\n",
    "<img src=\"Pictures/Band-pass.png\" width=250>\n",
    "\n",
    "In a band-pass filter, frequencies in a certain range pass through, and frequencies outside this range are attenuated."
   ]
  },
  {
   "cell_type": "markdown",
   "metadata": {
    "cell_id": "00006-a7fcdf11-6917-49bc-87a3-f3a58ad81ebb",
    "deepnote_cell_type": "markdown",
    "tags": []
   },
   "source": [
    "<br>\n",
    "\n",
    "### Python Libraries"
   ]
  },
  {
   "cell_type": "markdown",
   "metadata": {
    "cell_id": "00013-84b98677-18b5-4340-bb3f-9be883ada5f4",
    "deepnote_cell_type": "markdown",
    "tags": []
   },
   "source": [
    "The Butterworth filter is a signal processing filter that keeps the frequency responses as flat as possible in the passband, which is the range of accepted frequencies. In other words, the Butterworth filter helps to create a smooth, ripple free, frequency response. This is useful for motions and audio analysis because it helps to limit distortion from outside environment. \n",
    "\n",
    "The Butterworth filter can be can be applied through the Scipy library. \n",
    "\n",
    "Read more about the documentation [here](https://docs.scipy.org/doc/scipy/reference/generated/scipy.signal.butter.html)\n",
    "\n",
    "<br><br>\n",
    "![image info](Pictures/Butterworth_documentation.png)"
   ]
  },
  {
   "cell_type": "markdown",
   "metadata": {
    "cell_id": "00013-fdddbddb-b8c0-48c7-afbf-0fd3dbb9870e",
    "deepnote_cell_type": "markdown",
    "tags": []
   },
   "source": [
    "<br>\n",
    "\n",
    "### Intro to Filtering"
   ]
  },
  {
   "cell_type": "markdown",
   "metadata": {
    "cell_id": "00015-b4e00fd3-e818-4dba-b807-d2f2fed4ece1",
    "deepnote_cell_type": "markdown",
    "tags": []
   },
   "source": [
    "Let's go over how to filter data using scipy, which you used in the previous notebook! The module within scipy that deals with filter is signal, so let's import it below."
   ]
  },
  {
   "cell_type": "code",
   "execution_count": null,
   "metadata": {
    "cell_id": "00016-ac419fb1-59d7-46d1-864d-0f9a96858222",
    "deepnote_cell_type": "code",
    "deepnote_to_be_reexecuted": false,
    "execution_millis": 623,
    "execution_start": 1626980676345,
    "source_hash": "e6a10c57",
    "tags": []
   },
   "outputs": [],
   "source": [
    "from scipy import signal"
   ]
  },
  {
   "cell_type": "markdown",
   "metadata": {
    "cell_id": "00017-b6452331-ee30-4308-a2f1-6ac9217e4460",
    "deepnote_cell_type": "markdown",
    "tags": []
   },
   "source": [
    "To successfully implement any of the filters mentioned above, we will need to make use of **signal.butter** and **signal.filtfilt**.\n",
    "\n",
    "**Signal.butter** takes in the order of the filter, the cutoff frequency, and the type of filter. It then returns an array [numerator, denominator] representing the filter coefficients to be used in signal.filtfilt. \n",
    "\n",
    "The cutoff frequency is (frequency / Nyquist frequency), where the Nyquist frequency is half of the sampling frequency of our data. \n",
    "\n",
    "**Signal.filtfilt** takes in the two coefficients returned from signal.butter and applies a digital filter twice to the data given. The filter is applied twice in opposite directions (forwards and backwards) to succesffuly align our input data and the filtered data. \n",
    "\n",
    "This may be confusing after the first read, but as we go over more examples and get familiar with how to use data filters in our specific context, things wil hopefully become clearer! Let's now create a signal using a combination of sin and cos, plot it, and implement a lowpass filter before moving on to our dataset."
   ]
  },
  {
   "cell_type": "code",
   "execution_count": null,
   "metadata": {
    "cell_id": "00017-7669e96b-9f38-482d-9651-c512ebedb8b3",
    "deepnote_cell_type": "code",
    "deepnote_to_be_reexecuted": false,
    "execution_millis": 7,
    "execution_start": 1626980676976,
    "source_hash": "626fd17e",
    "tags": []
   },
   "outputs": [],
   "source": [
    "# example from https://www.kite.com/python/answers/how-to-create-a-low-pass-filter-in-python\n",
    "order = 5\n",
    "sampling_freq = 30\n",
    "nqf = sampling_freq / 2 # Nyquist frequency\n",
    "frequency = 4\n",
    "sampling_duration = 5\n",
    "number_of_samples = sampling_freq * sampling_duration\n",
    "cutoff_frequency = frequency / nqf"
   ]
  },
  {
   "cell_type": "markdown",
   "metadata": {
    "cell_id": "00018-3167fed5-6aa8-4ab7-822c-5a0778d2fd4d",
    "deepnote_cell_type": "markdown",
    "tags": []
   },
   "source": [
    "Above, we set some arbitrary values for numbers that we will use to create a **lowpass filter**. If we wanted, we could change the order of the filter, the sampling frequency, and the sampling duration with no difficulty. The sampling frequency is the number of samples collected over a certain period of time, usually a second. \n",
    "\n",
    "It is *not* particularly important to know exactly what the order of the filter is or how to find it, just as it is not necessary to know why the nyquist frequency is simply half of the sampling frequency. However, hopefully the names make sense and the bit of calculation needed is not too difficult.   "
   ]
  },
  {
   "cell_type": "code",
   "execution_count": null,
   "metadata": {
    "cell_id": "00018-6d8b60ef-59cb-47e4-b3c1-755af788418e",
    "deepnote_cell_type": "code",
    "deepnote_to_be_reexecuted": false,
    "execution_millis": 228,
    "execution_start": 1626980676994,
    "source_hash": "dcb63c8f",
    "tags": []
   },
   "outputs": [],
   "source": [
    "time = np.linspace(0, sampling_duration, number_of_samples, endpoint=False)\n",
    "signalPlot = np.sin(2*np.pi*time) + 0.5*np.cos(6*2*np.pi*time) + 1.5*np.sin(9*2*np.pi*time)\n",
    "\n",
    "\n",
    "# Look above to see what butter and filtfilt take in!\n",
    "b, a = signal.butter(order, cutoff_frequency, \"lowpass\")\n",
    "filtered_signal = signal.filtfilt(b, a, signalPlot)\n",
    "\n",
    "f = plt.figure(figsize = (10, 3))\n",
    "plt.plot(time, signalPlot)\n",
    "plt.plot(time, filtered_signal)"
   ]
  },
  {
   "cell_type": "markdown",
   "metadata": {
    "cell_id": "00020-4190cd57-8b08-4e03-a068-549c02014d45",
    "deepnote_cell_type": "markdown",
    "tags": []
   },
   "source": [
    "The first two lines of the code above are not necessary to understand. Basically, np.linspace returns evenly spaced numbers over a specific interval, which we then used to create an oscillating graph in the second line. Once again, changing values produces a different graph!\n",
    "\n",
    "Using the values we have collected and the information learned in the *Intro to Filtering* section, we can use *signal.butter* and *signal.filtfilt* to perform a low-pass filter. "
   ]
  },
  {
   "cell_type": "markdown",
   "metadata": {
    "cell_id": "00004-9e9c4b00-8833-432a-afa3-1e13e1d94a10",
    "deepnote_cell_type": "markdown",
    "tags": []
   },
   "source": [
    "### Implementing a Filter"
   ]
  },
  {
   "cell_type": "markdown",
   "metadata": {
    "cell_id": "00016-190f156e-14e8-4302-865b-7db7a86e8793",
    "deepnote_cell_type": "markdown",
    "tags": []
   },
   "source": [
    "Let's take a look at implementing a low-pass filter on the NorthWest and SouthEast data subsets from 400 seconds to 407 seconds. Remember, a low-pass filter low frequencies pass through, while those past a certain point are reduced."
   ]
  },
  {
   "cell_type": "code",
   "execution_count": null,
   "metadata": {
    "cell_id": "00016-771dc699-07f2-4b54-80d7-be8ee650a918",
    "deepnote_cell_type": "code",
    "deepnote_to_be_reexecuted": false,
    "execution_millis": 854,
    "execution_start": 1626980677211,
    "source_hash": "c6c58d1b",
    "tags": []
   },
   "outputs": [],
   "source": [
    "# NORTH WEST DATA\n",
    "\n",
    "#import data\n",
    "nw_df_original = pd.read_csv('sather-tower-files/NorthWest.csv')\n",
    "\n",
    "#take subset of data\n",
    "nw_last_bell = nw_df_original.set_index('Sample No.')\n",
    "nw_last_bell = nw_last_bell[(nw_last_bell['time[sec]'] >= 400) & (nw_last_bell['time[sec]'] < 407)]\n",
    "\n",
    "#normalize data\n",
    "nw_last_bell['Ax[mG]'] = nw_last_bell['Ax[mG]']-nw_last_bell['Ax[mG]'].iloc[0]\n",
    "nw_last_bell['Ay[mG]'] = nw_last_bell['Ay[mG]']-nw_last_bell['Ay[mG]'].iloc[0]\n",
    "nw_last_bell['Az[mG]'] = nw_last_bell['Az[mG]']-nw_last_bell['Az[mG]'].iloc[0]\n",
    "\n",
    "#resetting axis \n",
    "nw_last_bell[\"Global X\"] = nw_last_bell[\"Az[mG]\"]\n",
    "nw_last_bell[\"Global Y\"] =  -1 * nw_last_bell[\"Ay[mG]\"]\n",
    "nw_last_bell[\"Global Z\"] = nw_last_bell[\"Ax[mG]\"]\n",
    "nw_last_bell_clean = nw_last_bell[['time[sec]', 'Global X', 'Global Y', 'Global Z', 'ATotal[mG]', 'Ts[deg.C]']]"
   ]
  },
  {
   "cell_type": "code",
   "execution_count": null,
   "metadata": {
    "cell_id": "00018-60023ed4-cd48-41d6-9c31-75a4cfcd77f7",
    "deepnote_cell_type": "code",
    "deepnote_to_be_reexecuted": false,
    "execution_millis": 1098,
    "execution_start": 1626980678074,
    "source_hash": "5985f333",
    "tags": []
   },
   "outputs": [],
   "source": [
    "# SOUTH EAST DATA\n",
    "\n",
    "#import data\n",
    "se_df_original = pd.read_csv('sather-tower-files/SouthEast.csv')\n",
    "\n",
    "#take subset of data\n",
    "se_last_bell = se_df_original.set_index('Sample No.')\n",
    "se_last_bell = se_last_bell[(se_last_bell['time[sec]'] >= 400) & (se_last_bell['time[sec]'] < 407)]\n",
    "\n",
    "#normalize data\n",
    "se_last_bell['Ax[mG]'] = se_last_bell['Ax[mG]']-se_last_bell['Ax[mG]'].iloc[0]\n",
    "se_last_bell['Ay[mG]'] = se_last_bell['Ay[mG]']-se_last_bell['Ay[mG]'].iloc[0]\n",
    "se_last_bell['Az[mG]'] = se_last_bell['Az[mG]']-se_last_bell['Az[mG]'].iloc[0]\n",
    "\n",
    "#resetting axis \n",
    "se_last_bell[\"Global X\"] = se_last_bell[\"Az[mG]\"]\n",
    "se_last_bell[\"Global Y\"] =  -1 * se_last_bell[\"Ay[mG]\"]\n",
    "se_last_bell[\"Global Z\"] = se_last_bell[\"Ax[mG]\"]\n",
    "se_last_bell_clean = se_last_bell[['time[sec]', 'Global X', 'Global Y', 'Global Z', 'ATotal[mG]', 'Ts[deg.C]']]"
   ]
  },
  {
   "cell_type": "markdown",
   "metadata": {
    "cell_id": "00026-f1f1acd1-ae96-46d5-a497-fcfc3bb679ed",
    "deepnote_cell_type": "markdown",
    "tags": []
   },
   "source": [
    "In the Visualizations Notebook, you learned how to graph the data above and worked with it in great detail. You may have noticed much of the code to graph the data was repeated, so let's create a function to limit the number of lines of code we need to write. \n",
    "\n",
    "The function **graphData** takes in 3 parameters: the dataset (*NW, NE, SW, SE*), the yLabel(*Global X, Global Y, Global Z*), and the Title of the graph. Let's use this function to remember what the unfiltered data looks like. "
   ]
  },
  {
   "cell_type": "code",
   "execution_count": null,
   "metadata": {
    "cell_id": "00025-43a5f1e6-1645-402f-badf-d3489bfca4c5",
    "deepnote_cell_type": "code",
    "deepnote_to_be_reexecuted": false,
    "execution_millis": 1826,
    "execution_start": 1626980679174,
    "source_hash": "ebf60aac",
    "tags": []
   },
   "outputs": [],
   "source": [
    "def graphData(dataset, yLabel, Title):\n",
    "    f = plt.figure(figsize = (15, 5))\n",
    "    plt.plot(dataset[\"time[sec]\"], dataset[yLabel])\n",
    "    plt.axhline(y=0, color='r', linestyle='--')\n",
    "    plt.ylabel(yLabel, fontsize = 12)\n",
    "    plt.xlabel(\"time[sec]\", fontsize = 12)\n",
    "    plt.title(Title, fontsize =15)\n",
    "\n",
    "graphData(nw_last_bell_clean, \"Global X\", \"NorthWest\")\n",
    "graphData(nw_last_bell_clean, \"Global Y\", \"NorthWest\")\n",
    "graphData(nw_last_bell_clean, \"Global Z\", \"NorthWest\")\n",
    "graphData(se_last_bell_clean, \"Global X\", \"SouthEast\")\n",
    "graphData(se_last_bell_clean, \"Global Y\", \"SouthEast\")\n",
    "graphData(se_last_bell_clean, \"Global Z\", \"SouthEast\")"
   ]
  },
  {
   "cell_type": "code",
   "execution_count": null,
   "metadata": {
    "cell_id": "00027-d8c67fc7-43db-453b-89ae-f00cafd99f2a",
    "deepnote_cell_type": "code",
    "deepnote_to_be_reexecuted": false,
    "execution_millis": 26,
    "execution_start": 1626980681046,
    "source_hash": "8e7fecf2",
    "tags": []
   },
   "outputs": [],
   "source": [
    "nw_last_bell_clean.head()"
   ]
  },
  {
   "cell_type": "markdown",
   "metadata": {
    "cell_id": "00027-3c52bc62-5b59-4fb1-9239-cd2dcbbd40fb",
    "deepnote_cell_type": "markdown",
    "tags": []
   },
   "source": [
    "We're ready to use a low-pass filter on our main dataset!\n",
    "\n",
    "As you can see in the table above, there was a data point being collected every .002 seconds. Can you guess what the sampling frequency is? \n",
    "\n",
    "**Hint**: If we collected a data point every .5 seconds, the sampling frequency would be 2...What is 1 divided by 0.5?"
   ]
  },
  {
   "cell_type": "code",
   "execution_count": null,
   "metadata": {
    "cell_id": "00019-49049f96-667f-4870-889e-453e4972dffe",
    "deepnote_cell_type": "code",
    "deepnote_to_be_reexecuted": false,
    "execution_millis": 715,
    "execution_start": 1626980681078,
    "source_hash": "a0f9c01d",
    "tags": []
   },
   "outputs": [],
   "source": [
    "sf = 500 # Sampling frequency\n",
    "nqf = sf / 2 # Nyquist frequency (nqf = fs/2)\n",
    "f = 4 \n",
    "cutoff_frequency = f/(nqf)  \n",
    "order = 3\n",
    "b, a = signal.butter(3, cutoff_frequency, \"lowpass\")\n",
    "\n",
    "filteredNorthWestX = signal.filtfilt(b, a, nw_last_bell_clean[\"Global X\"])\n",
    "f = plt.figure(figsize = (15, 3))\n",
    "plt.plot(nw_last_bell_clean[\"time[sec]\"].values, filteredNorthWestX, color = \"red\")\n",
    "plt.title(\"NorthWest Filtered\", fontsize =15)\n",
    "\n",
    "filteredNorthWestY = signal.filtfilt(b, a, nw_last_bell_clean[\"Global Y\"])\n",
    "f = plt.figure(figsize = (15, 3))\n",
    "plt.plot(nw_last_bell_clean[\"time[sec]\"].values, filteredNorthWestY, color = \"red\")\n",
    "\n",
    "filteredNorthWestZ = signal.filtfilt(b, a, nw_last_bell_clean[\"Global Z\"])\n",
    "f = plt.figure(figsize = (15, 3))\n",
    "plt.plot(nw_last_bell_clean[\"time[sec]\"].values, filteredNorthWestZ, color = \"red\")"
   ]
  },
  {
   "cell_type": "markdown",
   "metadata": {
    "cell_id": "00030-7742ad66-795c-44f9-8a7b-5fa244ac3b49",
    "deepnote_cell_type": "markdown",
    "tags": []
   },
   "source": [
    "Now that we have the filtered data, let's see what it looks like when layered over the original data!"
   ]
  },
  {
   "cell_type": "code",
   "execution_count": null,
   "metadata": {
    "cell_id": "00021-210acec5-ebc4-4e2a-95f6-66c4ce29f915",
    "deepnote_cell_type": "code",
    "deepnote_to_be_reexecuted": false,
    "execution_millis": 820,
    "execution_start": 1626980681795,
    "source_hash": "e9585f9",
    "tags": []
   },
   "outputs": [],
   "source": [
    "graphData(nw_last_bell_clean, \"Global X\", \"NorthWest\")\n",
    "plt.plot(nw_last_bell_clean[\"time[sec]\"].values, filteredNorthWestX, color = \"red\")\n",
    "\n",
    "graphData(nw_last_bell_clean, \"Global Y\", \"NorthWest\")\n",
    "plt.plot(nw_last_bell_clean[\"time[sec]\"].values, filteredNorthWestY, color = \"red\")\n",
    "\n",
    "graphData(nw_last_bell_clean, \"Global Z\", \"NorthWest\")\n",
    "plt.plot(nw_last_bell_clean[\"time[sec]\"].values, filteredNorthWestZ, color = \"red\")"
   ]
  },
  {
   "cell_type": "code",
   "execution_count": null,
   "metadata": {
    "cell_id": "00020-fd9418dd-3d1c-424f-a8d5-bbed5b4cf70d",
    "deepnote_cell_type": "code",
    "deepnote_to_be_reexecuted": false,
    "execution_millis": 699,
    "execution_start": 1626980682620,
    "source_hash": "328cc441",
    "tags": []
   },
   "outputs": [],
   "source": [
    "sf = 500 # we collected a datapoint every .002 seconds, meaning every second we collected 500 samples\n",
    "f = 4 \n",
    "cutoff_frequency = f/(sf/2) # Nyquist frequency nqf = fs/2\n",
    "order = 3\n",
    "b, a = signal.butter(3, cutoff_frequency, \"lowpass\")\n",
    "\n",
    "FilteredSouthEastX = signal.filtfilt(b, a, se_last_bell_clean[\"Global X\"])\n",
    "f = plt.figure(figsize = (15, 3))\n",
    "plt.plot(se_last_bell_clean[\"time[sec]\"].values, FilteredSouthEastX, color = \"red\")\n",
    "plt.title(\"SouthEast Filtered\", fontsize =15)\n",
    "\n",
    "FilteredSouthEastY = signal.filtfilt(b, a, se_last_bell_clean[\"Global Y\"])\n",
    "f = plt.figure(figsize = (15, 3))\n",
    "plt.plot(se_last_bell_clean[\"time[sec]\"].values, FilteredSouthEastY, color = \"red\")\n",
    "\n",
    "FilteredSouthEastZ = signal.filtfilt(b, a, se_last_bell_clean[\"Global Z\"])\n",
    "f = plt.figure(figsize = (15, 3))\n",
    "plt.plot(se_last_bell_clean[\"time[sec]\"].values, FilteredSouthEastZ, color = \"red\")"
   ]
  },
  {
   "cell_type": "code",
   "execution_count": null,
   "metadata": {
    "cell_id": "00023-5a22d1c9-f7a4-4174-870a-8daae1820250",
    "deepnote_cell_type": "code",
    "deepnote_to_be_reexecuted": false,
    "execution_millis": 962,
    "execution_start": 1626980683367,
    "source_hash": "9239b69",
    "tags": []
   },
   "outputs": [],
   "source": [
    "graphData(se_last_bell_clean, \"Global X\", \"SouthEast\")\n",
    "plt.plot(se_last_bell_clean[\"time[sec]\"].values, FilteredSouthEastX, color = \"red\")\n",
    "\n",
    "graphData(se_last_bell_clean, \"Global Y\", \"SouthEast\")\n",
    "plt.plot(se_last_bell_clean[\"time[sec]\"].values, FilteredSouthEastY, color = \"red\")\n",
    "\n",
    "graphData(se_last_bell_clean, \"Global Z\", \"SouthEast\")\n",
    "plt.plot(se_last_bell_clean[\"time[sec]\"].values, FilteredSouthEastZ, color = \"red\")"
   ]
  },
  {
   "cell_type": "markdown",
   "metadata": {
    "cell_id": "00029-ba2b9757-f1c3-4b85-8f2e-d6192cedfd76",
    "deepnote_cell_type": "markdown",
    "tags": []
   },
   "source": [
    "## Bibliography\n",
    "\n",
    "Notebooks Developed By: Abdoul Aziz Sandotin, Arda Ulug, Karalyn Chong, Priscilla Zhang, Salvador Ramirez Jr."
   ]
  }
 ],
 "metadata": {
  "deepnote": {},
  "deepnote_execution_queue": [],
  "deepnote_notebook_id": "6171abe5-bf85-4e82-a378-3a3e13dd1b2a",
  "kernelspec": {
   "display_name": "Python 3",
   "language": "python",
   "name": "python3"
  },
  "language_info": {
   "codemirror_mode": {
    "name": "ipython",
    "version": 3
   },
   "file_extension": ".py",
   "mimetype": "text/x-python",
   "name": "python",
   "nbconvert_exporter": "python",
   "pygments_lexer": "ipython3",
   "version": "3.7.4"
  }
 },
 "nbformat": 4,
 "nbformat_minor": 2
}
